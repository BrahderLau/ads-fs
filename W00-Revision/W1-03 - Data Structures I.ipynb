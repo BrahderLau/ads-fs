{
 "cells": [
  {
   "cell_type": "markdown",
   "metadata": {},
   "source": [
    "# Module P03: Data Structures I (List, Tuples)"
   ]
  },
  {
   "cell_type": "markdown",
   "metadata": {},
   "source": [
    "* [List](#List)\n",
    "* [Tuples](#Tuples)\n",
    "\n",
    "\n",
    "## List \n",
    "\n",
    "Today, we're going to introduce the **list** data type, and\n",
    "lists are much more powerful than strings, so whereas for a string, all of the elements had to be characters, in a list, the elements can be anything we want. They could be characters. They could be strings. They could be numbers. They could also be other lists.\n",
    "\n",
    "Like a string, a **list** is a sequence of values. In a string, the values are characters; in a list, they can be any type. The values in list are called **elements** or sometimes **items**.\n",
    "\n",
    "List elements are written within square brackets [ ]. Square brackets [ ] access data, with the first element at index 0.  Many of the operations defined above for strings also apply to lists. So it can be convenient to think of a string simply as a list of characters."
   ]
  },
  {
   "cell_type": "code",
   "execution_count": null,
   "metadata": {},
   "outputs": [],
   "source": [
    "colors = ['red', 'blue', 'green']\n",
    "print(colors[0])\n",
    "print(colors[1])\n",
    "print(colors[2])\n",
    "\n"
   ]
  },
  {
   "cell_type": "code",
   "execution_count": null,
   "metadata": {},
   "outputs": [],
   "source": [
    "print('red' in colors)\n",
    "print('black' in colors)\n",
    "\n",
    "### Different data types within a list\n",
    "numbers = [5, 4, 3, 2, 1, 'hello', 2.3]    # in a list, we can have a mix of integer, floats, even strings\n",
    "print(len(numbers))\n",
    "\n",
    "### Nested list\n",
    "list_of_lists = [[1,2,3],[4,5,6],[7,8,9]]\n",
    "print(list_of_lists)\n",
    "print(list_of_lists[0][2])          # figure out what do this index numbers represent\n",
    "\n",
    "\n",
    "### Empty list\n",
    "c = []"
   ]
  },
  {
   "cell_type": "markdown",
   "metadata": {},
   "source": [
    "**Quick Exercise 1** We have a nested list containing the countries, capital city and population (in millions). Try to print each country with its population.  "
   ]
  },
  {
   "cell_type": "code",
   "execution_count": null,
   "metadata": {},
   "outputs": [],
   "source": [
    "# Nested Lists Example, let's use population (millions). \n",
    "countries = [['China','Beijing', 1396],\n",
    "             ['India','Delhi',1365],\n",
    "             ['Malaysia','Kuala Lumpur',31]]\n",
    "\n",
    "\n",
    "# Expected output: Population of China: 1386 millions \n",
    "print(\"Population of \", countries[0][0], \": \", countries[0][2], \" millions\")\n",
    "\n"
   ]
  },
  {
   "cell_type": "code",
   "execution_count": null,
   "metadata": {},
   "outputs": [],
   "source": [
    "# Assignment with an = on lists does not make a copy. \n",
    "# Instead, assignment makes the two variables \n",
    "# point to the one list in memory.\n",
    "a = [1,2,3,5,6]\n",
    "b = a\n",
    "print(a)\n",
    "print(b)\n",
    "\n",
    "# changes on a reflect on the other copy as well\n",
    "a.append(0)\n",
    "print(a)\n",
    "print(b)\n",
    "\n",
    "a[0] = 2\n",
    "print(a)\n",
    "print(b)\n",
    "\n",
    "# unles a is pointed to a new object with a new id\n",
    "a = [1,2]\n",
    "print(a)\n",
    "print(b)\n",
    "\n",
    "# Note: The above is true for all objects in Python, not only lists."
   ]
  },
  {
   "cell_type": "markdown",
   "metadata": {},
   "source": [
    "### Mutability"
   ]
  },
  {
   "cell_type": "code",
   "execution_count": null,
   "metadata": {},
   "outputs": [],
   "source": [
    "# A big difference is strings can't mutate - they can't change the existing object.\n",
    "s = 'Hello'\n",
    "print((s + '!'))\n",
    "print(s)\n",
    "print((s[0]))\n",
    "\n",
    "#String is immutable\n",
    "#s[0] = \"Y\"\n"
   ]
  },
  {
   "cell_type": "code",
   "execution_count": null,
   "metadata": {},
   "outputs": [],
   "source": [
    "# But Lists are mutable: once an object is mutable, then we\n",
    "# have to worry about other variables that might\n",
    "# refer to the same object. \n",
    "p = ['H','e','l','l','o']\n",
    "q = p\n",
    "p[0] = 'Y'\n",
    "print(q)"
   ]
  },
  {
   "cell_type": "code",
   "execution_count": null,
   "metadata": {},
   "outputs": [],
   "source": [
    "# Assignment with an = on lists does not make a copy. \n",
    "# Instead, assignment makes the two variables \n",
    "# point to the one list in memory.\n",
    "num = [4,5,6,8,9]\n",
    "b = num\n",
    "print (num)\n",
    "num.append(0)\n",
    "print(num)\n",
    "print(b)"
   ]
  },
  {
   "cell_type": "markdown",
   "metadata": {},
   "source": [
    "### List Methods\n",
    "Here's a list of useful methods (no pun intended!) for list objects:\n",
    "\n",
    "- list.append(elem) -- adds a single element to the end of the list. Common error: does not return the new list, just modifies the original.\n",
    "- list.insert(index, elem) -- inserts the element at the given index, shifting elements to the right.\n",
    "- list.extend(list2) adds the elements in list2 to the end of the list. Using + or += on a list is similar to using extend().\n",
    "- list.index(elem) -- searches for the given element from the start of the list and returns its index. Throws a ValueError if the element does not appear (use \"in\" to check without a ValueError).\n",
    "- list.remove(elem) -- searches for the first instance of the given element and removes it (throws ValueError if not present)\n",
    "- list.sort() -- sorts the list in place (does not return it).\n",
    "- sorted(list) -- return sorted list but keeps the original order of the list\n",
    "- list.reverse() -- reverses the list in place (does not return it)\n",
    "- list.pop(index) -- removes and returns the element at the given index. Returns the rightmost element if index is omitted (roughly the opposite of append())."
   ]
  },
  {
   "cell_type": "code",
   "execution_count": null,
   "metadata": {},
   "outputs": [],
   "source": [
    "colors = ['red', 'green', 'blue']\n",
    "print(colors)\n",
    "colors.append('purple')\n",
    "print(colors)\n",
    "colors.insert(1, 'yellow')\n",
    "print(colors)\n",
    "\n",
    "new_list = ['cyan', 'white']\n",
    "colors.extend(new_list)\n",
    "\n",
    "print()\n",
    "print()\n",
    "\n",
    "print((colors.index('purple')))\n",
    "colors.remove('white')\n",
    "print(colors)\n",
    "print()\n",
    "\n",
    "#use del \n",
    "del colors[1]\n",
    "print()\n",
    "\n",
    "# use sort\n",
    "colors.sort()\n",
    "#colors.sort(reverse=True)\n",
    "print(colors)\n",
    "print()\n",
    "\n",
    "print(colors)\n",
    "colors.reverse()\n",
    "print()\n",
    "\n",
    "print(colors)\n",
    "print()\n",
    "\n",
    "print((sorted(colors, reverse=True)))\n",
    "\n",
    "#pop\n",
    "colors.pop()\n",
    "print(colors)"
   ]
  },
  {
   "cell_type": "code",
   "execution_count": null,
   "metadata": {},
   "outputs": [],
   "source": [
    "months = [\"January\", \"February\", \"March\", \"April\", \"May\", \"June\", \"July\",\\\n",
    "          \"August\", \"September\", \"October\", \"November\", \"December\"]\n",
    "days = [31,28,31,30,31,30,31,31,30,31,30,31]\n",
    "\n",
    "# a function that inputs a string with the month and returns the number \n",
    "# of days in that month.\n",
    "\n",
    "def month_day(month):\n",
    "   print(days[months.index(month)])\n",
    "\n",
    "month_day('June')\n",
    "month_day('July')\n",
    "month_day('December')"
   ]
  },
  {
   "cell_type": "code",
   "execution_count": null,
   "metadata": {},
   "outputs": [],
   "source": [
    "colors = ['red', 'yellow', 'green', 'blue', 'purple', 'cyan']\n",
    "print(colors)\n",
    "\n",
    "print((sorted(colors)))"
   ]
  },
  {
   "cell_type": "code",
   "execution_count": null,
   "metadata": {},
   "outputs": [],
   "source": [
    "# If you run the following four lines of codes, what are the final contents of list1 and list2?\n",
    "\n",
    "list1 = [1,2,3,4]\n",
    "list2 = [1,2,3,4]\n",
    "\n",
    "print(list1 is list2)\n",
    "\n",
    "list1 = list1 + [5, 6]\n",
    "print(list1)\n",
    "print()\n",
    "\n",
    "list1.extend([7,8])         # this 'extends' the original list\n",
    "print(list1)\n",
    "print()\n",
    "\n",
    "list2.append([5, 6])        # this adds a list to a list\n",
    "print(list2)"
   ]
  },
  {
   "cell_type": "markdown",
   "metadata": {},
   "source": [
    "### List Slices\n",
    "\n",
    "Slices work on lists just as with strings, and can also be used to change sub-parts of the list."
   ]
  },
  {
   "cell_type": "code",
   "execution_count": null,
   "metadata": {},
   "outputs": [],
   "source": [
    "cars = ['Toyota', 'BMW', 'Honda', 'Benz', 'Isuzu', 'Volkswagen', 'Mazda']\n",
    "\n",
    "print(cars[1:3])\n",
    "print(cars[1:-1])\n",
    "print(cars[:3])"
   ]
  },
  {
   "cell_type": "markdown",
   "metadata": {},
   "source": [
    "### For & In (Or Loops on Lists)\n",
    "\n",
    "Python's *for* and *in* constructs are extremely useful, and the first use of them we'll see is with lists. The *for* construct -- for var in list -- is an easy way to look at each element in a list (or other collection)."
   ]
  },
  {
   "cell_type": "code",
   "execution_count": null,
   "metadata": {},
   "outputs": [],
   "source": [
    "# Loop through a list using while\n",
    "\n",
    "a = [1,2,3,4,7,8,9,10]\n",
    "i = 0\n",
    "len_a = len(a)\n",
    "while i < len_a:\n",
    "    print((a[i]))\n",
    "    i  +=1"
   ]
  },
  {
   "cell_type": "code",
   "execution_count": null,
   "metadata": {},
   "outputs": [],
   "source": [
    "# Syntax of for and in:\n",
    "\n",
    "# for each_element in a_list:\n",
    "    #Iterate through each element\n",
    "    #and run this code on each element\n",
    "    #where  each_element refers to the item.\n",
    "\n",
    "b = [1,2,3,4,7,8,9,10]\n",
    "for items in b:\n",
    "    print(items)\n",
    "    \n",
    "# Note: much shorter code and easy to read!"
   ]
  },
  {
   "cell_type": "code",
   "execution_count": null,
   "metadata": {},
   "outputs": [],
   "source": [
    "print((type(colors)))\n",
    "print(colors) \n",
    "\n",
    "for color in colors:\n",
    "    print(color)\n",
    "    print((color.title()))\n",
    "    print()"
   ]
  },
  {
   "cell_type": "code",
   "execution_count": null,
   "metadata": {},
   "outputs": [],
   "source": [
    "# sum_list: sums up all values in a list\n",
    "\n",
    "def sum_list(your_list):\n",
    "    sum = 0\n",
    "    for n in your_list:\n",
    "        sum = sum + n\n",
    "    return sum    \n",
    "\n",
    "squares = [1, 4, 9, 16, 25]\n",
    "print(sum_list(squares))"
   ]
  },
  {
   "cell_type": "code",
   "execution_count": null,
   "metadata": {},
   "outputs": [],
   "source": [
    "# A function that checks whether a number appears on a list\n",
    "# returns \"Found!\" or \"Not found!\"\n",
    "\n",
    "def find(num, li):\n",
    "    status = \"Not found!\"\n",
    "    for i in li:\n",
    "        if num == i:\n",
    "            status = \"Found\"\n",
    "            break\n",
    "    \n",
    "    return status\n",
    "        \n",
    "print(find(10, list(range(100))))\n",
    "print(find(250, list(range(100))))"
   ]
  },
  {
   "cell_type": "code",
   "execution_count": null,
   "metadata": {},
   "outputs": [],
   "source": [
    "#try with longer lists - 10 million numbers\n",
    "print(find(9999999, list(range(10000000))))   \n",
    "print(find('ah', list(range(10000000))))"
   ]
  },
  {
   "cell_type": "code",
   "execution_count": null,
   "metadata": {},
   "outputs": [],
   "source": [
    "# Define a function that gives the union of lists.\n",
    "\n",
    "a = ['Orange','Banana','Apple']\n",
    "b = ['Banana', 'Orange','Durian']\n",
    "\n",
    "def union_of_lists(seta,setb):\n",
    "    return set().union(seta,setb)\n",
    "\n",
    "union_of_lists(a,b)"
   ]
  },
  {
   "cell_type": "markdown",
   "metadata": {},
   "source": [
    "### Enumerate\n",
    "\n",
    "To find out the index of the item in the loop we can use list.index(elem), but there is another way to do this using enumerate().\n"
   ]
  },
  {
   "cell_type": "code",
   "execution_count": null,
   "metadata": {},
   "outputs": [],
   "source": [
    "my_list = ['happy', 'sad', 'angry']\n",
    "\n",
    "index_counter = 0\n",
    "for entry in my_list:\n",
    "    print(\"Index of %s is: %s\" %(entry, index_counter))\n",
    "    index_counter += 1\n",
    "\n",
    "# Here we use another built-in function list([iterable]) \n",
    "# which returns a list whose items are the same and\n",
    "# in the same order as iterable‘s items).\n",
    "\n",
    "print(list(enumerate(my_list)))\n",
    "\n",
    "for i, element in enumerate(my_list):\n",
    "    print(i, element)"
   ]
  },
  {
   "cell_type": "code",
   "execution_count": null,
   "metadata": {},
   "outputs": [],
   "source": [
    "# We can easily change the start count/index with help of enumerate(sequence, start=0)\n",
    "for index, item in enumerate(my_list, start = 1):\n",
    "    print(index, my_list)"
   ]
  },
  {
   "cell_type": "markdown",
   "metadata": {},
   "source": [
    "### Range\n",
    "\n",
    "The range(n) function yields the numbers 0, 1, ... n-1, and range(a, b) returns a, a+1, ... b-1 -- up to but not including the last number. "
   ]
  },
  {
   "cell_type": "code",
   "execution_count": null,
   "metadata": {},
   "outputs": [],
   "source": [
    "squares =[1,4,9,16,25]\n",
    "\n",
    "a = list(range(100, 110))\n",
    "print(a)\n",
    "\n",
    "b = list(range(5))\n",
    "print(b)\n",
    "\n",
    "for i in range(5):\n",
    "    print(i)\n",
    "    \n",
    "print()\n",
    "\n",
    "# loop through index\n",
    "for i in range(len(squares)):\n",
    "    print((squares[i]))\n",
    "    \n",
    "print()\n",
    "\n",
    "# loop through element\n",
    "for square in squares:\n",
    "    print(square)\n"
   ]
  },
  {
   "cell_type": "markdown",
   "metadata": {},
   "source": [
    "### Remove\n",
    "\n",
    "The `remove()` function can be used as a quick way of removing an entry from the list. However, it can only remove one instance of the entry (if there are more present)."
   ]
  },
  {
   "cell_type": "code",
   "execution_count": null,
   "metadata": {},
   "outputs": [],
   "source": [
    "my_list= ['Red', 'Green', 'White', 'Black', 'Pink', 'Yellow', 'Red']\n",
    "\n",
    "my_list.remove('Green')\n",
    "print(my_list)\n",
    "\n",
    "my_list.remove('Pink')\n",
    "print(my_list)\n",
    "\n",
    "my_list.remove('Red')  \n",
    "print(my_list)            # observe carefully. What did you notice?"
   ]
  },
  {
   "cell_type": "markdown",
   "metadata": {},
   "source": [
    "It also throws an error if the entry to be removed does not exist in the list."
   ]
  },
  {
   "cell_type": "code",
   "execution_count": null,
   "metadata": {},
   "outputs": [],
   "source": [
    "my_list.remove('Brown')\n",
    "print(my_list)"
   ]
  },
  {
   "cell_type": "markdown",
   "metadata": {},
   "source": [
    "### Lambda (plus filter and map)\n",
    "\n",
    "Python supports the creation of anonymous functions (i.e. functions that are not bound to a name) at runtime, using a construct called \"lambda\".\n",
    "\n",
    "Normal python function:\n",
    "```python\n",
    "def f (x):\n",
    "    return x**2\n",
    "\n",
    "f(8)\n",
    "```\n",
    "while for lambda:\n",
    "\n",
    "```python\n",
    "g = lambda x: x**2\n",
    "print(g(8))\n",
    "```"
   ]
  },
  {
   "cell_type": "code",
   "execution_count": null,
   "metadata": {},
   "outputs": [],
   "source": [
    "f = lambda x, y : x + y\n",
    "\n",
    "f(2,3)"
   ]
  },
  {
   "cell_type": "markdown",
   "metadata": {},
   "source": [
    "Lambda functions are mainly used in combination with the functions `filter()` and `map()` to great effect."
   ]
  },
  {
   "cell_type": "code",
   "execution_count": null,
   "metadata": {},
   "outputs": [],
   "source": [
    "# example 1\n",
    "sentence = 'It is raining cats and dogs'\n",
    "\n",
    "word = sentence.split()    # this function splits a text into individual words \n",
    "print(word)\n",
    "for i in word: \n",
    "    count=len(i)\n",
    "    print(count)\n",
    "\n",
    "g = map(lambda num: len(num), word)   # maps each word in a list to its word length\n",
    "print(list(g))"
   ]
  },
  {
   "cell_type": "code",
   "execution_count": null,
   "metadata": {},
   "outputs": [],
   "source": [
    "# example 2\n",
    "a = [2,3,5,6,7,8]\n",
    "\n",
    "def power(a):\n",
    "    return a**2\n",
    "\n",
    "# filter ()\n",
    "h=filter(lambda num1: num1%2==0, a)     # filters each value in the list based on a specified condition\n",
    "print(h)\n",
    "print(list(h))\n",
    "\n",
    "# map()\n",
    "h = map(lambda num1: power(num1), a)    # maps each value in the list to the specified function\n",
    "print(h)\n",
    "print(list(h))"
   ]
  },
  {
   "cell_type": "markdown",
   "metadata": {},
   "source": [
    "### List Comprehensions\n",
    "\n",
    "A list comprehension is a compact expression to define a whole set.  It can be used to construct lists in a very natural and easy way. \n",
    "\n",
    "The following comprehension says \"For each item in numbers, square it and add it to a new list squares.\"\n",
    "\n",
    "```python\n",
    "squares = [n*n for n in numbers]\n",
    "```\n",
    "\n",
    "While we could also do this using a for-loop, generally,\n",
    "\n",
    "```python\n",
    "for element in iterable:\n",
    "     if condition(element): \n",
    "        output.append(expression(element))\n",
    "```\n",
    "\n",
    "it's often more convenient to use list comprehension.\n",
    "\n",
    "The same general example above gets implemented in a single line by list comprehension:\n",
    "```python\n",
    "[ expression(element) for element in iterable if condition(element) ]\n",
    "```"
   ]
  },
  {
   "cell_type": "code",
   "execution_count": null,
   "metadata": {},
   "outputs": [],
   "source": [
    "# without list comprehension\n",
    "numbers = [1, 2, 3, 4, 5, 6, 7, 8]\n",
    "\n",
    "squares = []\n",
    "for n in numbers:\n",
    "    squares.append(n*n)\n",
    "print(squares)\n",
    "\n",
    "# with list comprehension\n",
    "squares = [n*n for n in numbers]\n",
    "print(squares)"
   ]
  },
  {
   "cell_type": "code",
   "execution_count": null,
   "metadata": {},
   "outputs": [],
   "source": [
    "numbers = [1, 2, 3, 4, 5, 6, 7, 8]\n",
    "\n",
    "# find squares of number that lesser or equal to 5\n",
    "squaresUnderFive = [n*n for n in numbers if n <= 5]\n",
    "\n",
    "print(squaresUnderFive)"
   ]
  },
  {
   "cell_type": "code",
   "execution_count": null,
   "metadata": {},
   "outputs": [],
   "source": [
    "# from the squares found earlier, multiply by 2 for all squares greater than 10\n",
    "print([s*2 for s in squaresUnderFive if s > 10])"
   ]
  },
  {
   "cell_type": "code",
   "execution_count": null,
   "metadata": {},
   "outputs": [],
   "source": [
    "# An example of list comprehension with strings\n",
    "fruits = ['banana', 'apple', 'cherry', 'lime', 'mango']\n",
    "\n",
    "my_list = [s.upper() + '!!!' for s in fruits if 'a' in s]\n",
    "\n",
    "print(my_list)"
   ]
  },
  {
   "cell_type": "markdown",
   "metadata": {},
   "source": [
    "**Quick Exercise 2** Write one line of Python that takes the list 'a' and makes a new list 'b' that has only the odd elements powered with 3."
   ]
  },
  {
   "cell_type": "code",
   "execution_count": null,
   "metadata": {},
   "outputs": [],
   "source": [
    "a = [1, 4, 9, 16, 25, 36, 49, 64, 81, 100]\n",
    "\n",
    "# complete this line\n",
    "b = [i for i in a]\n",
    "\n",
    "print(b)    # expected answer: [9, 36, 81]"
   ]
  },
  {
   "cell_type": "markdown",
   "metadata": {},
   "source": [
    "### Del\n",
    "\n",
    "The \"del\" operator does deletions. In the simplest case, it can remove the definition of a variable, as if that variable had not been defined. Del can also be used on list elements or slices to delete that part of the list and to delete entries from a dictionary."
   ]
  },
  {
   "cell_type": "code",
   "execution_count": null,
   "metadata": {},
   "outputs": [],
   "source": [
    "%whos"
   ]
  },
  {
   "cell_type": "code",
   "execution_count": null,
   "metadata": {},
   "outputs": [],
   "source": [
    "del months\n",
    "%whos"
   ]
  },
  {
   "cell_type": "markdown",
   "metadata": {},
   "source": [
    "## Tuples\n",
    "\n",
    "A tuple is a fixed size grouping of elements, such as an (x, y) co-ordinate. Tuples are like lists, except they are immutable and do not change size (tuples are not strictly immutable since one of the contained elements could be mutable like a list).\n",
    "\n",
    "Tuples are a convenient way of passing around little logical, fixed size bundle of values. Also, a function that needs to return multiple values can just return a tuple of the values.\n",
    "\n",
    "#### Tuple vs List\n",
    "* Tuple contain \"write-protect\" items (such as coordinate (x,y))\n",
    "* Faster and safer"
   ]
  },
  {
   "cell_type": "code",
   "execution_count": null,
   "metadata": {},
   "outputs": [],
   "source": [
    "tup = (1, 2.3, 'hi', ['hi'])\n",
    "print(type(tup))\n",
    "print((len(tup)))\n",
    "\n",
    "print((tup[2]))\n",
    "\n",
    "#tup[2] = 'bye' # tuple element cannot be changed\n",
    "tup = (1, 2, 'bye')\n",
    "\n",
    "x,y,z = (42, 13, \"hike\")\n",
    "\n",
    "print((z, y))"
   ]
  },
  {
   "cell_type": "code",
   "execution_count": null,
   "metadata": {},
   "outputs": [],
   "source": [
    "def abc(a, b, c):\n",
    "    d = a+b\n",
    "    e = c/2\n",
    "    f = a+b+c\n",
    "    return d, e, f\n",
    "\n",
    "tup2 = abc(2, 3, 4)\n",
    "print(tup2)"
   ]
  },
  {
   "cell_type": "markdown",
   "metadata": {},
   "source": [
    "Simply \"unpack\" the tuple by assigning it to individual variables:"
   ]
  },
  {
   "cell_type": "code",
   "execution_count": null,
   "metadata": {},
   "outputs": [],
   "source": [
    "a, b, c = tup2\n",
    "print(a)\n",
    "print(b)\n",
    "print(c)"
   ]
  },
  {
   "cell_type": "markdown",
   "metadata": {
    "collapsed": true
   },
   "source": [
    "If you have multiple lists or tuples, and intend to take one element from each list (of the same index) and make them into a tuple, use the `zip()` function. Having a list of tuples is sometimes a neat way of accessing each entry collectively. "
   ]
  },
  {
   "cell_type": "code",
   "execution_count": null,
   "metadata": {},
   "outputs": [],
   "source": [
    "worker = ['Kelly', 'Bill', 'Indran']\n",
    "weight = [52.3, 98.7, 70.2]\n",
    "t = zip(worker,weight)\n",
    "\n",
    "print(t)\n",
    "\n",
    "# either way works    \n",
    "list_t = list(t)\n",
    "\n",
    "print(list_t)"
   ]
  },
  {
   "cell_type": "code",
   "execution_count": null,
   "metadata": {
    "scrolled": true
   },
   "outputs": [],
   "source": [
    "# Workaround for updating tuple\n",
    "worker = (\"Kelly\", \"Bill\", \"Indran\")\n",
    "#worker.append(\"Leonard\") # will raise an error\n",
    "print(worker)\n",
    "\n",
    "worker_list = list(worker)\n",
    "worker_list.append(\"Leonard\")\n",
    "worker = tuple(worker_list)\n",
    "print(worker)\n",
    "\n",
    "print(worker[0])\n",
    "#worker[0] = \"Rey\" # will raise an error\n",
    "\n",
    "worker_list = list(worker)\n",
    "worker_list[0] = \"Rey\"\n",
    "worker = tuple(worker_list)\n",
    "print(worker[0])"
   ]
  },
  {
   "cell_type": "code",
   "execution_count": null,
   "metadata": {
    "scrolled": true
   },
   "outputs": [],
   "source": [
    "# Loop through Tuple\n",
    "for name in worker:\n",
    "    print(name)\n",
    "\n",
    "print(\"-----\")\n",
    "\n",
    "# with index \n",
    "for i in range(len(worker)):\n",
    "    print((worker[i]))"
   ]
  },
  {
   "cell_type": "code",
   "execution_count": null,
   "metadata": {},
   "outputs": [],
   "source": [
    "# Joining tuples\n",
    "fruit = (\"watermelon\", \"durian\")\n",
    "color = (\"green\", \"blue\")\n",
    "fruit_color = fruit + color\n",
    "print(fruit_color)\n",
    "\n",
    "# Multiply\n",
    "print(fruit_color*2)\n",
    "\n",
    "# Other tuple functions\n",
    "print(fruit_color.count(\"durian\"))\n",
    "print(fruit_color.count(\"orange\"))"
   ]
  }
 ],
 "metadata": {
  "anaconda-cloud": {},
  "kernelspec": {
   "display_name": "Python 3",
   "language": "python",
   "name": "python3"
  },
  "language_info": {
   "codemirror_mode": {
    "name": "ipython",
    "version": 3
   },
   "file_extension": ".py",
   "mimetype": "text/x-python",
   "name": "python",
   "nbconvert_exporter": "python",
   "pygments_lexer": "ipython3",
   "version": "3.8.5"
  }
 },
 "nbformat": 4,
 "nbformat_minor": 1
}
