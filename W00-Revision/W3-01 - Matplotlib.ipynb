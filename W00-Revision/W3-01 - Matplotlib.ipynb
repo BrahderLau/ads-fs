{
 "cells": [
  {
   "cell_type": "markdown",
   "metadata": {},
   "source": [
    "# Topic: Matplotlib\n",
    "\n",
    "Objective: Learn how to plot with Python\n",
    "\n",
    "Competencies:\n",
    "-\tParticipants will be able to use Matplotlib and familiar with the basic plots\n",
    "\n",
    "Tools: Python, Anaconda, Jupyter\n"
   ]
  },
  {
   "cell_type": "markdown",
   "metadata": {},
   "source": [
    "### What is matplot lib\n",
    "\n",
    "* an open source plotting library that provides visualization for your data  \n",
    "\n",
    "### Example of matplotlib\n",
    "https://matplotlib.org/stable/gallery/index.html"
   ]
  },
  {
   "cell_type": "code",
   "execution_count": null,
   "metadata": {
    "colab": {},
    "colab_type": "code",
    "id": "O-QJwKjkYd1V"
   },
   "outputs": [],
   "source": [
    "import matplotlib.pyplot as plt\n",
    "%matplotlib inline"
   ]
  },
  {
   "cell_type": "code",
   "execution_count": null,
   "metadata": {},
   "outputs": [],
   "source": [
    "### Your first line plot\n",
    "import matplotlib.pyplot as plt\n",
    "\n",
    "# generate 2 points a (1,4) and b (5,10)\n",
    "x = [1, 5]\n",
    "y = [4, 10]\n",
    "\n",
    "plt.plot(x, y)\n",
    "plt.show()"
   ]
  },
  {
   "cell_type": "code",
   "execution_count": null,
   "metadata": {},
   "outputs": [],
   "source": [
    "### Your first line plot\n",
    "import matplotlib.pyplot as plt\n",
    "\n",
    "# generate 3 points a (1,4), b (5,10) and c (8,1)\n",
    "x = [1, 5, 8]\n",
    "y = [4, 10, 1]\n",
    "\n",
    "plt.plot(x, y)\n",
    "plt.show()"
   ]
  },
  {
   "cell_type": "code",
   "execution_count": null,
   "metadata": {},
   "outputs": [],
   "source": [
    "### Your first line plot\n",
    "import matplotlib.pyplot as plt\n",
    "\n",
    "y = [4, 10, 1]\n",
    "\n",
    "# by default, x are 0, 1, 2, 3...\n",
    "plt.plot(y)\n",
    "plt.show()"
   ]
  },
  {
   "cell_type": "code",
   "execution_count": null,
   "metadata": {},
   "outputs": [],
   "source": [
    "### Size, Shapes, Colors of your line plot    \n",
    "import matplotlib.pyplot as plt\n",
    "\n",
    "y = 2, 11\n",
    "\n",
    "# change line width\n",
    "plt.plot(y, linewidth = '20.5')\n",
    "plt.show()\n",
    "\n",
    "\n",
    "# change line color\n",
    "plt.plot(y, c = 'green')\n",
    "#https://htmlcolorcodes.com/color-names/\n",
    "plt.show()\n",
    "\n",
    "# change line style\n",
    "plt.plot(y, linestyle = 'dotted')\n",
    "#plt.plot(y, linestyle = 'dashed')\n",
    "plt.show()\n",
    "\n"
   ]
  },
  {
   "cell_type": "code",
   "execution_count": null,
   "metadata": {},
   "outputs": [],
   "source": [
    "### Multplie line\n",
    "import matplotlib.pyplot as plt\n",
    "\n",
    "y1 = [1, 2, 3]\n",
    "plt.plot(y1)\n",
    "\n",
    "y2 = [10, 9, 8]\n",
    "plt.plot(y2)\n",
    "\n",
    "plt.show()"
   ]
  },
  {
   "cell_type": "code",
   "execution_count": null,
   "metadata": {},
   "outputs": [],
   "source": [
    "# Label for your plot\n",
    "import numpy as np\n",
    "import matplotlib.pyplot as plt\n",
    "\n",
    "height = [175, 180, 185]\n",
    "weight = [75, 80, 83]\n",
    "\n",
    "plt.plot(height, weight)\n",
    "\n",
    "plt.title(\"Gym goers data\")\n",
    "plt.xlabel(\"Average height\")\n",
    "plt.ylabel(\"Average weight\")\n",
    "\n",
    "plt.show()\n",
    "\n",
    "\n",
    "fontdict = {'family': 'serif',\n",
    "        'color':  'darkred',\n",
    "        'weight': 'normal',\n",
    "        'size': 16,\n",
    "        'style': 'italic'\n",
    "           }\n",
    "\n",
    "plt.title(\"Gym goers data\", fontdict = fontdict)\n",
    "plt.xlabel(\"Average height\", fontdict = fontdict)\n",
    "plt.ylabel(\"Average weight\")\n",
    "\n",
    "plt.plot(x, y)\n",
    "plt.show()"
   ]
  },
  {
   "cell_type": "code",
   "execution_count": null,
   "metadata": {},
   "outputs": [],
   "source": [
    "# Grid for your plot\n",
    "import numpy as np\n",
    "import matplotlib.pyplot as plt\n",
    "\n",
    "x = np.array([80, 85, 90, 95, 100, 105, 110, 115, 120, 125])\n",
    "y = np.array([240, 250, 260, 270, 280, 290, 300, 310, 320, 330])\n",
    "\n",
    "plt.title(\"Sports Watch Data\")\n",
    "plt.xlabel(\"Average Pulse\")\n",
    "plt.ylabel(\"Calorie Burnage\")\n",
    "\n",
    "plt.plot(x, y)\n",
    "\n",
    "plt.grid()\n",
    "#plt.grid(axis = 'y')\n",
    "#plt.grid(axis = 'x')\n",
    "#plt.grid(color = 'green', linestyle = '--', linewidth = 0.5)\n",
    "\n",
    "\n",
    "plt.show()"
   ]
  },
  {
   "attachments": {
    "image-2.png": {
     "image/png": "[encoded data removed]"
    }
   },
   "cell_type": "markdown",
   "metadata": {},
   "source": [
    "![image-2.png](attachment:image-2.png)"
   ]
  },
  {
   "cell_type": "code",
   "execution_count": null,
   "metadata": {},
   "outputs": [],
   "source": [
    "# quick exercise - given 2 sets of coordinates (x1,y1) and (x2,y2). Try to generate the plot as above \n",
    "\n",
    "import matplotlib.pyplot as plt\n",
    "x1 = [10,20,30]\n",
    "y1 = [20,40,10]\n",
    "\n",
    "x2 = [10,20,30]\n",
    "y2 = [40,10,30]"
   ]
  },
  {
   "cell_type": "markdown",
   "metadata": {},
   "source": [
    "### Other types of plot"
   ]
  },
  {
   "cell_type": "code",
   "execution_count": null,
   "metadata": {},
   "outputs": [],
   "source": [
    "# Scatter plots\n",
    "import matplotlib.pyplot as plt\n",
    "\n",
    "# weight and height:\n",
    "weight = [55,70,80,70,60,75]\n",
    "height = [160, 170, 175, 165, 165, 180]\n",
    "plt.scatter(weight, height)\n",
    "\n",
    "plt.show()"
   ]
  },
  {
   "cell_type": "code",
   "execution_count": null,
   "metadata": {},
   "outputs": [],
   "source": [
    "# Bar plots (Barcharts)\n",
    "import matplotlib.pyplot as plt\n",
    "\n",
    "fruit = [\"apple\", \"orange\", \"watermelon\", \"durian\"]\n",
    "number = [3, 8, 1, 10]\n",
    "\n",
    "plt.bar(fruit, number)\n",
    "plt.show()\n",
    "\n",
    "# Horizontal Bar plots\n",
    "plt.barh(fruit, number)\n",
    "plt.show()"
   ]
  },
  {
   "cell_type": "code",
   "execution_count": null,
   "metadata": {},
   "outputs": [],
   "source": [
    "# Histogram - when you want to show the frequency distribution\n",
    "import matplotlib.pyplot as plt\n",
    "import numpy as np\n",
    "\n",
    "x = np.random.normal(170, 10, 500)\n",
    "#print(x)\n",
    "\n",
    "plt.hist(x)\n",
    "plt.show() "
   ]
  },
  {
   "cell_type": "code",
   "execution_count": null,
   "metadata": {},
   "outputs": [],
   "source": [
    "# Piechart - when you want to show distribution that sums up to 100% \n",
    "import matplotlib.pyplot as plt\n",
    "\n",
    "y = [35, 400, 25, 15]\n",
    "fruits = [\"apple\", \"orange\", \"watermelon\", \"durian\"]\n",
    "\n",
    "plt.pie(y, labels = fruits)\n",
    "#plt.pie(y, labels = fruits, autopct='%i')\n",
    "plt.legend(title = \"Fruits:\")\n",
    "\n",
    "plt.show() "
   ]
  }
 ],
 "metadata": {
  "anaconda-cloud": {},
  "colab": {
   "name": "P06 - Numpy.ipynb",
   "provenance": []
  },
  "kernelspec": {
   "display_name": "Python 3",
   "language": "python",
   "name": "python3"
  },
  "language_info": {
   "codemirror_mode": {
    "name": "ipython",
    "version": 3
   },
   "file_extension": ".py",
   "mimetype": "text/x-python",
   "name": "python",
   "nbconvert_exporter": "python",
   "pygments_lexer": "ipython3",
   "version": "3.8.5"
  }
 },
 "nbformat": 4,
 "nbformat_minor": 1
}
