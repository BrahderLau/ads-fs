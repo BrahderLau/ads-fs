{
 "cells": [
  {
   "cell_type": "markdown",
   "metadata": {},
   "source": [
    "# Topic: Numpy\n",
    "\n",
    "## Exercise(s): Learn how to use Numpy **\n",
    "\n",
    "\n",
    "Objective: Learn Numpy\n",
    "\n",
    "Competencies:\n",
    "-\tParticipants will be able to use Numpy\n",
    "\n",
    "Tools: Python, Anaconda, Jupyter\n",
    "\n",
    "Analysis case study: -"
   ]
  },
  {
   "cell_type": "code",
   "execution_count": null,
   "metadata": {
    "colab": {},
    "colab_type": "code",
    "id": "O-QJwKjkYd1V"
   },
   "outputs": [],
   "source": [
    "import numpy as np"
   ]
  },
  {
   "cell_type": "markdown",
   "metadata": {
    "colab_type": "text",
    "id": "QUEw9pYyYd4L"
   },
   "source": [
    "Datasets can include collections of documents, images, sound clips, numerical measurements, or, really anything. Despite the heterogeneity, it will help us to think of all data fundamentally as arrays of numbers.\n",
    "\n",
    "| Data type\t    | Arrays of Numbers? |\n",
    "|---------------|-------------|\n",
    "|Images | Pixel brightness across different channels|\n",
    "|Videos | Pixels brightness across different channels for each frame | \n",
    "|Sound | Intensity over time |\n",
    "|Numbers | No need for transformation | \n",
    "|Tables | Mapping from strings to numbers |\n",
    "\n",
    "\n",
    "Therefore, the efficient storage and manipulation of large arrays of numbers is really fundamental to the process of doing data science. Numpy and pandas are the libraries within the SciPy stack that specialize in handling numerical arrays and data tables. \n",
    "\n",
    "### What is Numpy?\n",
    "[Numpy](http://www.numpy.org/) is short for _numerical python_, and provides functions that are especially useful when you have to work with large arrays and matrices of numeric data, like matrix multiplications.  \n",
    "\n",
    "The array object class is the foundation of Numpy, and Numpy arrays are like lists in Python, except that every thing inside an array must be of the same type, like int or float. As a result, arrays provide much more efficient storage and data operations, especially as the arrays grow larger in size. However, in other ways, NumPy arrays are very similar to Python's built-in list type, but with the exception of Vectorization.\n",
    "\n",
    "### What is vectorization?\n",
    "Runs operations (addition, subtraction, etc...) on multiple arrays without using loops. It runs in parallel.\n",
    "\n",
    "### Numpy array vs Python list\n",
    "* Size - Numpy data structures require lesser memory space \n",
    "* Performance - Numpy is faster \n",
    "* Functionality - Numpy has built in function such as linear algebra "
   ]
  },
  {
   "cell_type": "markdown",
   "metadata": {},
   "source": [
    "## Example of List vs Numpy"
   ]
  },
  {
   "cell_type": "code",
   "execution_count": null,
   "metadata": {},
   "outputs": [],
   "source": [
    "import random\n",
    "import numpy as np\n",
    "\n",
    "# generate 1000 random samples for 2 lists: list_a and list_b\n",
    "list_a = random.sample(range(1, 5000), 1000)\n",
    "list_b = random.sample(range(1, 5000), 1000)\n",
    "\n",
    "# create a function to multiplies both lists\n",
    "def list_multiple(a, b):\n",
    "    for i in range(len(a)):\n",
    "        a[i] * b[i]\n",
    "        \n",
    "# convert list into Numpy array\n",
    "array_a = np.array(list_a)\n",
    "array_b = np.array(list_b)\n",
    "\n",
    "# create a function to multiplies both arrays\n",
    "def array_multiple(a, b):\n",
    "    a * b      \n",
    "\n",
    "# time both functions' performance\n",
    "%timeit -n 1000 -r 5 list_multiple(list_a, list_b)\n",
    "%timeit -n 1000 -r 5 array_multiple(array_a, array_b)"
   ]
  },
  {
   "cell_type": "markdown",
   "metadata": {
    "colab_type": "text",
    "id": "YL-wDfUMYd4o"
   },
   "source": [
    "## Creating arrays"
   ]
  },
  {
   "cell_type": "code",
   "execution_count": null,
   "metadata": {
    "colab": {},
    "colab_type": "code",
    "id": "2Gn-ZrhFYd5D"
   },
   "outputs": [],
   "source": [
    "# Create array from lists:\n",
    "lis = [[1,2,3,4,5],[6,7,8,9,10]]\n",
    "\n",
    "ary = np.array(lis)\n",
    "\n",
    "print(lis)\n",
    "print(type(lis))\n",
    "print(ary)\n",
    "print(type(ary))"
   ]
  },
  {
   "cell_type": "markdown",
   "metadata": {
    "colab_type": "text",
    "id": "lMpWn5EuYd6a"
   },
   "source": [
    "### Using array-generating functions\n",
    "\n",
    "For larger arrays it is inpractical to initialize the data manually, using explicit python lists. Instead we can use one of the many functions in numpy that generate arrays of different forms. Some of the more common are:\n"
   ]
  },
  {
   "cell_type": "markdown",
   "metadata": {
    "colab_type": "text",
    "id": "07v0_9A1Yd6b"
   },
   "source": [
    "### zeros and ones"
   ]
  },
  {
   "cell_type": "code",
   "execution_count": null,
   "metadata": {
    "colab": {},
    "colab_type": "code",
    "id": "8lfK6Rx_Yd6e"
   },
   "outputs": [],
   "source": [
    "# We use these when the elements of the \n",
    "# array are originally unknown but its size is known.\n",
    "\n",
    "np.zeros((3,4))"
   ]
  },
  {
   "cell_type": "code",
   "execution_count": null,
   "metadata": {
    "colab": {},
    "colab_type": "code",
    "id": "wCwLggtQYd6n"
   },
   "outputs": [],
   "source": [
    "np.ones((2,3,4))"
   ]
  },
  {
   "cell_type": "code",
   "execution_count": null,
   "metadata": {
    "colab": {},
    "colab_type": "code",
    "id": "TpkqaD0JYd74"
   },
   "outputs": [],
   "source": [
    "# Create an uninitialized array of integers\n",
    "# The values will be whatever happens to already exist at that memory location\n",
    "np.empty((2,3))   "
   ]
  },
  {
   "cell_type": "code",
   "execution_count": null,
   "metadata": {
    "colab": {},
    "colab_type": "code",
    "id": "hUaWHcKSYd8V"
   },
   "outputs": [],
   "source": [
    "# Create a 3x5 array filled with 7.4\n",
    "np.full((3, 5), 7.4)"
   ]
  },
  {
   "cell_type": "markdown",
   "metadata": {
    "colab_type": "text",
    "id": "-KwIDuH1Yd8b"
   },
   "source": [
    "### arange"
   ]
  },
  {
   "cell_type": "code",
   "execution_count": null,
   "metadata": {
    "colab": {},
    "colab_type": "code",
    "id": "-bIQEO5EYd8e"
   },
   "outputs": [],
   "source": [
    "# Large operations work too, and very quickly\n",
    "np.arange(start=0, stop=10000, step=1)\n"
   ]
  },
  {
   "cell_type": "code",
   "execution_count": null,
   "metadata": {
    "colab": {},
    "colab_type": "code",
    "id": "RiE3XzwLYd9F"
   },
   "outputs": [],
   "source": [
    "# reshape the 1-D array into a 2-D array\n",
    "np.arange(100).reshape(10,10)"
   ]
  },
  {
   "cell_type": "markdown",
   "metadata": {
    "colab_type": "text",
    "id": "QaNo72IhYd9M"
   },
   "source": [
    "### random data"
   ]
  },
  {
   "cell_type": "code",
   "execution_count": null,
   "metadata": {
    "colab": {},
    "colab_type": "code",
    "id": "_Q72KpvTYd9O"
   },
   "outputs": [],
   "source": [
    "# Create a 3x3 array of uniformly distributed\n",
    "# random values between 0 and 1\n",
    "np.random.random((3, 3))"
   ]
  },
  {
   "cell_type": "code",
   "execution_count": null,
   "metadata": {
    "colab": {},
    "colab_type": "code",
    "id": "Fa1IhputYd9X"
   },
   "outputs": [],
   "source": [
    "# Create a 3x3 array of normally distributed random values\n",
    "# with mean 0 and standard deviation 1\n",
    "np.random.normal(0, 1, (3, 3))"
   ]
  },
  {
   "cell_type": "code",
   "execution_count": null,
   "metadata": {
    "colab": {},
    "colab_type": "code",
    "id": "cTxhiDFeYd-x"
   },
   "outputs": [],
   "source": [
    "# Create a 3x3 array of random integers in the interval [0, 10)\n",
    "np.random.randint(0, 10, (3, 3))"
   ]
  },
  {
   "cell_type": "code",
   "execution_count": null,
   "metadata": {
    "colab": {},
    "colab_type": "code",
    "id": "2ff1s3ZIYd-3"
   },
   "outputs": [],
   "source": [
    "# Create a 3x3 identity matrix\n",
    "np.eye(3)"
   ]
  },
  {
   "cell_type": "code",
   "execution_count": null,
   "metadata": {
    "colab": {},
    "colab_type": "code",
    "id": "hi_rnWgsYeAD"
   },
   "outputs": [],
   "source": [
    "# another similar functions\n",
    "np.identity(3)"
   ]
  },
  {
   "cell_type": "markdown",
   "metadata": {
    "colab_type": "text",
    "id": "86KadDXjYeAS"
   },
   "source": [
    "NumPy has many functions that perform the same thing, or *can* do the same thing if used in a certain way. It's usually up to the programmer, depending on his/her familiarity with the functions, or some other specific purpose of using it (efficiency, robustness, etc.)."
   ]
  },
  {
   "cell_type": "markdown",
   "metadata": {
    "colab_type": "text",
    "id": "-t6UlpUfYeAU"
   },
   "source": [
    "### linspace, logspace"
   ]
  },
  {
   "cell_type": "code",
   "execution_count": null,
   "metadata": {
    "colab": {},
    "colab_type": "code",
    "id": "YLcH07tsYeAX"
   },
   "outputs": [],
   "source": [
    "# Make several equally spaced points in linear space\n",
    "# linspace( start, end, number of samples)\n",
    "#np.linspace(0,np.pi,3)\n",
    "np.linspace(start=1, stop=10, num=10)"
   ]
  },
  {
   "cell_type": "code",
   "execution_count": null,
   "metadata": {
    "colab": {},
    "colab_type": "code",
    "id": "wg547K7vYeAo"
   },
   "outputs": [],
   "source": [
    "# the distance after applying log is the same. This is considered equal distance in 'logspace'.\n",
    "import math\n",
    "\n",
    "M = np.logspace(0, 10, 10, base=np.e)\n",
    "print(math.log(M[1])-math.log(M[0]))\n",
    "print(math.log(M[2])-math.log(M[1]))\n",
    "print(math.log(M[3])-math.log(M[2]))\n"
   ]
  },
  {
   "cell_type": "markdown",
   "metadata": {
    "colab_type": "text",
    "id": "xkzknXOcYeBU"
   },
   "source": [
    "### diag"
   ]
  },
  {
   "cell_type": "code",
   "execution_count": null,
   "metadata": {
    "colab": {},
    "colab_type": "code",
    "id": "iwE8PpJ7YeBV",
    "scrolled": true
   },
   "outputs": [],
   "source": [
    "# a diagonal matrix\n",
    "np.diag([1,2,3])"
   ]
  },
  {
   "cell_type": "code",
   "execution_count": null,
   "metadata": {
    "colab": {},
    "colab_type": "code",
    "id": "rABfBXGAYeBc"
   },
   "outputs": [],
   "source": [
    "# diagonal with offset from the main diagonal\n",
    "np.diag([1,2,3], k=2)"
   ]
  },
  {
   "cell_type": "markdown",
   "metadata": {
    "colab_type": "text",
    "id": "gj3nsJbsYeBl"
   },
   "source": [
    "### Vectorization"
   ]
  },
  {
   "cell_type": "code",
   "execution_count": null,
   "metadata": {
    "colab": {},
    "colab_type": "code",
    "id": "4ykGnR_MYeBm"
   },
   "outputs": [],
   "source": [
    "lis = [1,2,3,4,5]"
   ]
  },
  {
   "cell_type": "code",
   "execution_count": null,
   "metadata": {
    "colab": {},
    "colab_type": "code",
    "id": "g40pKxCMYeBr"
   },
   "outputs": [],
   "source": [
    "lis + lis"
   ]
  },
  {
   "cell_type": "markdown",
   "metadata": {
    "colab_type": "text",
    "id": "zLFcKADAYeBz"
   },
   "source": [
    "Adding two lists automatically concatenates both lists into one, but if you perform this addition when their types are **NumPy arrays**, things work out differently..."
   ]
  },
  {
   "cell_type": "code",
   "execution_count": null,
   "metadata": {
    "colab": {},
    "colab_type": "code",
    "id": "ZBpd82tbYeB1"
   },
   "outputs": [],
   "source": [
    "# See the difference???\n",
    "np_array = np.array(lis)\n",
    "np_array + np_array"
   ]
  },
  {
   "cell_type": "code",
   "execution_count": null,
   "metadata": {
    "colab": {},
    "colab_type": "code",
    "id": "86EPzZrJYeCo"
   },
   "outputs": [],
   "source": [
    "print(type(lis))\n",
    "print(type(np_array))"
   ]
  },
  {
   "cell_type": "code",
   "execution_count": null,
   "metadata": {
    "colab": {},
    "colab_type": "code",
    "id": "yLCLFIVwYeCu"
   },
   "outputs": [],
   "source": [
    "# Doing the same using normal lists requires a loop! Definitely NumPy is likely to be more efficient.\n",
    "\n",
    "# List comprehension\n",
    "print([x+x for x in lis])\n",
    "print([x**2 for x in lis])"
   ]
  },
  {
   "cell_type": "markdown",
   "metadata": {
    "colab_type": "text",
    "id": "vf7DW6MSYeC5"
   },
   "source": [
    "So we call operations on NumPy arrays as **vectorized** operations. For almost all data intensive computing, we use NumPy because of this feature, and because the whole scientific and numerical Python stack is based on NumPy.  \n",
    "\n",
    "To explain it another way, in a spreadsheet, you would add an entire column to another one by writing a formula in the first cell and auto-filling the rest of the column. Numpy does things in the similar way -- allowing such commands to be performed all in one go.  "
   ]
  },
  {
   "cell_type": "code",
   "execution_count": null,
   "metadata": {
    "colab": {},
    "colab_type": "code",
    "id": "mTig1OswYeC6"
   },
   "outputs": [],
   "source": [
    "array = np.array([1, 4, 5, 8], float)\n",
    "print(array)\n",
    "print(\"\")\n",
    "\n",
    "# a 2D array/Matrix, this looks just like how we create lists...\n",
    "array = np.array([[1, 2, 3], [4, 5, 6]], float)  \n",
    "print(array)"
   ]
  },
  {
   "cell_type": "markdown",
   "metadata": {
    "colab_type": "text",
    "id": "l8SfcWwRYeDP"
   },
   "source": [
    "Numpy has all of its functionality written in _compiled_ code written in C, that is much faster. But this can only be the case because all of the items in a Numpy array are of the same data type! \n",
    "\n",
    "*(Explanation: Python is dynamically typed whereas C is not - this gives extra flexibility and simplicity to Python, but makes it slower as well).*"
   ]
  },
  {
   "cell_type": "code",
   "execution_count": null,
   "metadata": {
    "colab": {},
    "colab_type": "code",
    "id": "39A8GZYrYeDR"
   },
   "outputs": [],
   "source": [
    "big_array = np.random.rand(100000)\n",
    "%timeit sum(big_array)\n",
    "%timeit np.sum(big_array)"
   ]
  },
  {
   "cell_type": "markdown",
   "metadata": {
    "colab_type": "text",
    "id": "O89O5HgxYeDd"
   },
   "source": [
    "That's about 100 times faster.\n",
    "\n",
    "You can index, slice, and manipulate a Numpy ***array*** the same way you would do with a Python list. \n",
    "\n",
    "Python has a certain way of doing things. For example, the property of being \"listiness\". Listiness works on lists, dictionaries, files, and a general notion of something called an iterator. That's because all these objects support **the iterator protocol** - where something behaves in a list-like manner. "
   ]
  },
  {
   "cell_type": "markdown",
   "metadata": {
    "colab_type": "text",
    "id": "HcigWtbOYeJs"
   },
   "source": [
    "The first array (a) is replicated along the 2nd axis and then both arrays can be added correctly."
   ]
  },
  {
   "cell_type": "markdown",
   "metadata": {
    "colab_type": "text",
    "id": "3i-VSM2jYeJu"
   },
   "source": [
    "## Manipulating arrays\n",
    " \n",
    "### Indexing\n",
    "We can index elements in an array using square brackets and indices:"
   ]
  },
  {
   "cell_type": "code",
   "execution_count": null,
   "metadata": {
    "colab": {},
    "colab_type": "code",
    "id": "M8IPB_7sYeJu"
   },
   "outputs": [],
   "source": [
    "# a vector: the argument to the array function is a Python list\n",
    "v = np.array([1,2,3,4])\n",
    "v[0]"
   ]
  },
  {
   "cell_type": "code",
   "execution_count": null,
   "metadata": {
    "colab": {},
    "colab_type": "code",
    "id": "PiwNXzzHYeKB"
   },
   "outputs": [],
   "source": [
    "M = np.random.random([3,3])\n",
    "print(M)\n",
    "# M is a 2 dimensional array, taking two indices \n",
    "M[1,1]"
   ]
  },
  {
   "cell_type": "markdown",
   "metadata": {
    "colab_type": "text",
    "id": "8ZQg0qsiYeKL"
   },
   "source": [
    "## Array Slicing: Accessing Subarrays\n",
    "\n",
    "Just as we can use square brackets to access individual array elements, we can also use them to access subarrays with the *slice* notation, marked by the colon (``:``) character.\n",
    "The NumPy slicing syntax follows that of the standard Python list; to access a slice of an array ``x``, use this:\n",
    "``` python\n",
    "x[start:stop:step]\n",
    "```\n",
    "If any of these are unspecified, they default to the values ``start=0``, ``stop=``*``size of dimension``*, ``step=1``.\n",
    "We'll take a look at accessing sub-arrays in one dimension and in multiple dimensions.\n",
    "\n",
    "Source: _Python Data Science Handbook_"
   ]
  },
  {
   "cell_type": "markdown",
   "metadata": {
    "colab_type": "text",
    "id": "0_hWhwTQYeKP"
   },
   "source": [
    "If we omit an index of a multidimensional array it returns the whole row (or, in general, a N-1 dimensional array)"
   ]
  },
  {
   "cell_type": "code",
   "execution_count": null,
   "metadata": {
    "colab": {},
    "colab_type": "code",
    "id": "prMGEzf8YeKQ"
   },
   "outputs": [],
   "source": [
    "M"
   ]
  },
  {
   "cell_type": "code",
   "execution_count": null,
   "metadata": {
    "colab": {},
    "colab_type": "code",
    "id": "e4RNBiodYepw"
   },
   "outputs": [],
   "source": [
    "M[1]"
   ]
  },
  {
   "cell_type": "markdown",
   "metadata": {
    "colab_type": "text",
    "id": "mRRzaXMIYeqU"
   },
   "source": [
    "The same thing can be achieved with using : instead of an index:"
   ]
  },
  {
   "cell_type": "code",
   "execution_count": null,
   "metadata": {
    "colab": {},
    "colab_type": "code",
    "id": "HyvK_UovYeqV"
   },
   "outputs": [],
   "source": [
    "M[1,:] #row 1"
   ]
  },
  {
   "cell_type": "code",
   "execution_count": null,
   "metadata": {
    "colab": {},
    "colab_type": "code",
    "id": "K9k58RHDYeqp"
   },
   "outputs": [],
   "source": [
    "M[:,1] #column 1"
   ]
  },
  {
   "cell_type": "markdown",
   "metadata": {
    "colab_type": "text",
    "id": "eWfWjSG8Yeq0"
   },
   "source": [
    "We can assign new values to elements in an array using indexing:"
   ]
  },
  {
   "cell_type": "code",
   "execution_count": null,
   "metadata": {
    "colab": {},
    "colab_type": "code",
    "id": "ADh0aY8cYeq1"
   },
   "outputs": [],
   "source": [
    "M[0,0] = 1"
   ]
  },
  {
   "cell_type": "code",
   "execution_count": null,
   "metadata": {
    "colab": {},
    "colab_type": "code",
    "id": "e0vqS6E5Ye-_"
   },
   "outputs": [],
   "source": [
    "M"
   ]
  },
  {
   "cell_type": "code",
   "execution_count": null,
   "metadata": {
    "colab": {},
    "colab_type": "code",
    "id": "XYGLQQ1PYe_K"
   },
   "outputs": [],
   "source": [
    "# also works for rows and columns\n",
    "M[1,:] = 0\n",
    "M[:,2] = -1"
   ]
  },
  {
   "cell_type": "code",
   "execution_count": null,
   "metadata": {
    "colab": {},
    "colab_type": "code",
    "id": "eO-Vev-UYe_V"
   },
   "outputs": [],
   "source": [
    "M"
   ]
  },
  {
   "cell_type": "markdown",
   "metadata": {
    "colab_type": "text",
    "id": "Qq8ocIciYe_t"
   },
   "source": [
    "### Index Slicing\n",
    "Index slicing is the technical name for the syntax M[lower:upper:step] to extract part of an array:"
   ]
  },
  {
   "cell_type": "code",
   "execution_count": null,
   "metadata": {
    "colab": {},
    "colab_type": "code",
    "id": "E2p1U5h7Ye_v"
   },
   "outputs": [],
   "source": [
    "A = np.array([1,2,3,4,5])\n",
    "A"
   ]
  },
  {
   "cell_type": "code",
   "execution_count": null,
   "metadata": {
    "colab": {},
    "colab_type": "code",
    "id": "I4uvjIwKYfB7"
   },
   "outputs": [],
   "source": [
    "A[1:3]"
   ]
  },
  {
   "cell_type": "markdown",
   "metadata": {
    "colab_type": "text",
    "id": "ObJJJQWsYfEl"
   },
   "source": [
    "Array slices are mutable: if they are assigned a new value the original array from which the slice was extracted is modified:"
   ]
  },
  {
   "cell_type": "code",
   "execution_count": null,
   "metadata": {
    "colab": {},
    "colab_type": "code",
    "id": "_oiZH7JxYfEm"
   },
   "outputs": [],
   "source": [
    "A[1:3] = [-2,-3]\n",
    "\n",
    "A"
   ]
  },
  {
   "cell_type": "markdown",
   "metadata": {
    "colab_type": "text",
    "id": "LXwqsLDrYfGB"
   },
   "source": [
    "We can omit any of the three parameters in M[lower:upper:step]:"
   ]
  },
  {
   "cell_type": "code",
   "execution_count": null,
   "metadata": {
    "colab": {},
    "colab_type": "code",
    "id": "b4U_MmzJYfGC"
   },
   "outputs": [],
   "source": [
    "A[::] # lower, upper, step all take the default values"
   ]
  },
  {
   "cell_type": "code",
   "execution_count": null,
   "metadata": {
    "colab": {},
    "colab_type": "code",
    "id": "nWm-ARzhYfGK"
   },
   "outputs": [],
   "source": [
    "A[::2] # step is 2, lower and upper defaults to the beginning and end of the array"
   ]
  },
  {
   "cell_type": "code",
   "execution_count": null,
   "metadata": {
    "colab": {},
    "colab_type": "code",
    "id": "ecTbF_g8YfGO"
   },
   "outputs": [],
   "source": [
    "A[:3] # first three elements"
   ]
  },
  {
   "cell_type": "code",
   "execution_count": null,
   "metadata": {
    "colab": {},
    "colab_type": "code",
    "id": "JIJpfZO7YfGS"
   },
   "outputs": [],
   "source": [
    "A[3:] # elements from index 3"
   ]
  },
  {
   "cell_type": "markdown",
   "metadata": {
    "colab_type": "text",
    "id": "FwiEH5LlYfGX"
   },
   "source": [
    "Index slicing works exactly the same way for multidimensional arrays:\n"
   ]
  },
  {
   "cell_type": "code",
   "execution_count": null,
   "metadata": {
    "colab": {},
    "colab_type": "code",
    "id": "SHWbUApFYfGY",
    "scrolled": true
   },
   "outputs": [],
   "source": [
    "A = np.array([[n+m*10 for n in range(5)] for m in range(5)])\n",
    "\n",
    "A2 = np.zeros((5, 5), dtype='int16')\n",
    "for m in range(5):\n",
    "    for n in range(5):\n",
    "        A2[m,n] = n+m*10\n",
    "\n",
    "print(A)\n",
    "print(A2)"
   ]
  },
  {
   "cell_type": "code",
   "execution_count": null,
   "metadata": {
    "colab": {},
    "colab_type": "code",
    "id": "Ct74dI15YfGd"
   },
   "outputs": [],
   "source": [
    "# a block from the original array\n",
    "A[1:4, 1:4]"
   ]
  },
  {
   "cell_type": "code",
   "execution_count": null,
   "metadata": {
    "colab": {},
    "colab_type": "code",
    "id": "-emXv7zTYfLC",
    "scrolled": true
   },
   "outputs": [],
   "source": [
    "# strides\n",
    "A[::2, ::2]"
   ]
  },
  {
   "cell_type": "markdown",
   "metadata": {
    "colab_type": "text",
    "id": "jD3wulm0YfgB"
   },
   "source": [
    "## NumPy Standard Data Types\n",
    "\n",
    "NumPy arrays contain values of a single type, so it is important to have detailed knowledge of those types and their limitations.\n",
    "Because NumPy is built in C, the types will be familiar to users of C, Fortran, and other related languages.\n",
    "\n",
    "The standard NumPy data types are listed in the following table.\n",
    "Note that when constructing an array, they can be specified using a string:\n",
    "\n",
    "```python\n",
    "np.zeros(10, dtype='int16')\n",
    "```\n",
    "\n",
    "Or using the associated NumPy object:\n",
    "\n",
    "```python\n",
    "np.zeros(10, dtype=np.int16)\n",
    "```\n",
    "\n",
    "| Data type\t    | Description |\n",
    "|---------------|-------------|\n",
    "| ``bool_``     | Boolean (True or False) stored as a byte |\n",
    "| ``int_``      | Default integer type (same as C ``long``; normally either ``int64`` or ``int32``)| \n",
    "| ``intc``      | Identical to C ``int`` (normally ``int32`` or ``int64``)| \n",
    "| ``intp``      | Integer used for indexing (same as C ``ssize_t``; normally either ``int32`` or ``int64``)| \n",
    "| ``int8``      | Byte (-128 to 127)| \n",
    "| ``int16``     | Integer (-32768 to 32767)|\n",
    "| ``int32``     | Integer (-2147483648 to 2147483647)|\n",
    "| ``int64``     | Integer (-9223372036854775808 to 9223372036854775807)| \n",
    "| ``uint8``     | Unsigned integer (0 to 255)| \n",
    "| ``uint16``    | Unsigned integer (0 to 65535)| \n",
    "| ``uint32``    | Unsigned integer (0 to 4294967295)| \n",
    "| ``uint64``    | Unsigned integer (0 to 18446744073709551615)| \n",
    "| ``float_``    | Shorthand for ``float64``.| \n",
    "| ``float16``   | Half precision float: sign bit, 5 bits exponent, 10 bits mantissa| \n",
    "| ``float32``   | Single precision float: sign bit, 8 bits exponent, 23 bits mantissa| \n",
    "| ``float64``   | Double precision float: sign bit, 11 bits exponent, 52 bits mantissa| \n",
    "| ``complex_``  | Shorthand for ``complex128``.| \n",
    "| ``complex64`` | Complex number, represented by two 32-bit floats| \n",
    "| ``complex128``| Complex number, represented by two 64-bit floats| \n",
    "\n",
    "More advanced type specification is possible, such as specifying big or little endian numbers; for more information, refer to the [NumPy documentation](http://numpy.org/).\n",
    "\n",
    "Source: Jake VanderPlas's _Python Data Science Handbook_"
   ]
  },
  {
   "cell_type": "markdown",
   "metadata": {
    "colab_type": "text",
    "id": "SjuEv57tYfgC"
   },
   "source": [
    "### Attributes of Numpy Arrays"
   ]
  },
  {
   "cell_type": "code",
   "execution_count": null,
   "metadata": {
    "colab": {},
    "colab_type": "code",
    "id": "sBllrm_BYfgK",
    "scrolled": true
   },
   "outputs": [],
   "source": [
    "# Create a ranged array: \n",
    "# arange = array range\n",
    "a = np.arange(15)\n",
    "a"
   ]
  },
  {
   "cell_type": "markdown",
   "metadata": {
    "colab_type": "text",
    "id": "OimzpwDVYfgS"
   },
   "source": [
    "### Reshaping, resizing and other array properties\n",
    "\n",
    "The shape of an Numpy array can be modified without copying the underlaying data, which makes it a fast operation even for large arrays."
   ]
  },
  {
   "cell_type": "code",
   "execution_count": null,
   "metadata": {
    "colab": {},
    "colab_type": "code",
    "id": "JU15mr05YfgT"
   },
   "outputs": [],
   "source": [
    "# reshape it\n",
    "a.reshape(3,5)"
   ]
  },
  {
   "cell_type": "markdown",
   "metadata": {
    "colab_type": "text",
    "id": "XOqfEmmjYfgc"
   },
   "source": [
    "You can specify the type of an array when creating the Numpy array. "
   ]
  },
  {
   "cell_type": "code",
   "execution_count": null,
   "metadata": {
    "colab": {},
    "colab_type": "code",
    "id": "-aRnzoNwYfgd"
   },
   "outputs": [],
   "source": [
    "c = np.array([[1,2],[3,4]], dtype=complex)\n",
    "c"
   ]
  },
  {
   "cell_type": "code",
   "execution_count": null,
   "metadata": {
    "colab": {},
    "colab_type": "code",
    "id": "SpZyiyS3Yfgi"
   },
   "outputs": [],
   "source": [
    "ndarray = np.array([[1,2,3],[4,5,6]])\n",
    "print(type(ndarray))\n",
    "print(ndarray)"
   ]
  },
  {
   "cell_type": "code",
   "execution_count": null,
   "metadata": {
    "colab": {},
    "colab_type": "code",
    "id": "o4c7pL4aYfhj"
   },
   "outputs": [],
   "source": [
    "# Number of axes or dimensions of the array (also called rank)\n",
    "ndarray.ndim"
   ]
  },
  {
   "cell_type": "code",
   "execution_count": null,
   "metadata": {
    "colab": {},
    "colab_type": "code",
    "id": "Co94iVTPYfhn"
   },
   "outputs": [],
   "source": [
    "# Dimensions of the array:\n",
    "# For a matrix with n rows and m columns, \n",
    "# shape will be (n,m).\n",
    "ndarray.shape"
   ]
  },
  {
   "cell_type": "code",
   "execution_count": null,
   "metadata": {
    "colab": {},
    "colab_type": "code",
    "id": "znS4dVtGYfh_"
   },
   "outputs": [],
   "source": [
    "# Type of elements in the array\n",
    "ndarray.dtype"
   ]
  },
  {
   "cell_type": "markdown",
   "metadata": {
    "colab_type": "text",
    "id": "XULqH19PYfiH"
   },
   "source": [
    "#### Adding a new dimension: newaxis\n",
    "\n",
    "With newaxis, we can insert new dimensions in an array, for example converting a vector to a column or row matrix:"
   ]
  },
  {
   "cell_type": "code",
   "execution_count": null,
   "metadata": {
    "colab": {},
    "colab_type": "code",
    "id": "3gYhxCQ4YfiI"
   },
   "outputs": [],
   "source": [
    "v = np.array([1,2,3])"
   ]
  },
  {
   "cell_type": "code",
   "execution_count": null,
   "metadata": {
    "colab": {},
    "colab_type": "code",
    "id": "o52rykoOYfiY"
   },
   "outputs": [],
   "source": [
    "np.shape(v)"
   ]
  },
  {
   "cell_type": "code",
   "execution_count": null,
   "metadata": {
    "colab": {},
    "colab_type": "code",
    "id": "zUE8DWZ3Yfii"
   },
   "outputs": [],
   "source": [
    "# make a column matrix of the vector v\n",
    "print(v[:, np.newaxis])\n",
    "print(v[np.newaxis,:])\n"
   ]
  },
  {
   "cell_type": "code",
   "execution_count": null,
   "metadata": {
    "colab": {},
    "colab_type": "code",
    "id": "QETsz6zwYfim"
   },
   "outputs": [],
   "source": [
    "# column matrix\n",
    "v[:,np.newaxis].shape"
   ]
  },
  {
   "cell_type": "code",
   "execution_count": null,
   "metadata": {
    "colab": {},
    "colab_type": "code",
    "id": "BEhht7CqYfkR"
   },
   "outputs": [],
   "source": [
    "v[np.newaxis,:].shape"
   ]
  },
  {
   "cell_type": "code",
   "execution_count": null,
   "metadata": {},
   "outputs": [],
   "source": [
    "# example of adding a new dimension\n",
    "x1 = np.array([1, 2, 3, 4, 5])\n",
    "x2 = np.array([5, 4, 3])\n",
    "\n",
    "# x1 + x2\n",
    "\n",
    "x1_new = x1[:, np.newaxis]\n",
    "print(x1_new)\n",
    "x1_new + x2"
   ]
  },
  {
   "cell_type": "markdown",
   "metadata": {
    "colab_type": "text",
    "id": "upeCQ_ayYfka"
   },
   "source": [
    "### Array Concatenation & Splitting"
   ]
  },
  {
   "cell_type": "code",
   "execution_count": null,
   "metadata": {
    "colab": {},
    "colab_type": "code",
    "id": "ezhJjDKwYfkb"
   },
   "outputs": [],
   "source": [
    "# Array Concatenation\n",
    "A = np.arange(5)\n",
    "B = np.arange(30, 56)\n",
    "print('A')\n",
    "print(A)\n",
    "print('B')\n",
    "print(B)\n",
    "np.concatenate((A, B))\n"
   ]
  },
  {
   "cell_type": "code",
   "execution_count": null,
   "metadata": {},
   "outputs": [],
   "source": [
    "# Concatenate 2 dimension\n",
    "A = np.array([[1, 2], [3, 4]])\n",
    "print(\"A\", A)\n",
    "B = np.array([[5, 6], [7, 8]])\n",
    "print(\"B\", B)\n",
    "arr = np.concatenate((A, B))\n",
    "print(\"Result:\", arr)\n",
    "\n",
    "print()\n",
    "# Concatenate along the row\n",
    "A = np.array([[1, 2], [3, 4]])\n",
    "print(\"A\", A)\n",
    "B = np.array([[5, 6], [7, 8]])\n",
    "print(\"B\", B)\n",
    "arr = np.concatenate((A, B), axis=1)\n",
    "\n",
    "print(\"Result:\", arr)"
   ]
  },
  {
   "cell_type": "code",
   "execution_count": null,
   "metadata": {},
   "outputs": [],
   "source": [
    "# Array splitting\n",
    "\n",
    "A = np.arange(10)\n",
    "\n",
    "newarr = np.array_split(A, 2)\n",
    "print(newarr)"
   ]
  },
  {
   "cell_type": "markdown",
   "metadata": {
    "colab_type": "text",
    "id": "FN4dWtIlYfky"
   },
   "source": [
    "## **Quick Exercises:**\n"
   ]
  },
  {
   "cell_type": "code",
   "execution_count": null,
   "metadata": {},
   "outputs": [],
   "source": [
    "# Exercise 1: Create a 3x3 matrix with values ranging from 0 to 8\n"
   ]
  },
  {
   "cell_type": "raw",
   "metadata": {},
   "source": [
    "# Expected output for exercise 1:\n",
    "[[0 1 2]\n",
    " [3 4 5]\n",
    " [6 7 8]]"
   ]
  },
  {
   "cell_type": "code",
   "execution_count": null,
   "metadata": {
    "colab": {},
    "colab_type": "code",
    "id": "ID0SQVnbYfky"
   },
   "outputs": [],
   "source": [
    "# Exercise 2: Create a 8x8 matrix and fill it with a checkerboard pattern \n",
    "\n",
    "\n",
    "\n",
    "\n"
   ]
  },
  {
   "cell_type": "raw",
   "metadata": {},
   "source": [
    "# Expected output for exercise 2:\n",
    "[[0. 1. 0. 1. 0. 1. 0. 1.]\n",
    " [1. 0. 1. 0. 1. 0. 1. 0.]\n",
    " [0. 1. 0. 1. 0. 1. 0. 1.]\n",
    " [1. 0. 1. 0. 1. 0. 1. 0.]\n",
    " [0. 1. 0. 1. 0. 1. 0. 1.]\n",
    " [1. 0. 1. 0. 1. 0. 1. 0.]\n",
    " [0. 1. 0. 1. 0. 1. 0. 1.]\n",
    " [1. 0. 1. 0. 1. 0. 1. 0.]]"
   ]
  },
  {
   "cell_type": "markdown",
   "metadata": {
    "colab_type": "text",
    "id": "b6_ivXDqYfqo"
   },
   "source": [
    "## Calculations with higher-dimensional data\n",
    "\n",
    "When functions such as min, max, etc. are applied to a multidimensional arrays, it is sometimes useful to apply the calculation to the entire array, and sometimes only on a row or column basis. Using the axis argument we can specify how these functions should behave:"
   ]
  },
  {
   "cell_type": "code",
   "execution_count": 20,
   "metadata": {
    "colab": {},
    "colab_type": "code",
    "id": "u00d9bcDYfqp",
    "outputId": "1e688a39-875c-49cd-9b14-6d1339db98f4"
   },
   "outputs": [
    {
     "data": {
      "text/plain": [
       "array([[0.89349312, 0.37346264, 0.23554196],\n",
       "       [0.62778925, 0.8461899 , 0.06571862]])"
      ]
     },
     "execution_count": 20,
     "metadata": {},
     "output_type": "execute_result"
    }
   ],
   "source": [
    "m = np.random.rand(2,3)\n",
    "m"
   ]
  },
  {
   "cell_type": "code",
   "execution_count": 21,
   "metadata": {
    "colab": {},
    "colab_type": "code",
    "id": "AnhAoEF_Yfqr",
    "outputId": "8275c39d-ffe8-4650-fb75-e17227073eca"
   },
   "outputs": [
    {
     "data": {
      "text/plain": [
       "0.8934931192300186"
      ]
     },
     "execution_count": 21,
     "metadata": {},
     "output_type": "execute_result"
    }
   ],
   "source": [
    "# global max\n",
    "m.max()"
   ]
  },
  {
   "cell_type": "code",
   "execution_count": 22,
   "metadata": {
    "colab": {},
    "colab_type": "code",
    "id": "gKu8LZsqYfqt",
    "outputId": "bd7270c4-3600-473e-cb13-731b5326d8a9"
   },
   "outputs": [
    {
     "data": {
      "text/plain": [
       "array([0.89349312, 0.8461899 , 0.23554196])"
      ]
     },
     "execution_count": 22,
     "metadata": {},
     "output_type": "execute_result"
    }
   ],
   "source": [
    "# max in each column\n",
    "m.max(axis=0)"
   ]
  },
  {
   "cell_type": "code",
   "execution_count": 23,
   "metadata": {
    "colab": {},
    "colab_type": "code",
    "id": "EnjCiPa3Yfqv",
    "outputId": "caee5db4-b3ce-4f32-e610-aa2f301ba366"
   },
   "outputs": [
    {
     "data": {
      "text/plain": [
       "array([0.89349312, 0.8461899 ])"
      ]
     },
     "execution_count": 23,
     "metadata": {},
     "output_type": "execute_result"
    }
   ],
   "source": [
    "# max in each row\n",
    "m.max(axis=1)"
   ]
  },
  {
   "cell_type": "code",
   "execution_count": 13,
   "metadata": {
    "colab": {},
    "colab_type": "code",
    "id": "fHfNrve_Yfq8",
    "outputId": "025d90d6-8930-4a30-d8f9-216778fc8d81"
   },
   "outputs": [
    {
     "name": "stdout",
     "output_type": "stream",
     "text": [
      "[0 1 2 3 4]\n",
      "[ 1.   2.   2.5  5.  10. ]\n"
     ]
    },
    {
     "data": {
      "text/plain": [
       "array([ 0., 10., 20., 30., 40.])"
      ]
     },
     "execution_count": 13,
     "metadata": {},
     "output_type": "execute_result"
    }
   ],
   "source": [
    "# 'out' terminology (which skips the stepp of assigning it to a temporary array)\n",
    "x = np.arange(5)\n",
    "y = np.empty(5)\n",
    "\n",
    "print(x)\n",
    "print(y)\n",
    "\n",
    "np.multiply(x, 10, out=y)\n"
   ]
  },
  {
   "cell_type": "code",
   "execution_count": 0,
   "metadata": {
    "colab": {},
    "colab_type": "code",
    "id": "pTX61clzYfq-",
    "outputId": "18d80460-a0c8-4851-dcc7-909020a9e707"
   },
   "outputs": [
    {
     "name": "stdout",
     "output_type": "stream",
     "text": [
      "15\n",
      "120\n",
      "[ 1  3  6 10 15]\n",
      "[  1   2   6  24 120]\n"
     ]
    }
   ],
   "source": [
    "x = np.arange(1, 6)\n",
    "print(np.add.reduce(x))\n",
    "print(np.multiply.reduce(x))\n",
    "print(np.add.accumulate(x))\n",
    "print(np.multiply.accumulate(x))"
   ]
  },
  {
   "cell_type": "code",
   "execution_count": 0,
   "metadata": {
    "colab": {},
    "colab_type": "code",
    "id": "LZZvzqSFYfrB",
    "outputId": "0f061a41-1e5f-4050-d0a5-2d61f8d90e05",
    "scrolled": true
   },
   "outputs": [
    {
     "data": {
      "text/plain": [
       "array([[ 1,  2,  3,  4,  5],\n",
       "       [ 2,  4,  6,  8, 10],\n",
       "       [ 3,  6,  9, 12, 15],\n",
       "       [ 4,  8, 12, 16, 20],\n",
       "       [ 5, 10, 15, 20, 25]])"
      ]
     },
     "execution_count": 21,
     "metadata": {
      "tags": []
     },
     "output_type": "execute_result"
    }
   ],
   "source": [
    "# Outer Products\n",
    "x = np.arange(1, 6)\n",
    "np.multiply.outer(x, x)"
   ]
  },
  {
   "cell_type": "markdown",
   "metadata": {
    "colab_type": "text",
    "id": "R7CrXe3vYfrE"
   },
   "source": [
    "### Other aggregation functions\n",
    "\n",
    "NumPy provides many other aggregation functions, but we won't discuss them in detail here.\n",
    "Additionally, most aggregates have a ``NaN``-safe counterpart that computes the result while ignoring missing values, which are marked by the special IEEE floating-point ``NaN`` value (for a fuller discussion of missing data, see [Handling Missing Data](03.04-Missing-Values.ipynb)).\n",
    "Some of these ``NaN``-safe functions were not added until NumPy 1.8, so they will not be available in older NumPy versions.\n",
    "\n",
    "The following table provides a list of useful aggregation functions available in NumPy:\n",
    "\n",
    "|Function Name      |   NaN-safe Version  | Description                                   |\n",
    "|-------------------|---------------------|-----------------------------------------------|\n",
    "| ``np.sum``        | ``np.nansum``       | Compute sum of elements                       |\n",
    "| ``np.prod``       | ``np.nanprod``      | Compute product of elements                   |\n",
    "| ``np.mean``       | ``np.nanmean``      | Compute mean of elements                      |\n",
    "| ``np.std``        | ``np.nanstd``       | Compute standard deviation                    |\n",
    "| ``np.var``        | ``np.nanvar``       | Compute variance                              |\n",
    "| ``np.min``        | ``np.nanmin``       | Find minimum value                            |\n",
    "| ``np.max``        | ``np.nanmax``       | Find maximum value                            |\n",
    "| ``np.argmin``     | ``np.nanargmin``    | Find index of minimum value                   |\n",
    "| ``np.argmax``     | ``np.nanargmax``    | Find index of maximum value                   |\n",
    "| ``np.median``     | ``np.nanmedian``    | Compute median of elements                    |\n",
    "| ``np.percentile`` | ``np.nanpercentile``| Compute rank-based statistics of elements     |\n",
    "| ``np.any``        | N/A                 | Evaluate whether any elements are true        |\n",
    "| ``np.all``        | N/A                 | Evaluate whether all elements are true        |\n",
    "\n",
    "Source: Python Data Science Handbook"
   ]
  },
  {
   "cell_type": "markdown",
   "metadata": {
    "colab_type": "text",
    "id": "lUg-6JwkYfLY"
   },
   "source": [
    "### Fancy indexing\n",
    "Fancy indexing is the name for when an array or list is used in-place of an index:"
   ]
  },
  {
   "cell_type": "code",
   "execution_count": null,
   "metadata": {
    "colab": {},
    "colab_type": "code",
    "id": "tyA9aRMjYfLm"
   },
   "outputs": [],
   "source": [
    "A = np.array([[n+m*10 for n in range(5)] for m in range(5)])\n",
    "print(A)\n",
    "row_indices = [0]\n",
    "col_indices = [0, 1, -1] # remember, index -1 means the last element\n",
    "A[row_indices, col_indices]"
   ]
  },
  {
   "cell_type": "code",
   "execution_count": null,
   "metadata": {
    "colab": {},
    "colab_type": "code",
    "id": "F9xWCnsjYfL8"
   },
   "outputs": [],
   "source": [
    "A[[1],[1]]\n",
    "A[1, 1]"
   ]
  },
  {
   "cell_type": "markdown",
   "metadata": {
    "colab_type": "text",
    "id": "DdVKYfdiYfMK"
   },
   "source": [
    "We can also use index masks: If the index mask is an Numpy array of data type bool, then an element is selected (True) or not (False) depending on the value of the index mask at the position of each element:"
   ]
  },
  {
   "cell_type": "code",
   "execution_count": null,
   "metadata": {
    "colab": {},
    "colab_type": "code",
    "id": "g8xkCY1kYfMP"
   },
   "outputs": [],
   "source": [
    "B = np.array([n for n in range(5)])\n",
    "B"
   ]
  },
  {
   "cell_type": "code",
   "execution_count": null,
   "metadata": {
    "colab": {},
    "colab_type": "code",
    "id": "qaWLVjLvYfQm"
   },
   "outputs": [],
   "source": [
    "row_mask = np.array([True, False, True, False, False])\n",
    "B[row_mask]"
   ]
  },
  {
   "cell_type": "markdown",
   "metadata": {
    "colab_type": "text",
    "id": "cDtSfxD5YfQs"
   },
   "source": [
    "This feature is very useful to conditionally select elements from an array, using for example comparison operators:"
   ]
  },
  {
   "cell_type": "code",
   "execution_count": null,
   "metadata": {
    "colab": {},
    "colab_type": "code",
    "id": "r4ln5tTvYfQt"
   },
   "outputs": [],
   "source": [
    "x = np.arange(0, 10, 0.5)\n",
    "x"
   ]
  },
  {
   "cell_type": "code",
   "execution_count": null,
   "metadata": {
    "colab": {},
    "colab_type": "code",
    "id": "DjYddjsnYfQy"
   },
   "outputs": [],
   "source": [
    "mask = (5 < x) * (x < 7.5)\n",
    "\n",
    "mask"
   ]
  },
  {
   "cell_type": "code",
   "execution_count": null,
   "metadata": {
    "colab": {},
    "colab_type": "code",
    "id": "SF-x8TQHYfQ3"
   },
   "outputs": [],
   "source": [
    "x[mask]"
   ]
  },
  {
   "cell_type": "markdown",
   "metadata": {
    "colab_type": "text",
    "id": "Sitgoh2TYfQ7"
   },
   "source": [
    "### Using arrays in conditions\n",
    "\n",
    "When using arrays in conditions,for example ```if``` statements and other boolean expressions, one needs to use ```any``` or ```all```, which requires that any or all elements in the array evalutes to ```True```:"
   ]
  },
  {
   "cell_type": "code",
   "execution_count": null,
   "metadata": {
    "colab": {},
    "colab_type": "code",
    "id": "9gptfMeMYfQ7"
   },
   "outputs": [],
   "source": [
    "M = np.array([[ 1,  4],[ 9, 16]])\n",
    "M"
   ]
  },
  {
   "cell_type": "code",
   "execution_count": null,
   "metadata": {
    "colab": {},
    "colab_type": "code",
    "id": "-onS2bG_YfRF"
   },
   "outputs": [],
   "source": [
    "# if any of the elements met the criteria\n",
    "if (M > 5).any():\n",
    "    print(\"at least one element in M is larger than 5\")\n",
    "else:\n",
    "    print(\"no element in M is larger than 5\")\n",
    "    \n",
    "print((M>5).any())    "
   ]
  },
  {
   "cell_type": "code",
   "execution_count": null,
   "metadata": {
    "colab": {},
    "colab_type": "code",
    "id": "FdTxwLUhYfRK"
   },
   "outputs": [],
   "source": [
    "# if all of the elements met the criteria\n",
    "if (M > 5).all():\n",
    "    print(\"all elements in M are larger than 5\")\n",
    "else:\n",
    "    print(\"not all elements in M are larger than 5\")\n",
    "    \n",
    "print((M>5).all()) "
   ]
  },
  {
   "cell_type": "code",
   "execution_count": null,
   "metadata": {
    "colab": {},
    "colab_type": "code",
    "id": "r41UlH0_YfSE"
   },
   "outputs": [],
   "source": [
    "B = np.array([n for n in range(1, 5)])\n",
    "print(B)\n",
    "B.mean() # (1+2+3+4) / 4 "
   ]
  },
  {
   "cell_type": "markdown",
   "metadata": {
    "colab_type": "text",
    "id": "xR8mTxTLYfSX"
   },
   "source": [
    "## Functions for extracting data from arrays and creating arrays\n",
    "\n",
    "**where**\n",
    "\n",
    "The index mask can be converted to position index using the where function"
   ]
  },
  {
   "cell_type": "code",
   "execution_count": null,
   "metadata": {
    "colab": {},
    "colab_type": "code",
    "id": "3onnQPICYfSY"
   },
   "outputs": [],
   "source": [
    "print(mask)\n",
    "indices = np.where(mask)\n",
    "\n",
    "indices"
   ]
  },
  {
   "cell_type": "code",
   "execution_count": null,
   "metadata": {
    "colab": {},
    "colab_type": "code",
    "id": "5-olEndnYfSd"
   },
   "outputs": [],
   "source": [
    "x[indices] # this indexing is equivalent to the fancy indexing x[mask]\n",
    "\n",
    "#x[np.where(mask)]"
   ]
  },
  {
   "cell_type": "markdown",
   "metadata": {
    "colab_type": "text",
    "id": "lDfCnlH5YfSp"
   },
   "source": [
    "**diag**\n",
    "\n",
    "With the diag function we can also extract the diagonal and subdiagonals of an array:"
   ]
  },
  {
   "cell_type": "code",
   "execution_count": null,
   "metadata": {
    "colab": {},
    "colab_type": "code",
    "id": "qLn9ixA2YfSq"
   },
   "outputs": [],
   "source": [
    "A = np.array([[n+m*10 for n in range(5)] for m in range(5)])\n",
    "print(A)\n",
    "np.diag(A)"
   ]
  },
  {
   "cell_type": "code",
   "execution_count": null,
   "metadata": {
    "colab": {},
    "colab_type": "code",
    "id": "7Q5KpWPjYfSt"
   },
   "outputs": [],
   "source": [
    "# with offset\n",
    "np.diag(A, k = -1)"
   ]
  },
  {
   "cell_type": "markdown",
   "metadata": {
    "colab_type": "text",
    "id": "jwnJuo58YfSy"
   },
   "source": [
    "**take**\n",
    "\n",
    "The take function is similar to fancy indexing described above:"
   ]
  },
  {
   "cell_type": "code",
   "execution_count": null,
   "metadata": {
    "colab": {},
    "colab_type": "code",
    "id": "oWzLfbtRYfSz"
   },
   "outputs": [],
   "source": [
    "v2 = np.arange(-3,3)\n",
    "v2"
   ]
  },
  {
   "cell_type": "code",
   "execution_count": null,
   "metadata": {
    "colab": {},
    "colab_type": "code",
    "id": "TdthsdzIYfS9"
   },
   "outputs": [],
   "source": [
    "row_indices = [1, 3, 5] # specify the position to retrieve\n",
    "v2[row_indices] # fancy indexing"
   ]
  },
  {
   "cell_type": "code",
   "execution_count": null,
   "metadata": {
    "colab": {},
    "colab_type": "code",
    "id": "R6hg_z6TYfXb"
   },
   "outputs": [],
   "source": [
    "v2.take(row_indices)"
   ]
  },
  {
   "cell_type": "markdown",
   "metadata": {
    "colab_type": "text",
    "id": "AFCUlX-1YfXg"
   },
   "source": [
    "But take also works on lists and other objects:\n"
   ]
  },
  {
   "cell_type": "code",
   "execution_count": null,
   "metadata": {
    "colab": {},
    "colab_type": "code",
    "id": "UpLIa8ukYfXj"
   },
   "outputs": [],
   "source": [
    "np.take([-3, -2, -1,  0,  1,  2], row_indices)"
   ]
  },
  {
   "cell_type": "markdown",
   "metadata": {
    "colab_type": "text",
    "id": "D_ybZwnfYfX5"
   },
   "source": [
    "**choose**\n",
    "\n",
    "Constructs an array by picking elements from several arrays:"
   ]
  },
  {
   "cell_type": "code",
   "execution_count": null,
   "metadata": {
    "colab": {},
    "colab_type": "code",
    "id": "8PDSHUuWYfX8"
   },
   "outputs": [],
   "source": [
    "which = [1, 0, 1, 0, 2] # it is the index of which array\n",
    "choices = [[-1,-2,-3,-4,-5], [1,2,3,4,5], [10, 11, 12, 13, 14]]\n",
    "\n",
    "np.choose(which, choices)"
   ]
  },
  {
   "cell_type": "markdown",
   "metadata": {},
   "source": [
    "# Quick exercise"
   ]
  },
  {
   "cell_type": "code",
   "execution_count": null,
   "metadata": {},
   "outputs": [],
   "source": [
    "# Exercise 1: retrieve value that is bigger than 50 using np.where function\n",
    "exercise_data = np.array([39, 40, 52, 48])\n"
   ]
  },
  {
   "cell_type": "code",
   "execution_count": null,
   "metadata": {},
   "outputs": [],
   "source": [
    "# Exercise 2: retrieve value that is smaller than 40 using np.where function\n",
    "exercise_data = np.array([[39, 40, 52, 48], [48, 70, 20, 39]])\n"
   ]
  },
  {
   "cell_type": "markdown",
   "metadata": {
    "colab_type": "text",
    "id": "HeUDzBJeYeDe"
   },
   "source": [
    "## Broadcasting\n",
    "\n",
    "![Broadcasting](https://i.stack.imgur.com/JcKv1.png)\n",
    "\n",
    "**Broadcasting** is an important concept in Numpy arrays, which is simply a set of rules for applying binary ufuncs (e.g., addition, subtraction, multiplication, etc.) on arrays of different sizes. It sort of helps us to cater for operations that will be performed on array of different sizes, in an intuitive way."
   ]
  },
  {
   "cell_type": "code",
   "execution_count": null,
   "metadata": {
    "colab": {},
    "colab_type": "code",
    "id": "i66Y2QXRYeDf"
   },
   "outputs": [],
   "source": [
    "M = np.ones((3, 3))\n",
    "M"
   ]
  },
  {
   "cell_type": "code",
   "execution_count": null,
   "metadata": {
    "colab": {},
    "colab_type": "code",
    "id": "CfJup6XmYeE1"
   },
   "outputs": [],
   "source": [
    "M + 5"
   ]
  },
  {
   "cell_type": "markdown",
   "metadata": {
    "colab_type": "text",
    "id": "DSWbwYIzYeE9"
   },
   "source": [
    "Cool. Numpy knows that you are trying to add a single number (think of 1x1 size) to a 3x3 matrix. Mathematically, this is not possible, but Numpy knows that intuitively, you wanted to add a constant number 5 to all elements of the array."
   ]
  },
  {
   "cell_type": "code",
   "execution_count": null,
   "metadata": {
    "colab": {},
    "colab_type": "code",
    "id": "iWYFZ6qDYeE-"
   },
   "outputs": [],
   "source": [
    "a = np.arange(3)\n",
    "b = np.arange(3)[:, np.newaxis]    # this adds a 2nd axis to array a. Basically this means\n",
    "                                    # putting the array elements along the new 2nd axis (columns)\n",
    "                                    # try...\n",
    "#b = np.arange(3)[np.newaxis, :]  \n",
    "\n",
    "print(a)\n",
    "print(b)\n",
    "print(a.shape)                     # this is only 1-D\n",
    "print(b.shape)      # the same array in 2-D representation"
   ]
  },
  {
   "cell_type": "markdown",
   "metadata": {
    "colab_type": "text",
    "id": "aYw8F7uJYeFG"
   },
   "source": [
    "Of course, there are other ways of doing the same thing, that is, use the reshape function."
   ]
  },
  {
   "cell_type": "code",
   "execution_count": null,
   "metadata": {
    "colab": {},
    "colab_type": "code",
    "id": "1jwDuiLzYeFG"
   },
   "outputs": [],
   "source": [
    "np.arange(3).reshape((3,1))"
   ]
  },
  {
   "cell_type": "code",
   "execution_count": null,
   "metadata": {
    "colab": {},
    "colab_type": "code",
    "id": "pfHrX9fJYeFM"
   },
   "outputs": [],
   "source": [
    "np.arange(3)[np.newaxis,np.newaxis]   # this adds 2 new axes! "
   ]
  },
  {
   "cell_type": "code",
   "execution_count": null,
   "metadata": {
    "colab": {},
    "colab_type": "code",
    "id": "RXfwzJs6YeFS"
   },
   "outputs": [],
   "source": [
    "print(a.shape)\n",
    "print(b.shape)\n",
    "a + b"
   ]
  },
  {
   "cell_type": "markdown",
   "metadata": {
    "colab_type": "text",
    "id": "wJpgPqfjYeFY"
   },
   "source": [
    "Now, adding a 1-D array to a 2-D array shouldn't be possible in the first place, but broadcasting allows the intuition of adding each element of one array to all elements of the other array. This resulted in a 3x3 array."
   ]
  },
  {
   "cell_type": "markdown",
   "metadata": {
    "colab_type": "text",
    "id": "ZCV3eA7dYeFZ"
   },
   "source": [
    "## Rules of Broadcasting\n",
    "\n",
    "Broadcasting in NumPy follows a strict set of rules to determine the interaction between the two arrays:\n",
    "\n",
    "- **Rule 1:** If the two arrays differ in their number of dimensions, the shape of the one with fewer dimensions is *padded* with ones on its leading (left) side.\n",
    "- **Rule 2:** If the shape of the two arrays does not match in any dimension, the array with shape equal to 1 in that dimension is stretched to match the other shape.\n",
    "- **Rule 3:** If in any dimension the sizes disagree and neither is equal to 1, an error is raised.\n",
    "\n",
    "To make these rules clear, let's consider a few examples in detail."
   ]
  },
  {
   "cell_type": "code",
   "execution_count": null,
   "metadata": {
    "colab": {},
    "colab_type": "code",
    "id": "hV_Cd1PBYeFa"
   },
   "outputs": [],
   "source": [
    "# Rule one:  If the two arrays differ in their number of dimensions, \n",
    "# the shape of the one with fewer dimensions is padded with ones on its leading (left) side.\n",
    "\n",
    "M = np.array([[0,1,2], [4,5,6]])\n",
    "a = np.arange(3)\n",
    "print(M)\n",
    "print(a)\n",
    "M + a"
   ]
  },
  {
   "cell_type": "code",
   "execution_count": null,
   "metadata": {
    "colab": {},
    "colab_type": "code",
    "id": "OUfVTPmUYeGY"
   },
   "outputs": [],
   "source": [
    "# Rule two: If the shape of the two arrays does not match in any dimension, \n",
    "# the array with shape equal to 1 in that dimension is stretched to match the other shape.\n",
    "\n",
    "a = np.arange(3).reshape((3, 1))\n",
    "b = np.arange(3)\n",
    "print(a.shape)\n",
    "print(b.shape)\n",
    "print(a,b)"
   ]
  },
  {
   "cell_type": "code",
   "execution_count": null,
   "metadata": {
    "colab": {},
    "colab_type": "code",
    "id": "DSdukBuOYeGm"
   },
   "outputs": [],
   "source": [
    "a + b"
   ]
  },
  {
   "cell_type": "code",
   "execution_count": null,
   "metadata": {
    "colab": {},
    "colab_type": "code",
    "id": "fY-w4QqiYeHX"
   },
   "outputs": [],
   "source": [
    "# Rule three\n",
    "M = np.ones((3, 2))\n",
    "a = np.arange(3)\n",
    "print(M)\n",
    "print(a)\n",
    "M + a"
   ]
  },
  {
   "cell_type": "markdown",
   "metadata": {
    "colab_type": "text",
    "id": "w7iy49GFYeH4"
   },
   "source": [
    "We have a problem. Broadcasting cannot happen because the shapes are not similar and there's no way to replicate. To get over the problem, let's first ensure that they are both 2-D arrays. "
   ]
  },
  {
   "cell_type": "code",
   "execution_count": null,
   "metadata": {
    "colab": {},
    "colab_type": "code",
    "id": "Hs5ks0olYeH6"
   },
   "outputs": [],
   "source": [
    "# To get over the problem, add a new axis to a\n",
    "print(a[:, np.newaxis].shape)\n",
    "print(M.shape)"
   ]
  },
  {
   "cell_type": "markdown",
   "metadata": {
    "colab_type": "text",
    "id": "zQ7a3ZcoYeJT"
   },
   "source": [
    "Now, it should work! "
   ]
  },
  {
   "cell_type": "code",
   "execution_count": null,
   "metadata": {
    "colab": {},
    "colab_type": "code",
    "id": "2equX30HYeJT"
   },
   "outputs": [],
   "source": [
    "M + a[:, np.newaxis]"
   ]
  },
  {
   "cell_type": "markdown",
   "metadata": {
    "colab_type": "text",
    "id": "JDaGzVnkYeJt"
   },
   "source": [
    "#### More on broadcasting here:\n",
    "https://docs.scipy.org/doc/numpy/user/basics.broadcasting.html"
   ]
  },
  {
   "cell_type": "markdown",
   "metadata": {
    "colab_type": "text",
    "id": "MKV1Dl7rYfYf"
   },
   "source": [
    "## Linear algebra\n",
    "\n",
    "Vectorizing code is the key to writing efficient numerical calculation with Python/Numpy. That means that as much as possible of a program should be formulated in terms of matrix and vector operations, like matrix-matrix multiplication.\n",
    "\n",
    "### Scalar-array operations\n",
    "We can use the usual arithmetic operators to multiply, add, subtract, and divide arrays with scalar numbers."
   ]
  },
  {
   "cell_type": "code",
   "execution_count": null,
   "metadata": {
    "colab": {},
    "colab_type": "code",
    "id": "yD4ulMyOYfYm"
   },
   "outputs": [],
   "source": [
    "v1 = np.arange(0, 5)\n",
    "v1"
   ]
  },
  {
   "cell_type": "code",
   "execution_count": null,
   "metadata": {
    "colab": {},
    "colab_type": "code",
    "id": "ELmAeEHyYfZi"
   },
   "outputs": [],
   "source": [
    "v1 * 2"
   ]
  },
  {
   "cell_type": "code",
   "execution_count": null,
   "metadata": {
    "colab": {},
    "colab_type": "code",
    "id": "gm3ZqZBXYfa3"
   },
   "outputs": [],
   "source": [
    "v1 + 2"
   ]
  },
  {
   "cell_type": "code",
   "execution_count": null,
   "metadata": {
    "colab": {},
    "colab_type": "code",
    "id": "x0s_QYvpYfbC"
   },
   "outputs": [],
   "source": [
    "print(A * 2)\n",
    "print(A + 2)"
   ]
  },
  {
   "cell_type": "markdown",
   "metadata": {
    "colab_type": "text",
    "id": "2YswgJvBYfbJ"
   },
   "source": [
    "### Element-wise array-array operations\n",
    "\n",
    "When we add, subtract, multiply and divide arrays with each other, the default behaviour is element-wise operations:"
   ]
  },
  {
   "cell_type": "code",
   "execution_count": null,
   "metadata": {
    "colab": {},
    "colab_type": "code",
    "id": "PNqVgj0lYfbK"
   },
   "outputs": [],
   "source": [
    "print(A)\n",
    "A * A # element-wise multiplication"
   ]
  },
  {
   "cell_type": "code",
   "execution_count": null,
   "metadata": {
    "colab": {},
    "colab_type": "code",
    "id": "fovbmEYJYfbQ"
   },
   "outputs": [],
   "source": [
    "print(v1)\n",
    "v1 * v1"
   ]
  },
  {
   "cell_type": "markdown",
   "metadata": {
    "colab_type": "text",
    "id": "SEn5QdhPYfbT"
   },
   "source": [
    "If we multiply arrays with compatible shapes, we get an element-wise multiplication of each row:\n"
   ]
  },
  {
   "cell_type": "code",
   "execution_count": null,
   "metadata": {
    "colab": {},
    "colab_type": "code",
    "id": "fkjg_NttYfbT"
   },
   "outputs": [],
   "source": [
    "A.shape, v1.shape"
   ]
  },
  {
   "cell_type": "code",
   "execution_count": null,
   "metadata": {
    "colab": {},
    "colab_type": "code",
    "id": "rBinl2t-Yfbb"
   },
   "outputs": [],
   "source": [
    "A * v1"
   ]
  },
  {
   "attachments": {
    "image.png": {
     "image/png": "[encoded data removed]"
    }
   },
   "cell_type": "markdown",
   "metadata": {
    "colab_type": "text",
    "id": "53C2ISnYYfbo"
   },
   "source": [
    "### Matrix algebra\n",
    "\n",
    "What about matrix mutiplication? There are two ways. We can either use the dot function, which applies a matrix-matrix, matrix-vector, or inner vector multiplication to its two arguments:\n",
    "\n",
    "![image.png](attachment:image.png)"
   ]
  },
  {
   "cell_type": "code",
   "execution_count": null,
   "metadata": {
    "colab": {},
    "colab_type": "code",
    "id": "KjiS7gXyYfbo"
   },
   "outputs": [],
   "source": [
    "print(A)\n",
    "np.dot(A,A)"
   ]
  },
  {
   "cell_type": "code",
   "execution_count": null,
   "metadata": {
    "colab": {},
    "colab_type": "code",
    "id": "LK0odJ_DYfcq"
   },
   "outputs": [],
   "source": [
    "np.dot(A, v1)"
   ]
  },
  {
   "cell_type": "code",
   "execution_count": null,
   "metadata": {
    "colab": {},
    "colab_type": "code",
    "id": "hJqtSU2DYfct"
   },
   "outputs": [],
   "source": [
    "print(v1)\n",
    "np.dot(v1,v1)"
   ]
  },
  {
   "cell_type": "markdown",
   "metadata": {
    "colab_type": "text",
    "id": "i5TKzL4OYfcx"
   },
   "source": [
    "Alternatively, we can cast the array objects to the type matrix. This changes the behavior of the standard arithmetic operators +, -, * to use matrix algebra."
   ]
  },
  {
   "cell_type": "code",
   "execution_count": null,
   "metadata": {
    "colab": {},
    "colab_type": "code",
    "id": "TjNXHQFMYfcy"
   },
   "outputs": [],
   "source": [
    "print(A)\n",
    "print(A.T)"
   ]
  },
  {
   "cell_type": "code",
   "execution_count": null,
   "metadata": {
    "colab": {},
    "colab_type": "code",
    "id": "LJYPtOxMYfc1"
   },
   "outputs": [],
   "source": [
    "M = np.matrix(A)\n",
    "v = np.matrix(v1).T # make it a column vector"
   ]
  },
  {
   "cell_type": "code",
   "execution_count": null,
   "metadata": {
    "colab": {},
    "colab_type": "code",
    "id": "gOqkOgN7Yfc3"
   },
   "outputs": [],
   "source": [
    "M"
   ]
  },
  {
   "cell_type": "code",
   "execution_count": null,
   "metadata": {
    "colab": {},
    "colab_type": "code",
    "id": "GUBAfmENYfc6"
   },
   "outputs": [],
   "source": [
    "type(M)"
   ]
  },
  {
   "cell_type": "markdown",
   "metadata": {
    "colab_type": "text",
    "id": "KbvkVoomYfdG"
   },
   "source": [
    "Notice that the type is now no longer an 'array', but a 'matrix'. This shows the \"array\" in matrix mode."
   ]
  },
  {
   "cell_type": "code",
   "execution_count": null,
   "metadata": {
    "colab": {},
    "colab_type": "code",
    "id": "H8asqqmhYfdG"
   },
   "outputs": [],
   "source": [
    "v"
   ]
  },
  {
   "cell_type": "code",
   "execution_count": null,
   "metadata": {
    "colab": {},
    "colab_type": "code",
    "id": "3ADvWB9OYfdM"
   },
   "outputs": [],
   "source": [
    "M * M"
   ]
  },
  {
   "cell_type": "code",
   "execution_count": null,
   "metadata": {
    "colab": {},
    "colab_type": "code",
    "id": "Qnjmyr-0Yffp"
   },
   "outputs": [],
   "source": [
    "M * v"
   ]
  },
  {
   "cell_type": "markdown",
   "metadata": {
    "colab_type": "text",
    "id": "nd6DBcToYffw"
   },
   "source": [
    "If we try to add, subtract or multiply objects with incomplatible shapes we get an error:\n"
   ]
  },
  {
   "cell_type": "code",
   "execution_count": null,
   "metadata": {
    "colab": {},
    "colab_type": "code",
    "id": "XOfn3rHJYffz"
   },
   "outputs": [],
   "source": [
    "v = np.matrix([1,2,3,4,5,6]).T"
   ]
  },
  {
   "cell_type": "code",
   "execution_count": null,
   "metadata": {
    "colab": {},
    "colab_type": "code",
    "id": "wRVaQ3kVYff5"
   },
   "outputs": [],
   "source": [
    "M.shape, v.shape"
   ]
  },
  {
   "cell_type": "code",
   "execution_count": null,
   "metadata": {
    "colab": {},
    "colab_type": "code",
    "id": "YEkUvgE5Yff8"
   },
   "outputs": [],
   "source": [
    "M * v #error due to different dimension"
   ]
  }
 ],
 "metadata": {
  "anaconda-cloud": {},
  "colab": {
   "name": "P06 - Numpy.ipynb",
   "provenance": []
  },
  "kernelspec": {
   "display_name": "Python 3",
   "language": "python",
   "name": "python3"
  },
  "language_info": {
   "codemirror_mode": {
    "name": "ipython",
    "version": 3
   },
   "file_extension": ".py",
   "mimetype": "text/x-python",
   "name": "python",
   "nbconvert_exporter": "python",
   "pygments_lexer": "ipython3",
   "version": "3.8.5"
  }
 },
 "nbformat": 4,
 "nbformat_minor": 1
}
