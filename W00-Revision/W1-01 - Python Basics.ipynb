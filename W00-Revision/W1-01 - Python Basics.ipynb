{
 "cells": [
  {
   "cell_type": "markdown",
   "metadata": {},
   "source": [
    "# Part 0 - Jupyter Notebook\n",
    "\n",
    "Welcome to Jupyter notebook! Before we begin to learn the Python Basics, let's see what Jupyter notebook can do!\n",
    "\n",
    "A Jupyter notebook is a convenient way of learning Python on the browser via an integrated service running the IPython kernel. \n",
    "\n",
    "## Contents:\n",
    "* Check your Kernel status\n",
    "* How to work with the notebook\n"
   ]
  },
  {
   "cell_type": "markdown",
   "metadata": {},
   "source": [
    "## Kernet Status\n",
    "\n",
    "IPython kernel runs (execute) the python code by cell.  "
   ]
  },
  {
   "cell_type": "code",
   "execution_count": null,
   "metadata": {},
   "outputs": [],
   "source": [
    "print(\"Run me.\")"
   ]
  },
  {
   "cell_type": "code",
   "execution_count": null,
   "metadata": {},
   "outputs": [],
   "source": [
    "import time\n",
    "\n",
    "print(\"Starts running~\")\n",
    "time.sleep(5)\n",
    "print(\"Done running!\")"
   ]
  },
  {
   "cell_type": "code",
   "execution_count": null,
   "metadata": {},
   "outputs": [],
   "source": [
    "print(\"Bob is running!\")"
   ]
  },
  {
   "cell_type": "code",
   "execution_count": null,
   "metadata": {},
   "outputs": [],
   "source": [
    "print(\"Alice is running!\")"
   ]
  },
  {
   "cell_type": "code",
   "execution_count": null,
   "metadata": {},
   "outputs": [],
   "source": [
    "print(\"Everyone is running!\")"
   ]
  },
  {
   "cell_type": "markdown",
   "metadata": {},
   "source": [
    "## How to add, delete, undo the cells?\n"
   ]
  },
  {
   "cell_type": "code",
   "execution_count": null,
   "metadata": {},
   "outputs": [],
   "source": [
    "delete me please..."
   ]
  },
  {
   "cell_type": "code",
   "execution_count": null,
   "metadata": {},
   "outputs": [],
   "source": [
    "print(\"run me though.\")"
   ]
  },
  {
   "cell_type": "code",
   "execution_count": null,
   "metadata": {},
   "outputs": [],
   "source": [
    "dete me too..."
   ]
  },
  {
   "cell_type": "code",
   "execution_count": null,
   "metadata": {},
   "outputs": [],
   "source": [
    "# You can also perform command line executions from within the Python kernel. Add a ! in front of your command. \n",
    "!dir"
   ]
  },
  {
   "cell_type": "markdown",
   "metadata": {},
   "source": [
    "***\n",
    "# Part 1 - Python Basics\n",
    "\n",
    "The Python training modules will be mainly hands-on sessions using **Jupyter notebooks**. \n",
    "\n",
    "## Contents:\n",
    "\n",
    "* [What is a Program?](#Programs)\n",
    "* [Arithmetic](#Arithmetic)\n",
    "* [Variables](#Variables)\n",
    "* [Strings](#Strings)"
   ]
  },
  {
   "cell_type": "markdown",
   "metadata": {},
   "source": [
    "# What is a program?\n",
    "\n",
    "\n",
    "A program is a set of very precise instructions that you feed the computer to tell it to do something. \n",
    "\n",
    "Those instructions are called codes.\n",
    "\n",
    "They are the sole way for you to communicate with the computer.\n",
    "\n",
    "Programming is the art of writing codes.\n",
    "\n",
    "Programming is a powerful ability to invent, create and destroy."
   ]
  },
  {
   "cell_type": "markdown",
   "metadata": {},
   "source": [
    "## Your first program: Print!\n",
    "\n",
    "Python can handle strings of letters that are enclosed in quotation marks like:  \n",
    "\n",
    "`\"Hello Class\"` or `'Hello World'`\n",
    "\n",
    "One of the simplest programs is print, which works like the following:"
   ]
  },
  {
   "cell_type": "code",
   "execution_count": null,
   "metadata": {},
   "outputs": [],
   "source": [
    "print(\"Hello World!\") "
   ]
  },
  {
   "cell_type": "code",
   "execution_count": null,
   "metadata": {},
   "outputs": [],
   "source": [
    "# Say your name!\n",
    "print(\"My name is !\")"
   ]
  },
  {
   "cell_type": "markdown",
   "metadata": {},
   "source": [
    "***\n",
    "## Arithmetic\n",
    "\n",
    "Python can also handle numbers, and basic arithmetic using the following functions.\n",
    "\n",
    "| Symbol | Task Performed |\n",
    "|----|---|\n",
    "| +  | Addition |\n",
    "| -  | Subtraction |\n",
    "| /  | division |\n",
    "| %  | modulo |\n",
    "| *  | multiplication |\n",
    "| //  | floor division |\n",
    "| **  | to the power of |"
   ]
  },
  {
   "cell_type": "markdown",
   "metadata": {
    "scrolled": true
   },
   "source": [
    "# Add a new cell below and run these line by line\n",
    "\n",
    "print(3)\n",
    "\n",
    "print(3*5)\n",
    "\n",
    "print(3+3)\n",
    "\n",
    "print(3-2)\n",
    "\n",
    "print(8/2)\n",
    "\n",
    "print(2**5)\n",
    "\n",
    "print(5/2)\n",
    "\n",
    "print(5//2)\n"
   ]
  },
  {
   "cell_type": "code",
   "execution_count": null,
   "metadata": {},
   "outputs": [],
   "source": []
  },
  {
   "cell_type": "markdown",
   "metadata": {},
   "source": [
    "### Parentheses or brackets overrides operators precedence following arithmetic rules\n",
    "\n",
    "print(2+3*4)\n",
    "\n",
    "print((2+3)*4)\n"
   ]
  },
  {
   "cell_type": "code",
   "execution_count": null,
   "metadata": {},
   "outputs": [],
   "source": []
  },
  {
   "cell_type": "markdown",
   "metadata": {},
   "source": [
    "### Add a new cell below and run these line by line\n",
    "\n",
    "print(\"I will now count my chickens:\")\n",
    "\n",
    "print(\"Hens\", 25 + 30 / 6)\n",
    "\n",
    "print(\"Roosters\", 100 - 25 * 3 % 4)\n",
    "\n",
    "print(\"Now I will count the eggs:\")\n",
    "\n",
    "print(1 + 4 % 2 - 1 / 4 + 6)"
   ]
  },
  {
   "cell_type": "code",
   "execution_count": null,
   "metadata": {},
   "outputs": [],
   "source": []
  },
  {
   "cell_type": "markdown",
   "metadata": {},
   "source": [
    "### Question: Can you figure out the operators precedence? \n",
    "http://www.tutorialspoint.com/python/operators_precedence_example.htm "
   ]
  },
  {
   "cell_type": "code",
   "execution_count": null,
   "metadata": {
    "scrolled": false
   },
   "outputs": [],
   "source": []
  },
  {
   "cell_type": "markdown",
   "metadata": {},
   "source": [
    "### Practice: Some Basic Arithmetic Exercises"
   ]
  },
  {
   "cell_type": "markdown",
   "metadata": {},
   "source": [
    "### Add a new cell below and run these line by line\n",
    "\n",
    "print(\"What is 3 + 2?\", 3 + 2)\n",
    "\n",
    "print(\"What is 5 - 7?\", 5 - 7)\n",
    "\n",
    "print(\"Is it true that 3 + 2 < 5 - 7?\")\n",
    "\n",
    "print(3 + 2 < 5 - 7)\n",
    "\n",
    "print(\"Oh, that's why it's False.\")\n",
    "\n",
    "print(\"How about some more.\")\n",
    "\n",
    "print(\"Is it greater?\", 5 > -2)\n",
    "\n",
    "print(\"Is it greater or equal?\", 5 >= -2)\n",
    "\n",
    "print(\"Is it less or equal?\", 5 <= -2)"
   ]
  },
  {
   "cell_type": "code",
   "execution_count": null,
   "metadata": {},
   "outputs": [],
   "source": []
  },
  {
   "cell_type": "code",
   "execution_count": null,
   "metadata": {},
   "outputs": [],
   "source": [
    "# How many seconds are there in a year?\n",
    "print(365*24*60*60)"
   ]
  },
  {
   "cell_type": "code",
   "execution_count": null,
   "metadata": {},
   "outputs": [],
   "source": [
    "# What is the duration of our 6-day class in minutes?\n",
    "print(6*7*60)"
   ]
  },
  {
   "cell_type": "code",
   "execution_count": null,
   "metadata": {},
   "outputs": [],
   "source": [
    "# Find 1/2\n",
    "print(1/2)\n",
    "\n",
    "# Find 1//2 . floor division.\n",
    "print(1//2)"
   ]
  },
  {
   "cell_type": "markdown",
   "metadata": {},
   "source": [
    "### Integers vs. Float\n",
    "\n",
    "For Python 2.x, it interprets 1/2 = 0, while Python 3.x the result will be 0.5\n",
    "\n",
    "Python allows you to work with both integers (int) and numbers containing decimals (float).  \n",
    "\n",
    "Of course, every integer can be represented as a float, but there are some things you can do with integers that you cannot do with floats that mostly have to do with precision.  Python can tell automatically if a number is an int or a float, though you can override this as you see fit."
   ]
  },
  {
   "cell_type": "code",
   "execution_count": null,
   "metadata": {},
   "outputs": [],
   "source": [
    "print(1/2)\n",
    "print(int(1/2)) # convert to int\n",
    "print(float(1)) # convert to float"
   ]
  },
  {
   "cell_type": "markdown",
   "metadata": {},
   "source": [
    "### Add a new cell below and run these line by line\n",
    "print(type('c'))\n",
    "\n",
    "print(type(\"hello\"))\n",
    "\n",
    "print(type(10))\n",
    "\n",
    "print((type(10.)))\n",
    "\n",
    "print((10 / 3))\n",
    "\n",
    "print((10 % 3))\n",
    "\n",
    "print((float(10) / 3)) # Force integers to be float\n",
    "\n",
    "print((13.0 / 3.5)) # You can also change the initial data type. \n",
    "\n",
    "print((13.0 //3.5)) # Floor Division, rounds down the result to the nearest integer\n",
    "\n",
    "print((round(7.5))) # You can round floats up to the neares integer."
   ]
  },
  {
   "cell_type": "code",
   "execution_count": null,
   "metadata": {},
   "outputs": [],
   "source": []
  },
  {
   "cell_type": "markdown",
   "metadata": {},
   "source": [
    "### Integer Arithmetic\n",
    "\n",
    "Arithmetic with integer data type works the same way as normal arithmetic, except for division.  When you divide one integer by another, remainder is ignored.  To get the remainder, you can use the % (mod) operation.  \n",
    "\n",
    "To get the exact result, you convert the integers into a float using type casting.\n",
    "\n",
    "In general, if you perform an arithmetic operation with one integer and one float, Python will automatically turn both numbers into floats prior to performing the operation.\n",
    "\n",
    "**Quick Exercise 1:** \n",
    "Write a program to convert a temperature reading from Fahrenheit to Celsius. The formula for conversion is given as follows:\n",
    "\n",
    "\\begin{equation}\n",
    "    C = \\frac{(F-32)\\times 5}{9}\n",
    "\\end{equation}"
   ]
  },
  {
   "cell_type": "code",
   "execution_count": null,
   "metadata": {},
   "outputs": [],
   "source": [
    "# Quick Exercise 1\n",
    "# say F = 100\n",
    "C = (100-32)*5/9\n",
    "print(C)"
   ]
  },
  {
   "cell_type": "code",
   "execution_count": null,
   "metadata": {},
   "outputs": [],
   "source": [
    "# Now try writing a program to convert Celsius to Fahrenheit\n",
    "\n"
   ]
  },
  {
   "cell_type": "markdown",
   "metadata": {},
   "source": [
    "### Float arithmetic"
   ]
  },
  {
   "cell_type": "markdown",
   "metadata": {},
   "source": [
    "### Add a new cell below and run these line by line\n",
    "\n",
    "print(5.5 + 2.2)\n",
    "\n",
    "print(5.5 - 2.2)\n",
    "\n",
    "print(5.5 * 2.2)\n",
    "\n",
    "print(5.5 / 2.2)\n",
    "\n",
    "print(5.5 // 2.2)\n",
    "\n",
    "print(5.5 ** 2.2)\n",
    "\n",
    "print(5.5 < 2.2)\n",
    "\n",
    "print(5.5 != 2.2)\n",
    "\n",
    "print(5.5 == 5.5)\n",
    "\n",
    "print(5.5 >= 2.2)"
   ]
  },
  {
   "cell_type": "code",
   "execution_count": null,
   "metadata": {},
   "outputs": [],
   "source": []
  },
  {
   "cell_type": "markdown",
   "metadata": {},
   "source": [
    "***\n",
    "# Variables\n",
    "\n",
    "Variables simply put is a container to store information. The information can be in the various forms such as numbers, strings, characters, tuples, list, arrays and so on. Like a tupperware to store food where food = data.\n",
    "\n",
    "Each variable is given a meaningful name to represent the data that it is holding while following certain naming conventions: https://realpython.com/python-pep8/#naming-styles"
   ]
  },
  {
   "cell_type": "markdown",
   "metadata": {},
   "source": [
    "### Add a new cell below and run these line by line\n",
    "b = -10 \n",
    "\n",
    "c = 2.7 \n",
    "\n",
    "print(b)\n",
    "\n",
    "print(c)\n",
    "\n",
    "print((b + c))\n",
    "\n",
    "print((type(b)))\n",
    "\n",
    "print((type(c)))"
   ]
  },
  {
   "cell_type": "code",
   "execution_count": null,
   "metadata": {},
   "outputs": [],
   "source": []
  },
  {
   "cell_type": "code",
   "execution_count": null,
   "metadata": {},
   "outputs": [],
   "source": [
    "# Type casting\n",
    "# Note how changing the type to an int rounds down\n",
    "b = float(b)\n",
    "c = int(c)\n",
    "\n",
    "print(b)\n",
    "print(c)\n",
    "\n",
    "print((type(b)))\n",
    "print((type(c)))"
   ]
  },
  {
   "cell_type": "code",
   "execution_count": null,
   "metadata": {},
   "outputs": [],
   "source": [
    "# Little Exercise: use the new cell below and test these variables\n",
    "cars = 100\n",
    "drivers = 30\n",
    "space_in_a_car = 4\n",
    "passenger = 90"
   ]
  },
  {
   "cell_type": "markdown",
   "metadata": {},
   "source": [
    "### Add a new cell below and run these line by line\n",
    "\n",
    "print(\"There are\", cars, \"cars available.\")\n",
    "\n",
    "print(\"There are only\", drivers, \"drivers available.\")\n",
    "\n",
    "print(\"We have\", passenger, \"to carpool today.\")"
   ]
  },
  {
   "cell_type": "code",
   "execution_count": null,
   "metadata": {},
   "outputs": [],
   "source": []
  },
  {
   "cell_type": "code",
   "execution_count": null,
   "metadata": {},
   "outputs": [],
   "source": [
    "# You can assign the same value to multiple variables \n",
    "x = y = 1\n",
    "print((x,y))\n",
    "\n",
    "# This is called a TUPLE which we will cover later on\n",
    "# (1, 1)"
   ]
  },
  {
   "cell_type": "code",
   "execution_count": null,
   "metadata": {},
   "outputs": [],
   "source": [
    "# What does this function do? Returns ID of the variable. Like your IC number.\n",
    "id(x)"
   ]
  },
  {
   "cell_type": "code",
   "execution_count": null,
   "metadata": {},
   "outputs": [],
   "source": [
    "id(y)"
   ]
  },
  {
   "cell_type": "markdown",
   "metadata": {},
   "source": [
    "**Tip**: If you need a quick reference what a built-in function does, or how to use the function, place your cursor on the function name and press Shift-Tab. You will see a pop-out description of the function! "
   ]
  },
  {
   "cell_type": "code",
   "execution_count": null,
   "metadata": {},
   "outputs": [],
   "source": [
    "y = y+1\n",
    "print(y)\n",
    "print(x)"
   ]
  },
  {
   "cell_type": "code",
   "execution_count": null,
   "metadata": {},
   "outputs": [],
   "source": [
    "# Multiple Assignment - What does this do?\n",
    "x,y = 2,3\n",
    "print((x,y))\n",
    "\n",
    "x,y = y,x\n",
    "print((y,x))"
   ]
  },
  {
   "cell_type": "code",
   "execution_count": null,
   "metadata": {},
   "outputs": [],
   "source": [
    "# How fast does the speed of light travel in one nanosecond?\n",
    "# Give your answer in seconds, and assign it to a new variable called nanostick\n",
    "\n",
    "speed_of_light = 299792458 # meters per second"
   ]
  },
  {
   "cell_type": "code",
   "execution_count": null,
   "metadata": {},
   "outputs": [],
   "source": [
    "# How far does light travel in the time that your computer does one cycle?\n",
    "print(1/2400000000)\n",
    "print(speed_of_light/2400000000)"
   ]
  },
  {
   "cell_type": "code",
   "execution_count": null,
   "metadata": {},
   "outputs": [],
   "source": [
    "# Variables can vary!\n",
    "# Guess the final value of guess_this_number of this code:\n",
    "\n",
    "guess_this_number  = 17\n",
    "guess_this_number = guess_this_number/2\n",
    "guess_this_number = guess_this_number - 5\n",
    "\n",
    "# you can print to get the answer :)\n",
    "print(guess_this_number)"
   ]
  },
  {
   "cell_type": "code",
   "execution_count": null,
   "metadata": {},
   "outputs": [],
   "source": [
    "# Guess the output of this code:\n",
    "minutes = 5\n",
    "minutes = minutes + 10\n",
    "seconds = minutes / 2\n",
    "print(seconds)"
   ]
  },
  {
   "cell_type": "code",
   "execution_count": null,
   "metadata": {
    "scrolled": true
   },
   "outputs": [],
   "source": [
    "# Use this function to find out what variable has been declared, their type and data that its holding. \n",
    "# These variables persist in memory until kernel is restarted/cleared.\n",
    "%whos"
   ]
  },
  {
   "cell_type": "markdown",
   "metadata": {},
   "source": [
    "***\n",
    "# Strings\n",
    "\n",
    "A string is a set of characters.  Strings are used to store data that is _text_.\n",
    "\n",
    "In Python, Strings are abbreviated \"str\" and there are many built-in features that allow you to manipulate those strings.  \n",
    "\n",
    "Strings can be enclosed by either double or single quotes, although single quotes are more common.\n",
    "Question: Why would you want to use double quotes on occasion?"
   ]
  },
  {
   "cell_type": "markdown",
   "metadata": {},
   "source": [
    "### Which of these are valid ways of printing strings?\n",
    "1. print('hello')\n",
    "2. print(\"hello\")\n",
    "3. print('hello)\n",
    "4. print('hello\")\n",
    "5. print(\"hello\")\n",
    "6. print \"hello\"\n",
    "7. print hello"
   ]
  },
  {
   "cell_type": "code",
   "execution_count": null,
   "metadata": {},
   "outputs": [],
   "source": []
  },
  {
   "cell_type": "markdown",
   "metadata": {},
   "source": [
    "### Special character?\n",
    "How do you put \\\" in the string? The special character (\"escape\")"
   ]
  },
  {
   "cell_type": "code",
   "execution_count": null,
   "metadata": {},
   "outputs": [],
   "source": [
    "print(\"hel\"lo\")"
   ]
  },
  {
   "cell_type": "markdown",
   "metadata": {},
   "source": [
    "### Arithmetic, Variables and Strings"
   ]
  },
  {
   "cell_type": "code",
   "execution_count": null,
   "metadata": {},
   "outputs": [],
   "source": [
    "# lets combine variables and string.\n",
    "# Take note of two ways to print: concatenate string and Format string\n",
    "\n",
    "my_name = 'Daren Tan'\n",
    "my_age = 26 # not a lie\n",
    "my_height = 183 # cm\n",
    "my_weight = 80 # kg\n",
    "my_eyes = 'Brown'\n",
    "my_hair = 'Black'\n",
    "\n",
    "#  Format string\n",
    "print(\"Let's talk about %s.\" % my_name)\n",
    "print(\"He's %d cm tall.\" % my_height)\n",
    "print(\"He's %d kg heavy.\" % my_weight)\n",
    "print(\"He's got %s eyes and %s hair.\" % (my_eyes, my_hair))\n",
    "print(\"He is good looking\")"
   ]
  },
  {
   "cell_type": "markdown",
   "metadata": {},
   "source": [
    "### Concatenate string . Will there be any errors? Test it out at below cell.\n",
    "\n",
    "print(\"Let's talk about \"+my_name)\n",
    "\n",
    "print(\"He's \"+my_height+\" cm tall\")\n",
    "\n",
    "print(\"He's \"+my_weight+\" kg heavy.\")\n",
    "\n",
    "print(\"He's got \"+my_eyes+\" eyes and \"+my_hair+\" hair.\")\n",
    "\n",
    "print(\"He is good looking\")"
   ]
  },
  {
   "cell_type": "code",
   "execution_count": null,
   "metadata": {},
   "outputs": [],
   "source": []
  },
  {
   "cell_type": "code",
   "execution_count": null,
   "metadata": {},
   "outputs": [],
   "source": [
    "# String ASCII demo\n",
    "ord('A')"
   ]
  },
  {
   "cell_type": "markdown",
   "metadata": {},
   "source": [
    "#### A side note: \n",
    "One of the most useful tools for a curious programmer is the documentation, or docs that explain the functionality of a particular python type, function, or otherwise.  Take a look at the\n",
    "[Python Documentation on Strings](https://docs.python.org/3/library/stdtypes.html#str).\n",
    "\n",
    "### String Operations\n",
    "s + t -- the concatenation of s and t\n",
    "\n",
    "n * s -- equivalent to adding s to itself n times\n"
   ]
  },
  {
   "cell_type": "code",
   "execution_count": null,
   "metadata": {},
   "outputs": [],
   "source": [
    "b = 'French' # Concatenation works quite intuitively\n",
    "print(b + ' Fries')"
   ]
  },
  {
   "cell_type": "code",
   "execution_count": null,
   "metadata": {},
   "outputs": [],
   "source": [
    "print()"
   ]
  },
  {
   "cell_type": "code",
   "execution_count": null,
   "metadata": {},
   "outputs": [],
   "source": [
    "a = 'oleh '\n",
    "print((a*2 + 'Malaysia b' + a)) \n",
    "print((a*2, 'Malaysia b', a))"
   ]
  },
  {
   "cell_type": "code",
   "execution_count": null,
   "metadata": {},
   "outputs": [],
   "source": [
    "pi = 3.14\n",
    "print(('pi is approximately: ' + 3.14)) \n",
    "\n",
    "# Why does this throw an error?"
   ]
  },
  {
   "cell_type": "code",
   "execution_count": null,
   "metadata": {},
   "outputs": [],
   "source": [
    "from datetime import datetime\n",
    "str(datetime.now())"
   ]
  },
  {
   "cell_type": "markdown",
   "metadata": {},
   "source": [
    "### Slices of String Indices\n",
    "Characters in a string can be accessed using the standard [ ] syntax, and like Java and C++, Python uses zero-based indexing.  This concept will extend much further than strings.\n",
    "\n",
    "This is easiest to think about if you think of each letter as being in its own box.\n",
    "\n",
    "s[1:4] is 'ell' -- chars starting at index 1 and extending up to but not including index 4\n",
    "\n",
    "s[1:] is 'ello' -- omitting either index defaults to the start or end of the string\n",
    "\n",
    "s[:] is 'Hello' -- omitting both always gives us a copy of the whole thing (this is the pythonic way to copy a sequence like a string or list)\n",
    "\n",
    "s[1:100] is 'ello' -- an index that is too big is truncated down to the string length\n",
    "\n",
    "s[-1] is 'o' -- last char (1st from the end)\n",
    "\n",
    "s[-4] is 'e' -- 4th from the end\n",
    "\n",
    "s[:-3] is 'He' -- going up to but not including the last 3 chars.\n",
    "\n",
    "s[-3:] is 'llo' -- starting with the 3rd char from the end and extending to the end of the string.\n",
    "\n",
    " h  e  l  l  o <br>\n",
    " 0  1  2  3  4<br>\n",
    "-5 -4 -3 -2 -1<br>\n",
    "\n",
    "\n",
    "s[i] -- ith item of s, origin 0\n",
    "\n",
    "s[i:j] -- slice of s from i to j\n",
    "\n",
    "s[i:j:k] -- slice of s from i to j with step k\n"
   ]
  },
  {
   "cell_type": "code",
   "execution_count": null,
   "metadata": {},
   "outputs": [],
   "source": [
    "a = 'text string here' #Strings are contained by either single or double quotes.\n",
    "\n",
    "print(a)\n",
    "print((\"The first character in our string is \" + a[0] +\".\"))\n",
    "print((\"The second, third, and fourth characters are \" + a[1:4] +\".\"))"
   ]
  },
  {
   "cell_type": "code",
   "execution_count": null,
   "metadata": {},
   "outputs": [],
   "source": [
    "s = 'hello'\n",
    "\n",
    "print((s[-1])) # o\n",
    "print((s[:-3])) # he\n",
    "print((s[-3:])) # llo"
   ]
  },
  {
   "cell_type": "markdown",
   "metadata": {},
   "source": [
    "**Quick Exercise 2**\n",
    "Try guessing the output of the following without running the following cells..."
   ]
  },
  {
   "cell_type": "markdown",
   "metadata": {
    "scrolled": true
   },
   "source": [
    "### Which pairs of slices does not have the same results?\n",
    "s = \"Good morning\"\n",
    "\n",
    "1. print(s[3], s[1+1+1])       \n",
    "2. print(s[0], (s+s)[0])      \n",
    "3. print(s[0]+s[1], s[0+1] )    \n",
    "4. print(s[1], (s+ 'ed')[1])     \n",
    "5. print(s[-1], (s+s)[-1])    "
   ]
  },
  {
   "cell_type": "code",
   "execution_count": null,
   "metadata": {},
   "outputs": [],
   "source": []
  },
  {
   "cell_type": "markdown",
   "metadata": {},
   "source": [
    "### Which slices will return the string s exactly as it is?\n",
    "s = \"Good morning\"\n",
    "\n",
    "1. print(s[:])            \n",
    "2. print(s+s[0:-1+1])     \n",
    "3. print(s[:-1])        \n",
    "4. print(s[0:])           \n",
    "5. print(s[:3]+s[3:])  "
   ]
  },
  {
   "cell_type": "code",
   "execution_count": null,
   "metadata": {},
   "outputs": [],
   "source": []
  },
  {
   "cell_type": "markdown",
   "metadata": {},
   "source": [
    "### String Indices related methods\n",
    "\n",
    "len(s) -- length of s\t\n",
    "\n",
    "s.index(x) -- index of the first occurrence of x in s\t\n",
    "\n",
    "s.find('other') -- searches for the given other string (not a regular expression) within s, and returns the first \n",
    "index where it begins or -1 if not found\n",
    "\n",
    "s.rfind('other') -- searches the last occurrence of a substring"
   ]
  },
  {
   "cell_type": "code",
   "execution_count": null,
   "metadata": {},
   "outputs": [],
   "source": [
    "data_vs_info = \"You can have data without information, but you cannot have information without data. \\\n",
    "~ Daniel Keys Moran,  science fiction writer\"\n",
    "\n",
    "print(data_vs_info) # Note what \\ does.\n",
    "print((len(data_vs_info)))\n",
    "print((data_vs_info.find('data')))\n",
    "print((data_vs_info.index('data')))\n",
    "\n",
    "# Slice the name of the author\n",
    "# Slice the profession.  \n",
    "# Slice the quote only"
   ]
  },
  {
   "cell_type": "markdown",
   "metadata": {},
   "source": [
    "**TASK 1**\n",
    "You are given a quote. Combine the find/index functions and string slicing to return:\n",
    "* Just the first part of the quote\n",
    "* Just the second part of the quote\n",
    "* Just the author's name. "
   ]
  },
  {
   "cell_type": "code",
   "execution_count": null,
   "metadata": {},
   "outputs": [],
   "source": [
    "# the quote\n",
    "pythagoras = \"There is geometry in the humming of the strings, there is music in the spacing of the spheres. -Pythagoras\""
   ]
  },
  {
   "cell_type": "code",
   "execution_count": null,
   "metadata": {},
   "outputs": [],
   "source": [
    "print(\"First part of the quote is: \" +)\n",
    "print(\"Second part of the quote is: \" +)\n",
    "print(\"Author's name of the quote is: \" +)"
   ]
  },
  {
   "cell_type": "markdown",
   "metadata": {},
   "source": [
    "### Which of these will evaluate to -1?\n",
    "\n",
    "print(\"test\".find(\"t\"))\n",
    "\n",
    "print(\"test\".find(\"st\"))\n",
    "\n",
    "print(\"Test\".find(\"te\")) \n",
    "\n",
    "print(\"west\".find(\"test\"))"
   ]
  },
  {
   "cell_type": "code",
   "execution_count": null,
   "metadata": {},
   "outputs": [],
   "source": []
  },
  {
   "cell_type": "markdown",
   "metadata": {},
   "source": [
    "### Which of these will always return the value zero for any given string s?\n",
    "\n",
    "print(s)\n",
    "\n",
    "print((s.find(s[2:3])))\n",
    "\n",
    "print((s.find(\"s\")))\n",
    "\n",
    "print((\"s\".find(\"s\")))\n",
    "\n",
    "print((s.find(\"\")))\n",
    "\n",
    "print((s.find(s+\"!!!\")+1))"
   ]
  },
  {
   "cell_type": "code",
   "execution_count": null,
   "metadata": {},
   "outputs": [],
   "source": []
  },
  {
   "cell_type": "code",
   "execution_count": null,
   "metadata": {},
   "outputs": [],
   "source": [
    "# How to look for help.  Equivalent to looking at https://docs.python.org/2/library/string.html#string.find\n",
    "help(\"str.find\")"
   ]
  },
  {
   "cell_type": "markdown",
   "metadata": {},
   "source": [
    "### Common built- in methods\n",
    "min(s) -- smallest item of s\t\n",
    "\n",
    "max(s) -- largest item of s\t \n",
    "\n",
    "s.count(x) -- total number of occurrences of x in s\t\n",
    "\n",
    "s.lower(), s.upper() -- returns the lowercase or uppercase version of the string\n",
    "\n",
    "s.strip() -- returns a string with whitespace removed from the start and end\n",
    "\n",
    "s.isalpha()/s.isdigit()/s.isspace()... -- tests if all the string chars are in the various character classes\n",
    "\n",
    "s.startswith('other'), s.endswith('other') -- tests if the string starts or ends with the given other string\n",
    "\n",
    "s.replace('old', 'new') -- returns a string where all occurrences of 'old' have been replaced by 'new'\n",
    "\n",
    "s.split('delim') -- returns a list of substrings separated by the given delimiter. The delimiter is not a regular expression, it's just text. 'aaa,bbb,ccc'.split(',') -> ['aaa', 'bbb', 'ccc']. As a convenient special case s.split() (with no arguments) splits on all whitespace chars.\n",
    "\n",
    "s.join(list) -- opposite of split(), joins the elements in the given list together using the string as the delimiter. e.g. '---'.join(['aaa', 'bbb', 'ccc']) -> aaa---bbb---ccc"
   ]
  },
  {
   "cell_type": "code",
   "execution_count": null,
   "metadata": {},
   "outputs": [],
   "source": [
    "s = 'abcdefghijklMnoPqrstuvwxyz'\n",
    "t = 'This is a fox, it is hungry, it is running home.'\n",
    "split_already = t.split(',')\n",
    "print(split_already)\n",
    "print(split_already[0])\n",
    "print(split_already[1])\n",
    "print(split_already[2])\n",
    "u = ','\n",
    "print(u.join(split_already))\n"
   ]
  },
  {
   "cell_type": "markdown",
   "metadata": {},
   "source": [
    "### Format\n",
    "\n",
    "The % operator takes a printf-type format string on the left (%d int, %s string, %f/%g floating point), and the matching values in a tuple on the right (a tuple is made of values separated by commas, typically grouped inside parenthesis)... more about tuples later."
   ]
  },
  {
   "cell_type": "code",
   "execution_count": null,
   "metadata": {},
   "outputs": [],
   "source": [
    "# % operator\n",
    "print(\"We were going nearly %.3f km/hr. But there were %d %s going faster!\"%(130.2, 3, \"cars\"))"
   ]
  },
  {
   "cell_type": "code",
   "execution_count": null,
   "metadata": {},
   "outputs": [],
   "source": [
    "print(\"Our %s class ends at %d pm.\"%(\"Python\", 5))"
   ]
  },
  {
   "cell_type": "code",
   "execution_count": null,
   "metadata": {},
   "outputs": [],
   "source": [
    "# format method\n",
    "\"We were going nearly {:.2f} km/hr. But there were {} {} going faster!\".format(130.2666, 3, \"cars\")"
   ]
  }
 ],
 "metadata": {
  "anaconda-cloud": {},
  "kernelspec": {
   "display_name": "Python 3",
   "language": "python",
   "name": "python3"
  },
  "language_info": {
   "codemirror_mode": {
    "name": "ipython",
    "version": 3
   },
   "file_extension": ".py",
   "mimetype": "text/x-python",
   "name": "python",
   "nbconvert_exporter": "python",
   "pygments_lexer": "ipython3",
   "version": "3.8.5"
  }
 },
 "nbformat": 4,
 "nbformat_minor": 1
}
