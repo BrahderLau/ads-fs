{
 "cells": [
  {
   "cell_type": "markdown",
   "metadata": {
    "colab_type": "text",
    "id": "ZJXjov7pYfk2"
   },
   "source": [
    "## File I/O Revisited\n"
   ]
  },
  {
   "cell_type": "markdown",
   "metadata": {
    "colab_type": "text",
    "id": "cXlxXViMYfk3"
   },
   "source": [
    "### Data processing\n",
    "\n",
    "Often it is useful to store datasets in Numpy arrays. Numpy provides a number of functions to calculate statistics of datasets in arrays.\n",
    "\n",
    "For example, let's calculate some properties from the Stockholm temperature dataset used above.\n",
    "\n",
    "http://bolin.su.se/data/stockholm/homogenized_daily_mean_temperatures.php\n",
    "\n",
    "To download the data, click [here](http://bolin.su.se/data/stockholm/files/stockholm-historical-weather-observations-ver-1.0.2016/temperature/daily/stockholm_daily_mean_temperature_1756_2016.txt)"
   ]
  },
  {
   "cell_type": "code",
   "execution_count": null,
   "metadata": {
    "colab": {},
    "colab_type": "code",
    "id": "Qf2VLVyfYfk4",
    "scrolled": true
   },
   "outputs": [],
   "source": [
    "import matplotlib.pyplot as plt\n",
    "import numpy as np\n",
    "%matplotlib inline\n",
    "\n",
    "#store data from dat format to 'data' variable\n",
    "data = np.genfromtxt('Data/stockholm_daily_mean_temperature_1756_2017.txt')"
   ]
  },
  {
   "cell_type": "code",
   "execution_count": null,
   "metadata": {
    "colab": {},
    "colab_type": "code",
    "id": "OT6f6tpeYfk6",
    "outputId": "4067417d-a940-4832-b345-fb3c0e8fe71c"
   },
   "outputs": [],
   "source": [
    "#96594 rows and 7 columns\n",
    "data.shape"
   ]
  },
  {
   "cell_type": "code",
   "execution_count": null,
   "metadata": {},
   "outputs": [],
   "source": [
    "print(data)"
   ]
  },
  {
   "cell_type": "markdown",
   "metadata": {},
   "source": [
    "### To understand the data and what its columns represent to, you can always check the website that published that dataset\n",
    "\n",
    "https://bolin.su.se/data/stockholm-thematic/files/stockholm-historical-weather-observations-2017/temperature/daily/README_stockholm_daily_mean_temperature.txt\n",
    "\n",
    "|column\t |\tdata|\n",
    "|--------|-------|\n",
    "|1-3     |     Year, month, day|\n",
    "|4       |    Daily average temperature according to observations. Unit: C, Missing values: -999.0|\n",
    "|5       |     Daily average temperature after homogenization and with gaps filled in using data from Uppsala. (see Moberg et al. 2002)|\n",
    "|6       |     Daily average temperatures after adjustment before September 1858 for a supposed warm bias of May-August temperatures. (see Moberg et al. 2003)|\n",
    "|7       |     Data id no. meaning data from: 1=Stockholm 2=Uppsala (ajusted to represent Stockholm) 3=Stockholm, automatic station (used from 2013 onwards)|\n",
    "\n",
    "\n",
    "#### Another example\n",
    "* a popular data analysis / competition website with a lot of datasets: https://www.kaggle.com/datasets\n"
   ]
  },
  {
   "cell_type": "code",
   "execution_count": null,
   "metadata": {
    "colab": {},
    "colab_type": "code",
    "id": "gahtO_qIYfoS",
    "outputId": "d6a54f73-ec0e-46fc-dcf6-a72c9fdc4c51"
   },
   "outputs": [],
   "source": [
    "#visualize the data\n",
    "\n",
    "### Creating time series data (for x-axis)\n",
    "# year\n",
    "print(data[:,0])\n",
    "\n",
    "# month\n",
    "print(data[:,1]/12.0)\n",
    "\n",
    "# day\n",
    "print(data[:,2]/365)\n",
    "\n",
    "# combined year,month,day into float number (1st Jan 1700 = 1/365 + 1/12 + 1700 = 1700.0861)\n",
    "print(data[:,0]+data[:,1]/12.0+data[:,2]/365)\n",
    "\n",
    "# initializing a subplot with figure size 14 inch x 4 inch\n",
    "fig, ax = plt.subplots(2,2,figsize=(14,4))\n",
    "\n",
    "# plotting data (time (year+month+day) vs daily average temperature (column 6)) in subplot\n",
    "ax[0,0].plot(data[:,0]+data[:,1]/12.0+data[:,2]/365, data[:,5])\n",
    "\n",
    "# set the labels and title\n",
    "ax[0,0].set_title('temperatures in Stockholm')\n",
    "ax[0,0].set_xlabel('year')\n",
    "ax[0,0].set_ylabel('temperature (C)');\n"
   ]
  },
  {
   "cell_type": "markdown",
   "metadata": {
    "colab_type": "text",
    "id": "_0yLDQK4Yfop"
   },
   "source": [
    "### mean"
   ]
  },
  {
   "cell_type": "code",
   "execution_count": null,
   "metadata": {
    "colab": {},
    "colab_type": "code",
    "id": "iidYK4m9Yfop",
    "outputId": "27f72ea9-4fbf-405e-8093-b2f08657d480"
   },
   "outputs": [],
   "source": [
    "# the temperature data is in column 4\n",
    "np.mean(data[:,3])"
   ]
  },
  {
   "cell_type": "markdown",
   "metadata": {
    "colab_type": "text",
    "id": "URyZGw_xYfoy"
   },
   "source": [
    "The daily mean temperature in Stockholm since year 1756 has been about 6.11 C."
   ]
  },
  {
   "cell_type": "markdown",
   "metadata": {
    "colab_type": "text",
    "id": "VuAnGBWOYfo9"
   },
   "source": [
    "### standard deviations and variance"
   ]
  },
  {
   "cell_type": "code",
   "execution_count": null,
   "metadata": {
    "colab": {},
    "colab_type": "code",
    "id": "qXLvQB-zYfo9",
    "outputId": "1d2d095b-62cd-4d82-901f-85ccca404c43"
   },
   "outputs": [],
   "source": [
    "np.std(data[:,3]), np.var(data[:,3])"
   ]
  },
  {
   "cell_type": "markdown",
   "metadata": {
    "colab_type": "text",
    "id": "U7Fy_DHVYfpC"
   },
   "source": [
    "### min and max"
   ]
  },
  {
   "cell_type": "code",
   "execution_count": null,
   "metadata": {
    "colab": {},
    "colab_type": "code",
    "id": "XmusYfJyYfpC",
    "outputId": "c30f8e64-4df1-41df-cb8d-baf10e96bfc3"
   },
   "outputs": [],
   "source": [
    "# lowest daily average temperature\n",
    "np.min(data[365*50:,3])\n",
    "np.min(data[:,3])"
   ]
  },
  {
   "cell_type": "code",
   "execution_count": null,
   "metadata": {
    "colab": {},
    "colab_type": "code",
    "id": "coD35BuQYfpF",
    "outputId": "2542ede9-8309-41a0-d604-f2c827bbdc8f"
   },
   "outputs": [],
   "source": [
    "# lowest daily average temperature\n",
    "np.max(data[:,3])"
   ]
  },
  {
   "cell_type": "markdown",
   "metadata": {
    "colab_type": "text",
    "id": "87VPQQYnYfqD"
   },
   "source": [
    "## Computations on subsets of arrays\n",
    "\n",
    "We can compute with subsets of the data in an array using indexing, fancy indexing, and the other methods of extracting data from an array (described above).\n",
    "\n",
    "For example, let's go back to the temperature dataset:"
   ]
  },
  {
   "cell_type": "markdown",
   "metadata": {
    "colab_type": "text",
    "id": "oI3iqKIQYfqE"
   },
   "source": [
    "The dataformat is: year, month, day, daily average temperature, low, high, location.\n",
    "\n",
    "If we are interested in the average temperature only in a particular month, say April, then we can create a index mask and use it to select only the data for that month using:"
   ]
  },
  {
   "cell_type": "code",
   "execution_count": null,
   "metadata": {
    "colab": {},
    "colab_type": "code",
    "id": "B6J8ZZvAYfqd",
    "outputId": "277652b5-f402-4df8-e69a-db7270851eb8"
   },
   "outputs": [],
   "source": [
    "np.unique(data[:,1]) # the month column takes values from 1 to 12"
   ]
  },
  {
   "cell_type": "code",
   "execution_count": null,
   "metadata": {
    "colab": {},
    "colab_type": "code",
    "id": "643au1C_Yfqg"
   },
   "outputs": [],
   "source": [
    "# to get April only data\n",
    "mask_april = data[:,1] == 4 "
   ]
  },
  {
   "cell_type": "code",
   "execution_count": null,
   "metadata": {
    "colab": {},
    "colab_type": "code",
    "id": "oGlOVt5zYfqh",
    "outputId": "42a0aeab-fe7d-4389-f528-9f9d0b94db44"
   },
   "outputs": [],
   "source": [
    "# the temperature data is in column 3\n",
    "np.mean(data[mask_april,3])"
   ]
  },
  {
   "cell_type": "code",
   "execution_count": null,
   "metadata": {},
   "outputs": [],
   "source": [
    "# Quick exercise: get July only data\n",
    "\n",
    "\n",
    "\n",
    "# Expected output: 17.46297709923664"
   ]
  },
  {
   "attachments": {
    "image.png": {
     "image/png": "[encoded data removed]"
    }
   },
   "cell_type": "markdown",
   "metadata": {
    "colab": {},
    "colab_type": "code",
    "id": "265emsC8Yfql",
    "outputId": "08838e8b-2d20-4e46-c3fd-0069451f3f2d"
   },
   "source": [
    "# Exercise: generate a Bar chart to show the mean value for 12 months\n",
    "\n",
    "![image.png](attachment:image.png)\n",
    "\n"
   ]
  },
  {
   "cell_type": "code",
   "execution_count": null,
   "metadata": {},
   "outputs": [],
   "source": []
  }
 ],
 "metadata": {
  "anaconda-cloud": {},
  "colab": {
   "name": "P06 - Numpy.ipynb",
   "provenance": []
  },
  "kernelspec": {
   "display_name": "Python 3",
   "language": "python",
   "name": "python3"
  },
  "language_info": {
   "codemirror_mode": {
    "name": "ipython",
    "version": 3
   },
   "file_extension": ".py",
   "mimetype": "text/x-python",
   "name": "python",
   "nbconvert_exporter": "python",
   "pygments_lexer": "ipython3",
   "version": "3.8.5"
  }
 },
 "nbformat": 4,
 "nbformat_minor": 1
}
