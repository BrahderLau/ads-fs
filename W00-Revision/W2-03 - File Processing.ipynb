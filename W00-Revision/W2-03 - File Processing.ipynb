{
 "cells": [
  {
   "cell_type": "markdown",
   "metadata": {},
   "source": [
    "# W2-03 - File Processing\n",
    "\n",
    "\n",
    "**Objective: Learn Python basic concepts of file processing**\n",
    "\n",
    "**Competencies:**\n",
    "    * Participants will be able to read and write files\n",
    " \n",
    "**Tools:** Python, Anaconda, Jupyter\n",
    "\n",
    "**Analysis case study:** -\n",
    "\n",
    "**Data source(s) and fields:** N/A\n",
    "\n",
    "**Step-by-step Guide:**\n",
    " "
   ]
  },
  {
   "cell_type": "markdown",
   "metadata": {},
   "source": [
    "Processing data is an essential starting point towards any data science / machine learning work. Without data, nothing can be done. This module looks into how files can be read and written by a Python program. We start with some generic reading and writing operations, and then move to JSON and CSV files, two popular data file types.\n",
    "\n",
    "* [Reading and Writing to Files](#Reading-and-Writing-to-Files)\n",
    "* [JSON Files](#JSON-Files)\n",
    "* [CSV Files](#CSV-Files)\n",
    "\n",
    "\n",
    "## Reading and Writing to Files\n",
    "\n",
    "*A portion of this content uses [official python tutorial](https://docs.python.org/3.6/tutorial/inputoutput.html).*\n",
    "\n",
    "`open()` returns a file object, and is most commonly used with two arguments: `open(filename, mode)`."
   ]
  },
  {
   "cell_type": "raw",
   "metadata": {},
   "source": [
    "f = open('workfile', 'w')"
   ]
  },
  {
   "cell_type": "markdown",
   "metadata": {},
   "source": [
    "The first argument is a string containing the filename.\n",
    "\n",
    "The second argument is another string containing a few characters describing the way in which the file will be used. \n",
    "\n",
    "_mode_ can be:\n",
    "- `'r'` read (by default)\n",
    "- `'w'` write\n",
    "- `'a'` append\n",
    "\n",
    "Normally, files are opened in __text mode__, that means, you read and write __strings__ from and to the file, which are encoded in a specific encoding. If encoding is not specified, the default depends on your platform.\n",
    "\n",
    "`'b'` appended to the mode opens the file in __binary mode__: now the data is read and written in the form of __bytes__ objects.\n",
    "\n",
    "Example:\n"
   ]
  },
  {
   "cell_type": "raw",
   "metadata": {},
   "source": [
    "f = open('workfile', 'wb')"
   ]
  },
  {
   "cell_type": "markdown",
   "metadata": {},
   "source": [
    "It is good practice to use the __`with`__ keyword when dealing with file objects. The advantage is that the file is properly closed after its suite finishes, even if an exception is raised at some point. Using `with` is also much shorter than writing equivalent `try-finally` blocks:"
   ]
  },
  {
   "cell_type": "raw",
   "metadata": {},
   "source": [
    "with open('workfile') as f:\n",
    "    read_data = f.read()"
   ]
  },
  {
   "cell_type": "markdown",
   "metadata": {},
   "source": [
    "### Methods of file objects\n",
    "\n",
    "Files can be read as a file object **`f`**:\n",
    "\n",
    "- __`f.write(s)`__ write __`s`__ in __`f`__\n",
    "- __`f.read()`__ reads the whole file\n",
    "- __`f.readline()`__ reads one line\n",
    "- to read a file line by line, you can loop over the file object itself:\n",
    "\n",
    "```python\n",
    "with open('workfile', 'r') as f:\n",
    "    for line in f:\n",
    "        print(line)\n",
    "```"
   ]
  },
  {
   "cell_type": "markdown",
   "metadata": {},
   "source": [
    "### Writing files\n",
    "Let's create a file example_file.txt"
   ]
  },
  {
   "cell_type": "code",
   "execution_count": null,
   "metadata": {},
   "outputs": [],
   "source": [
    "filename = 'example_file.txt'"
   ]
  },
  {
   "cell_type": "code",
   "execution_count": null,
   "metadata": {},
   "outputs": [],
   "source": [
    "# check your current working directory \n",
    "import os\n",
    "print(os.getcwd())"
   ]
  },
  {
   "cell_type": "code",
   "execution_count": null,
   "metadata": {},
   "outputs": [],
   "source": [
    "# We can pass a string directly\n",
    "with open(filename, 'w') as my_file:\n",
    "    my_file.write(\"\\n********** This is the top line for this operation ***************\\n\")\n",
    "    my_file.write(\"Here is some example text\\n\")\n",
    "\n",
    "    # More often, we want to write data (output) from our Python program to file.\n",
    "    n = 100\n",
    "    example_string = \"The value of n is %d.\\n\"%n\n",
    "    my_file.write(example_string)\n",
    "\n",
    "    # Here, we write to a file from within a loop\n",
    "    my_file.write(\"\\nAnd now, here's a song about 99 ipsum lorem lines:\\n\")\n",
    "    for nlines in range(1, n, 1):\n",
    "        line = \"%d ipsum lorem lines printed here. %d ipsum lorem lines. One is never enough, we need another, %d ipsum lorem lines printed!\\n\"%(nlines,nlines,nlines)\n",
    "        my_file.write(line)"
   ]
  },
  {
   "cell_type": "markdown",
   "metadata": {},
   "source": [
    "Using the Jupyter notebook directory page on your web browser, locate the file and open it. You can also open it using your OS's file manager. Verify that the contents make sense by comparing them to the code above.\n",
    "\n",
    "### Reading files\n",
    "Let's read the file in Python. Again, we will use the `open()` function, this time with the `'r'` parameter to indicate that we are reading."
   ]
  },
  {
   "cell_type": "code",
   "execution_count": null,
   "metadata": {
    "scrolled": true
   },
   "outputs": [],
   "source": [
    "# Again the open() function gives us a variable of type 'file'\n",
    "with open(filename, 'r') as input_file:\n",
    "\n",
    "    # The read() function puts the contents of the file into a string object\n",
    "    file_contents = input_file.read()\n",
    "\n",
    "    # Let's see what we got\n",
    "print(file_contents)"
   ]
  },
  {
   "cell_type": "code",
   "execution_count": null,
   "metadata": {},
   "outputs": [],
   "source": [
    "# Now we append the file\n",
    "with open(filename, 'w') as my_file:\n",
    "    my_file.write(\"\\n********** This is the top line for this operation ***************\\n\")\n",
    "    my_file.write(\"Here is some example text\\n\")\n",
    "\n",
    "    # More often, we want to write data (output) from our Python program to file.\n",
    "    n = 100\n",
    "    example_string = \"The value of n is %d.\\n\"%n\n",
    "    my_file.write(example_string)\n",
    "\n",
    "    # Here, we write to a file from within a loop\n",
    "    my_file.write(\"\\nAnd now, here's a song about 99 ipsum lorem lines:\\n\")\n",
    "    for nlines in range(1, n, 1):\n",
    "        line = \"%d ipsum lorem lines printed here. %d ipsum lorem lines. One is never enough, we need another, %d ipsum lorem lines printed!\\n\"%(nlines,nlines,nlines)\n",
    "        my_file.write(line)"
   ]
  },
  {
   "cell_type": "markdown",
   "metadata": {},
   "source": [
    "### Parsing\n",
    "It will often be necessary to \"parse\" the contents of a file. This means we will extract information from the string into Python variables that we can operate on. When the file was not designed to be parsed conveniently, this can get messy!\n",
    "\n",
    "As an example, let's locate all words that appear in 25 of Pythagoras' famous sayings. Instead of reading the entire file all-at-once, in this example we'll choose to read it line-by-line so that we can perform additional processing to each line, i.e. splitting and collecting them into another list. This is done by iterating over the file object."
   ]
  },
  {
   "cell_type": "code",
   "execution_count": null,
   "metadata": {},
   "outputs": [],
   "source": [
    "with open('Data/pythagoras.txt','r') as input_file:\n",
    "\n",
    "    # Throw away the first 3 lines. They do not contain the quotes.\n",
    "    # Notice that we are reading the first 3 lines but we are not doing anything with them\n",
    "    # Using the _ name is a Python convention for a variable name that we are not going to use\n",
    "    for j in range(3):\n",
    "        _ = input_file.readline()\n",
    "\n",
    "    words = []\n",
    "    i = 0\n",
    "    # Iterate over remaining lines\n",
    "    for line in input_file:\n",
    "\n",
    "        # Action: think about this line. What does it do?\n",
    "        words.extend(line.split())\n",
    "        \n",
    "        # Action: what about this line. what does it do?\n",
    "        words = [w.lower() for w in words]\n",
    "        \n",
    "        i = i + 1\n",
    "        \n",
    "    print(words)\n",
    "    #print(sorted(words))\n",
    "    print(\"the number of words:\", len(words))\n",
    "    print(\"number of line :\",i)   # sanity check to ensure it actually went thru 25 lines"
   ]
  },
  {
   "cell_type": "markdown",
   "metadata": {},
   "source": [
    "### Side topic: Bytes and strings\n",
    "\n",
    "When you talk about “text” you’re probably thinking of “characters and symbols on my computer screen.”\n",
    "\n",
    "But computers don’t deal in characters and symbols; they deal in **bits and bytes**. \n",
    "\n",
    "Every piece of text you’ve ever seen on a computer screen is actually stored in a particular **character encoding**.\n",
    "\n",
    "Very roughly speaking, the character encoding provides a mapping between the stuff you see on your screen and the stuff your computer actually stores in memory and on disk. \n",
    "\n",
    "There are many different character encodings, some optimized for particular languages like Russian, Hindi or Chinese or English, and others that can be used for multiple languages.\n",
    "\n",
    "A very common __encoding__ is __UTF-8__.\n",
    "\n",
    "Python has two different classes: __`bytes`__ and __`string`__.\n",
    "\n",
    "To transform bytes in string, you need to __decode__ it, specifying the __encoding__. \n",
    "\n",
    "To transform string in bytes, you need to __encode__ it, specifying the __encoding__.\n",
    "\n",
    "\n",
    "#### Examples"
   ]
  },
  {
   "cell_type": "code",
   "execution_count": null,
   "metadata": {},
   "outputs": [],
   "source": [
    "s1 = '义勇军进行曲'\n",
    "print(s1)\n",
    "s2 = 'जन गण मन'\n",
    "print(s2)"
   ]
  },
  {
   "cell_type": "code",
   "execution_count": null,
   "metadata": {},
   "outputs": [],
   "source": [
    "b1 = s1.encode()\n",
    "print(b1)\n",
    "b2 = s2.encode()\n",
    "print(b2)"
   ]
  },
  {
   "cell_type": "markdown",
   "metadata": {},
   "source": [
    "The function `encode()` encodes the characters into byte form, as you may have noticed a `b'` in front of the code shown. By default, it uses 'utf-8' or 8-bit Unicode encoding."
   ]
  },
  {
   "cell_type": "code",
   "execution_count": null,
   "metadata": {},
   "outputs": [],
   "source": [
    "type(b1), type(b2)"
   ]
  },
  {
   "cell_type": "code",
   "execution_count": null,
   "metadata": {},
   "outputs": [],
   "source": [
    "b1.decode(), b2.decode()"
   ]
  },
  {
   "cell_type": "code",
   "execution_count": null,
   "metadata": {},
   "outputs": [],
   "source": [
    "help(b2.decode)"
   ]
  },
  {
   "cell_type": "markdown",
   "metadata": {},
   "source": [
    "The text in English that we are familiar with, can be encoded with ASCII as well. In this case, the a"
   ]
  },
  {
   "cell_type": "code",
   "execution_count": null,
   "metadata": {},
   "outputs": [],
   "source": [
    "s3 = 'china'\n",
    "s3.encode('ASCII') # American Standard Code for Information Interchange, a 7-bit character set containing 128 characters."
   ]
  },
  {
   "cell_type": "code",
   "execution_count": null,
   "metadata": {},
   "outputs": [],
   "source": [
    "# to show the usecase of ASCII code, which is converting special character into readable version\n",
    "print(ascii(\"china\"))\n",
    "print(ascii(\"This å is a special character\"))\n",
    "print(ascii(\"This å is a special character!\"))\n",
    "\n",
    "# to know the ASCII value of a given character\n",
    "print(ord(\"c\"))\n",
    "print(ord(\"å\"))"
   ]
  },
  {
   "cell_type": "markdown",
   "metadata": {},
   "source": [
    "Some encodings do not work for certain types of characters!"
   ]
  },
  {
   "cell_type": "code",
   "execution_count": null,
   "metadata": {
    "scrolled": true
   },
   "outputs": [],
   "source": [
    "'义勇军进行曲'.encode('ASCII')"
   ]
  },
  {
   "cell_type": "code",
   "execution_count": null,
   "metadata": {},
   "outputs": [],
   "source": [
    "'abc'.encode().find(b'c')"
   ]
  },
  {
   "cell_type": "code",
   "execution_count": null,
   "metadata": {},
   "outputs": [],
   "source": [
    "with open(\"file_china_chars\", 'bw') as f:\n",
    "    f.write(s1.encode())"
   ]
  },
  {
   "cell_type": "code",
   "execution_count": null,
   "metadata": {},
   "outputs": [],
   "source": []
  },
  {
   "cell_type": "code",
   "execution_count": null,
   "metadata": {},
   "outputs": [],
   "source": [
    "!type file_china_chars\n",
    "!del file_china_chars"
   ]
  },
  {
   "cell_type": "code",
   "execution_count": null,
   "metadata": {},
   "outputs": [],
   "source": [
    "# how to read binary file\n",
    "with open(\"file_china_chars\", 'rb') as input_file:\n",
    "\n",
    "    # The read() function puts the contents of the file into a string object\n",
    "    file_contents = input_file.read()\n",
    "\n",
    "    # Let's see what we got\n",
    "print(file_contents.decode())"
   ]
  },
  {
   "cell_type": "markdown",
   "metadata": {},
   "source": [
    "## JSON Files\n",
    "JSON (JavaScript Object Notation) is an open-standard format that uses human-readable text to transmit data objects consisting of attribute–value pairs. \n",
    "\n",
    "Many APIs work with JSON format to provide and receive data. Popular alternatives to JSON are YAML and XML. JSON is often compared to XML because its usage is similar. JSON has now become an alternative to XML, which is older.\n",
    "\n",
    "<b>Difference between JSON and dictionary</b> : JSON is a data format (a string), Python dictionary is a data structure (in-memory object). Eg, You cannot save a dictionary to a file, you also cannot send it via an HTTP request; instead, you store or transfer the data in a json file or json string.\n",
    "\n",
    "\n",
    "\n",
    "Normalised in [RCF7159](https://tools.ietf.org/html/rfc7159) and [ECMA404](http://www.ecma-international.org/publications/standards/Ecma-404.htm).\n",
    "\n",
    "### Description\n",
    "\n",
    "JSON's data types are:\n",
    "\n",
    "- __Number__\n",
    "- __String__\n",
    "- __Boolean__: __true__ / __false__\n",
    "- __Array__: ordered list of values. Each of which may be of any type. Arrays use square bracket __[ ]__ notation with elements being __comma-separated ,__ .\n",
    "- __Object__: an unordered collection of name/value pairs where the names (also called keys) are strings. Objects are delimited with __curly brackets {}__ and use __commas to separate each pair__, while within each pair the __colon ':' character separates the key or name from its value__.\n",
    "- __null__: An empty value, using the word __null__.\n",
    "\n",
    "| Python        | JSON          | Example in JSON   |\n",
    "| ------------- |:-------------:| -----------------:|\n",
    "| int or float  | Number        |  34               |\n",
    "| string        | String        |  \"foo bar\"        |\n",
    "| Bool          | Boolean       |    true           |\n",
    "| list          | Array         | [1, 2, 3]         |\n",
    "| dict          | Object        |{\"type\": \"home\", \"number\": \"212 555-1234\"}|\n",
    "\n",
    "### Example\n",
    "Here's an example from [wikipedia](https://en.wikipedia.org/wiki/JSON#Data_types.2C_syntax_and_example)\n",
    "\n",
    "```json\n",
    "{\n",
    "  \"firstName\": \"John\",\n",
    "  \"lastName\": \"Smith\",\n",
    "  \"isAlive\": true,\n",
    "  \"age\": 25,\n",
    "  \"address\": {\n",
    "    \"streetAddress\": \"21 2nd Street\",\n",
    "    \"city\": \"New York\",\n",
    "    \"state\": \"NY\",\n",
    "    \"postalCode\": \"10021-3100\"\n",
    "  },\n",
    "  \"phoneNumbers\": [\n",
    "    {\n",
    "      \"type\": \"home\",\n",
    "      \"number\": \"212 555-1234\"\n",
    "    },\n",
    "    {\n",
    "      \"type\": \"office\",\n",
    "      \"number\": \"646 555-4567\"\n",
    "    },\n",
    "    {\n",
    "      \"type\": \"mobile\",\n",
    "      \"number\": \"123 456-7890\"\n",
    "    }\n",
    "  ],\n",
    "  \"children\": [],\n",
    "  \"spouse\": null\n",
    "}\n",
    "```"
   ]
  },
  {
   "cell_type": "code",
   "execution_count": null,
   "metadata": {},
   "outputs": [],
   "source": [
    "import json"
   ]
  },
  {
   "cell_type": "markdown",
   "metadata": {},
   "source": [
    "**Note! Indentation doesn't matter** during creation of data, as long as the specifications are correct."
   ]
  },
  {
   "cell_type": "code",
   "execution_count": null,
   "metadata": {},
   "outputs": [],
   "source": [
    "# How to load JSON data format into dictionary data structure\n",
    "\n",
    "json_data = '''{\n",
    "            \"type\": \"home\",\n",
    "        \"number\": \"212 555-1234\",\n",
    "    \"active\": true,\n",
    "            \"status\": [1, 0, 4],\n",
    "    \"user\": {\n",
    "        \"ID\": \"benley83\",\n",
    "                \"passcode\": \"432Kd3D\"\n",
    "    }\n",
    "}'''\n",
    "\n",
    "data = json.loads(json_data)  # loads the JSON data\n",
    "print(data)\n",
    "print(type(data))"
   ]
  },
  {
   "cell_type": "code",
   "execution_count": null,
   "metadata": {},
   "outputs": [],
   "source": [
    "# wrong example with dictionary\n",
    "dict_data = {\"key\" : \"value\"}\n",
    "data = json.loads(dict_data) # will give you an TypeError"
   ]
  },
  {
   "cell_type": "code",
   "execution_count": null,
   "metadata": {},
   "outputs": [],
   "source": [
    "with open(\"example.json\", 'w') as f:\n",
    "    json.dump(data, f)"
   ]
  },
  {
   "cell_type": "code",
   "execution_count": null,
   "metadata": {},
   "outputs": [],
   "source": [
    "# bad example with writing dictionary into the file without converting it into JSON\n",
    "with open(\"example.txt\", 'w') as f:\n",
    "    f.write(dict_data)"
   ]
  },
  {
   "cell_type": "code",
   "execution_count": null,
   "metadata": {},
   "outputs": [],
   "source": [
    "# saving dict data into json\n",
    "import json\n",
    "\n",
    "dict_data = {\"apple\" : 5, \"orange\" : 10}\n",
    "\n",
    "with open('example.json', 'w') as fp:\n",
    "    json.dump(dict_data, fp)\n",
    "    \n",
    "with open('example.json', 'r') as fp:\n",
    "    print(json.load(fp))"
   ]
  },
  {
   "cell_type": "code",
   "execution_count": null,
   "metadata": {},
   "outputs": [],
   "source": [
    "# 1 of major difference between JSON and dictionary: dict can have tuple as key and JSON cannot\n",
    "import json\n",
    "\n",
    "dict_data = {(\"apple\", \"orange\") : 5, \"orange\" : 10}\n",
    "\n",
    "print(dict_data)\n",
    "\n",
    "with open('example.json', 'w') as fp:\n",
    "    json.dump(dict_data, fp)\n",
    "    \n",
    "with open('example.json', 'r') as fp:\n",
    "    print(json.load(fp))"
   ]
  },
  {
   "cell_type": "code",
   "execution_count": null,
   "metadata": {},
   "outputs": [],
   "source": [
    "!type example.json\n",
    "# 'cat' instead of 'type' for Linux"
   ]
  },
  {
   "cell_type": "code",
   "execution_count": null,
   "metadata": {},
   "outputs": [],
   "source": [
    "with open(\"example.json\", 'r') as f:\n",
    "    data2 = json.load(f)\n",
    "    \n",
    "print(data2)"
   ]
  },
  {
   "cell_type": "markdown",
   "metadata": {},
   "source": [
    "This library `json.tool` is used with the `python` command line to indent a json file"
   ]
  },
  {
   "cell_type": "code",
   "execution_count": null,
   "metadata": {},
   "outputs": [],
   "source": [
    "!python -m json.tool example.json"
   ]
  },
  {
   "cell_type": "markdown",
   "metadata": {},
   "source": [
    "This does not make any changes to the original JSON file formatting (check the file), but only prints it pretty for your checking purposes. Normally, we want the JSON file to be as compact and lightweight as possible, so having no whitespaces is actually good."
   ]
  },
  {
   "cell_type": "markdown",
   "metadata": {},
   "source": [
    "We now load some data containing the top rated movies in Sweden (`top-rated-movies-01.json'). First, try to understand how the data is structure inside this JSON file. "
   ]
  },
  {
   "cell_type": "code",
   "execution_count": null,
   "metadata": {},
   "outputs": [],
   "source": [
    "with open('Data/top-rated-movies-01.json') as json_data:\n",
    "    d = json.load(json_data)\n"
   ]
  },
  {
   "cell_type": "code",
   "execution_count": null,
   "metadata": {},
   "outputs": [],
   "source": [
    "!python -m json.tool Data/top-rated-movies-01.json"
   ]
  },
  {
   "cell_type": "markdown",
   "metadata": {},
   "source": [
    "You probably want to take a peek at the first entry's keys. Too many entries and values printed just makes it hard to read!"
   ]
  },
  {
   "cell_type": "code",
   "execution_count": null,
   "metadata": {},
   "outputs": [],
   "source": [
    "with open('Data/top-rated-movies-01.json') as json_data:\n",
    "    d = json.load(json_data)\n",
    "    print(d[0].keys())"
   ]
  },
  {
   "cell_type": "markdown",
   "metadata": {},
   "source": [
    "**Quick Exercise 1** Print the the number of movies, followed by the full list of movies with their respective IMDB ratings."
   ]
  },
  {
   "cell_type": "code",
   "execution_count": null,
   "metadata": {},
   "outputs": [],
   "source": [
    "with open('top-rated-movies-01.json') as json_data:\n",
    "    d = json.load(json_data)\n",
    "    \n",
    "    # write your code after this line\n",
    "    \n",
    "    "
   ]
  },
  {
   "cell_type": "markdown",
   "metadata": {},
   "source": [
    "## CSV Files\n",
    "\n",
    "A Comma-Separated Values (CSV) file stores tabular data (numbers and text) in plain text. Most often than not, the CSV file can be comfortably parsed and opened in spreadsheet programs such as MS Excel, OpenOffice Calc and etc.\n",
    "\n",
    "Each line of the file is a data record. Each record consists of one or more fields, separated by commas. \n",
    "\n",
    "\n",
    "### Basic Rules \n",
    "\n",
    "- CSV is a delimited data format that has fields/columns separated by the comma (,) character and records/rows terminated by newlines.\n",
    "- A CSV file does not require a specific character encoding, byte order, or line terminator format (some software does not support all line-end variations).\n",
    "- A record ends at a line terminator. However, line-terminators can be embedded as data within fields, so software must recognize quoted line-separators (see below) in order to correctly assemble an entire record from perhaps multiple lines.\n",
    "- All records should have the same number of fields, in the same order.\n",
    "- Adjacent fields must be separated by a single comma. However, \"CSV\" formats vary greatly in this choice of separator character. In particular, in locales where the comma is used as a decimal separator, semicolon (;), TAB, or other characters are used instead.\n",
    "\n",
    "### Example\n",
    "\n",
    "Write CSV file with standard Python library"
   ]
  },
  {
   "cell_type": "code",
   "execution_count": null,
   "metadata": {},
   "outputs": [],
   "source": [
    "import csv\n",
    "\n",
    "with open('test.csv', 'w') as csvfile:\n",
    "    writer = csv.writer(csvfile, lineterminator = '\\n')\n",
    "    writer.writerow(['Year', 'Make', 'Model'])\n",
    "    writer.writerow(['2009', 'Proton', 'Exora'])\n",
    "    writer.writerow(['2009', 'Perodua', 'Alza'])"
   ]
  },
  {
   "cell_type": "code",
   "execution_count": null,
   "metadata": {},
   "outputs": [],
   "source": [
    "!type test.csv\n"
   ]
  },
  {
   "cell_type": "markdown",
   "metadata": {},
   "source": [
    "Read a file and store csv records row-by-row into a nested list (i.e. each inner list holds a row of record):"
   ]
  },
  {
   "cell_type": "code",
   "execution_count": null,
   "metadata": {
    "scrolled": true
   },
   "outputs": [],
   "source": [
    "import csv\n",
    "\n",
    "def load_csv(filename, delim=','):\n",
    "    data = []\n",
    "    with open(filename, 'r') as f:\n",
    "        reader = csv.reader(f, delimiter=delim)\n",
    "        for row in reader:\n",
    "            data.append(row)\n",
    "    return data\n",
    "\n",
    "data = load_csv('test.csv')\n",
    "print(data)"
   ]
  },
  {
   "cell_type": "code",
   "execution_count": null,
   "metadata": {},
   "outputs": [],
   "source": []
  },
  {
   "cell_type": "markdown",
   "metadata": {},
   "source": [
    "**TASK** We have obtained information from Malaysia's Open Data Portal on the number of vehicles in Malaysia over the period of 2008-2015. Examine the contents of the CSV file carefully. \n",
    "\n",
    "1. Find the total number of vehicles in Malaysia per year.\n",
    "2. What is generally the ratio of active to inactive vehicles in Malaysia (across all states)?"
   ]
  },
  {
   "cell_type": "code",
   "execution_count": null,
   "metadata": {},
   "outputs": [],
   "source": [
    "vehicle = load_csv('Data/kenderaan.csv', delim=';')\n",
    "\n",
    "print(vehicle[0])   # header stuff\n",
    "print(vehicle[1])\n",
    "\n",
    "# need to remove header before processing further\n",
    "vehicle = vehicle[1:]"
   ]
  },
  {
   "cell_type": "markdown",
   "metadata": {},
   "source": [
    "Tip: Noticed how the number of vehicles have a comma separator. You have to remove this comma before the number can be further processed arithmetically.\n",
    "* Hint: use string method in notebook w1-01"
   ]
  },
  {
   "cell_type": "code",
   "execution_count": null,
   "metadata": {},
   "outputs": [],
   "source": [
    "# write your code here\n",
    "\n",
    "\n"
   ]
  }
 ],
 "metadata": {
  "kernelspec": {
   "display_name": "Python 3",
   "language": "python",
   "name": "python3"
  },
  "language_info": {
   "codemirror_mode": {
    "name": "ipython",
    "version": 3
   },
   "file_extension": ".py",
   "mimetype": "text/x-python",
   "name": "python",
   "nbconvert_exporter": "python",
   "pygments_lexer": "ipython3",
   "version": "3.8.5"
  }
 },
 "nbformat": 4,
 "nbformat_minor": 2
}
