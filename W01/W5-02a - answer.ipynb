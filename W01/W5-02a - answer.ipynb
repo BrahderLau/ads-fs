{
 "cells": [
  {
   "cell_type": "code",
   "execution_count": null,
   "id": "53432de7",
   "metadata": {},
   "outputs": [],
   "source": [
    "# Exercise\n",
    "# Find the Cheapest Item\n",
    "# Use regex to remove the RM Suffix\n",
    "import re\n",
    "\n",
    "soup_list = soup.findAll(\"li\", attrs={\"class\":re.compile(r\"sresult lvresult clearfix li[ shic]*\")})\n",
    "\n",
    "cheapest = []\n",
    "\n",
    "for items in (soup_list):\n",
    "    cheapest.append(float(re.sub(r'\\nRM ','', items.find(\"span\", attrs={\"class\":\"bold\"}).text)))\n",
    "    \n",
    "print(\"Cheapest Item is:\", min(cheapest))\n"
   ]
  },
  {
   "cell_type": "code",
   "execution_count": null,
   "id": "ca409488",
   "metadata": {},
   "outputs": [],
   "source": [
    "# Exercise\n",
    "import pandas as pd\n",
    "import numpy as np\n",
    "\n",
    "soup_list = soup.findAll(\"li\", attrs={\"class\":re.compile(r\"sresult lvresult clearfix li[ shic]*\")})\n",
    "product_name = []\n",
    "product_price = []\n",
    "for items in soup_list:\n",
    "    product_name.append(items.find(\"h3\", attrs={\"class\":\"lvtitle\"}).text)\n",
    "    product_price.append(float(re.sub(r'\\nRM ','', items.find(\"span\", attrs={\"class\":\"bold\"}).text)))\n",
    "\n",
    "data = {'product_name':product_name,\n",
    "       'product_price':product_price}\n",
    "\n",
    "df_xiaomi = pd.DataFrame(data)\n",
    "df_xiaomi\n",
    "\n",
    "df_xiaomi.to_csv(r'Products.csv', index=False)"
   ]
  }
 ],
 "metadata": {
  "kernelspec": {
   "display_name": "Python 3 (ipykernel)",
   "language": "python",
   "name": "python3"
  },
  "language_info": {
   "codemirror_mode": {
    "name": "ipython",
    "version": 3
   },
   "file_extension": ".py",
   "mimetype": "text/x-python",
   "name": "python",
   "nbconvert_exporter": "python",
   "pygments_lexer": "ipython3",
   "version": "3.8.11"
  }
 },
 "nbformat": 4,
 "nbformat_minor": 5
}
