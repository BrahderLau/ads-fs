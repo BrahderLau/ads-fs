{
 "cells": [
  {
   "cell_type": "markdown",
   "metadata": {
    "id": "wNVMl9sDJKJA"
   },
   "source": [
    "# 3. Selenium"
   ]
  },
  {
   "cell_type": "markdown",
   "metadata": {
    "id": "zMhMtD8SJKJH"
   },
   "source": [
    "## Introduction to Selenium"
   ]
  },
  {
   "cell_type": "markdown",
   "metadata": {
    "id": "4sNdRbmSJKJI"
   },
   "source": [
    "**Selenium** is a tool that automates the web-browsers, also known as a web-driver. \n",
    "\n",
    "With this, you can open a Google Chrome/Mozilla Firefox automated window, which visits a URL and navigates on the links.\n",
    "\n",
    "However, it is not as efficient as the tools which we have learned so far.\n",
    "\n",
    "This tool is something to use when all doors of web scraping are being closed, and you still want the data which matters to you.\n"
   ]
  },
  {
   "cell_type": "markdown",
   "metadata": {
    "id": "p4Lbb3LLJKJJ"
   },
   "source": [
    "## Install Selenium\n",
    "\n",
    "https://selenium-python.readthedocs.io/installation.html\n",
    "\n",
    "pip3 install selenium\n",
    "\n",
    "conda install -c conda-forge selenium\n"
   ]
  },
  {
   "cell_type": "code",
   "execution_count": 1,
   "metadata": {
    "tags": []
   },
   "outputs": [
    {
     "name": "stdout",
     "output_type": "stream",
     "text": [
      "Collecting selenium\n",
      "  Downloading selenium-4.16.0-py3-none-any.whl.metadata (6.9 kB)\n",
      "Requirement already satisfied: urllib3<3,>=1.26 in c:\\users\\kahhou_lau\\appdata\\local\\anaconda3\\envs\\ads\\lib\\site-packages (from urllib3[socks]<3,>=1.26->selenium) (1.26.18)\n",
      "Collecting trio~=0.17 (from selenium)\n",
      "  Downloading trio-0.24.0-py3-none-any.whl.metadata (4.9 kB)\n",
      "Collecting trio-websocket~=0.9 (from selenium)\n",
      "  Downloading trio_websocket-0.11.1-py3-none-any.whl.metadata (4.7 kB)\n",
      "Requirement already satisfied: certifi>=2021.10.8 in c:\\users\\kahhou_lau\\appdata\\local\\anaconda3\\envs\\ads\\lib\\site-packages (from selenium) (2023.11.17)\n",
      "Collecting attrs>=20.1.0 (from trio~=0.17->selenium)\n",
      "  Downloading attrs-23.2.0-py3-none-any.whl.metadata (9.5 kB)\n",
      "Collecting sortedcontainers (from trio~=0.17->selenium)\n",
      "  Downloading sortedcontainers-2.4.0-py2.py3-none-any.whl (29 kB)\n",
      "Requirement already satisfied: idna in c:\\users\\kahhou_lau\\appdata\\local\\anaconda3\\envs\\ads\\lib\\site-packages (from trio~=0.17->selenium) (3.6)\n",
      "Collecting outcome (from trio~=0.17->selenium)\n",
      "  Downloading outcome-1.3.0.post0-py2.py3-none-any.whl.metadata (2.6 kB)\n",
      "Collecting sniffio>=1.3.0 (from trio~=0.17->selenium)\n",
      "  Downloading sniffio-1.3.0-py3-none-any.whl (10 kB)\n",
      "Collecting cffi>=1.14 (from trio~=0.17->selenium)\n",
      "  Downloading cffi-1.16.0-cp310-cp310-win_amd64.whl.metadata (1.5 kB)\n",
      "Requirement already satisfied: exceptiongroup in c:\\users\\kahhou_lau\\appdata\\local\\anaconda3\\envs\\ads\\lib\\site-packages (from trio~=0.17->selenium) (1.2.0)\n",
      "Collecting wsproto>=0.14 (from trio-websocket~=0.9->selenium)\n",
      "  Downloading wsproto-1.2.0-py3-none-any.whl (24 kB)\n",
      "Collecting PySocks!=1.5.7,<2.0,>=1.5.6 (from urllib3[socks]<3,>=1.26->selenium)\n",
      "  Downloading PySocks-1.7.1-py3-none-any.whl (16 kB)\n",
      "Collecting pycparser (from cffi>=1.14->trio~=0.17->selenium)\n",
      "  Downloading pycparser-2.21-py2.py3-none-any.whl (118 kB)\n",
      "     ---------------------------------------- 0.0/118.7 kB ? eta -:--:--\n",
      "     --------- --------------------------- 30.7/118.7 kB 660.6 kB/s eta 0:00:01\n",
      "     ------------ ------------------------ 41.0/118.7 kB 653.6 kB/s eta 0:00:01\n",
      "     ------------ ------------------------ 41.0/118.7 kB 653.6 kB/s eta 0:00:01\n",
      "     ------------------- ----------------- 61.4/118.7 kB 328.2 kB/s eta 0:00:01\n",
      "     ---------------------------------- - 112.6/118.7 kB 504.4 kB/s eta 0:00:01\n",
      "     ------------------------------------ 118.7/118.7 kB 407.7 kB/s eta 0:00:00\n",
      "Collecting h11<1,>=0.9.0 (from wsproto>=0.14->trio-websocket~=0.9->selenium)\n",
      "  Downloading h11-0.14.0-py3-none-any.whl (58 kB)\n",
      "     ---------------------------------------- 0.0/58.3 kB ? eta -:--:--\n",
      "     ----------------------------------- ---- 51.2/58.3 kB 2.6 MB/s eta 0:00:01\n",
      "     ----------------------------------- ---- 51.2/58.3 kB 2.6 MB/s eta 0:00:01\n",
      "     ----------------------------------- ---- 51.2/58.3 kB 2.6 MB/s eta 0:00:01\n",
      "     -------------------------------------- 58.3/58.3 kB 340.6 kB/s eta 0:00:00\n",
      "Downloading selenium-4.16.0-py3-none-any.whl (10.0 MB)\n",
      "   ---------------------------------------- 0.0/10.0 MB ? eta -:--:--\n",
      "   ---------------------------------------- 0.1/10.0 MB 2.0 MB/s eta 0:00:06\n",
      "    --------------------------------------- 0.2/10.0 MB 2.1 MB/s eta 0:00:05\n",
      "    --------------------------------------- 0.2/10.0 MB 2.1 MB/s eta 0:00:05\n",
      "    --------------------------------------- 0.2/10.0 MB 1.1 MB/s eta 0:00:09\n",
      "   - -------------------------------------- 0.4/10.0 MB 1.6 MB/s eta 0:00:06\n",
      "   - -------------------------------------- 0.4/10.0 MB 1.7 MB/s eta 0:00:06\n",
      "   - -------------------------------------- 0.4/10.0 MB 1.7 MB/s eta 0:00:06\n",
      "   -- ------------------------------------- 0.6/10.0 MB 1.6 MB/s eta 0:00:06\n",
      "   --- ------------------------------------ 0.9/10.0 MB 2.1 MB/s eta 0:00:05\n",
      "   --- ------------------------------------ 1.0/10.0 MB 2.2 MB/s eta 0:00:05\n",
      "   --- ------------------------------------ 1.0/10.0 MB 1.9 MB/s eta 0:00:05\n",
      "   ----- ---------------------------------- 1.4/10.0 MB 2.5 MB/s eta 0:00:04\n",
      "   ------- -------------------------------- 2.0/10.0 MB 3.2 MB/s eta 0:00:03\n",
      "   -------- ------------------------------- 2.0/10.0 MB 3.3 MB/s eta 0:00:03\n",
      "   -------- ------------------------------- 2.1/10.0 MB 3.0 MB/s eta 0:00:03\n",
      "   ---------- ----------------------------- 2.7/10.0 MB 3.5 MB/s eta 0:00:03\n",
      "   --------------- ------------------------ 3.8/10.0 MB 4.8 MB/s eta 0:00:02\n",
      "   ---------------- ----------------------- 4.1/10.0 MB 5.0 MB/s eta 0:00:02\n",
      "   ----------------- ---------------------- 4.4/10.0 MB 4.9 MB/s eta 0:00:02\n",
      "   -------------------- ------------------- 5.1/10.0 MB 5.4 MB/s eta 0:00:01\n",
      "   --------------------------- ------------ 6.9/10.0 MB 7.0 MB/s eta 0:00:01\n",
      "   --------------------------------- ------ 8.3/10.0 MB 8.1 MB/s eta 0:00:01\n",
      "   ----------------------------------- ---- 8.8/10.0 MB 8.1 MB/s eta 0:00:01\n",
      "   ---------------------------------------  9.7/10.0 MB 8.6 MB/s eta 0:00:01\n",
      "   ---------------------------------------  10.0/10.0 MB 8.7 MB/s eta 0:00:01\n",
      "   ---------------------------------------  10.0/10.0 MB 8.7 MB/s eta 0:00:01\n",
      "   ---------------------------------------  10.0/10.0 MB 8.7 MB/s eta 0:00:01\n",
      "   ---------------------------------------  10.0/10.0 MB 8.7 MB/s eta 0:00:01\n",
      "   ---------------------------------------- 10.0/10.0 MB 7.4 MB/s eta 0:00:00\n",
      "Downloading trio-0.24.0-py3-none-any.whl (460 kB)\n",
      "   ---------------------------------------- 0.0/460.2 kB ? eta -:--:--\n",
      "   --------------------------------------- 460.2/460.2 kB 14.5 MB/s eta 0:00:00\n",
      "Downloading trio_websocket-0.11.1-py3-none-any.whl (17 kB)\n",
      "Downloading attrs-23.2.0-py3-none-any.whl (60 kB)\n",
      "   ---------------------------------------- 0.0/60.8 kB ? eta -:--:--\n",
      "   ---------------------------------------- 60.8/60.8 kB 3.2 MB/s eta 0:00:00\n",
      "Downloading cffi-1.16.0-cp310-cp310-win_amd64.whl (181 kB)\n",
      "   ---------------------------------------- 0.0/181.6 kB ? eta -:--:--\n",
      "   --------------------------------------- 181.6/181.6 kB 10.7 MB/s eta 0:00:00\n",
      "Downloading outcome-1.3.0.post0-py2.py3-none-any.whl (10 kB)\n",
      "Installing collected packages: sortedcontainers, sniffio, PySocks, pycparser, h11, attrs, wsproto, outcome, cffi, trio, trio-websocket, selenium\n",
      "Successfully installed PySocks-1.7.1 attrs-23.2.0 cffi-1.16.0 h11-0.14.0 outcome-1.3.0.post0 pycparser-2.21 selenium-4.16.0 sniffio-1.3.0 sortedcontainers-2.4.0 trio-0.24.0 trio-websocket-0.11.1 wsproto-1.2.0\n",
      "Collecting webdriver_manager\n",
      "  Downloading webdriver_manager-4.0.1-py2.py3-none-any.whl.metadata (12 kB)\n",
      "Requirement already satisfied: requests in c:\\users\\kahhou_lau\\appdata\\local\\anaconda3\\envs\\ads\\lib\\site-packages (from webdriver_manager) (2.31.0)\n",
      "Collecting python-dotenv (from webdriver_manager)\n",
      "  Downloading python_dotenv-1.0.0-py3-none-any.whl (19 kB)\n",
      "Requirement already satisfied: packaging in c:\\users\\kahhou_lau\\appdata\\local\\anaconda3\\envs\\ads\\lib\\site-packages (from webdriver_manager) (23.2)\n",
      "Requirement already satisfied: charset-normalizer<4,>=2 in c:\\users\\kahhou_lau\\appdata\\local\\anaconda3\\envs\\ads\\lib\\site-packages (from requests->webdriver_manager) (3.3.2)\n",
      "Requirement already satisfied: idna<4,>=2.5 in c:\\users\\kahhou_lau\\appdata\\local\\anaconda3\\envs\\ads\\lib\\site-packages (from requests->webdriver_manager) (3.6)\n",
      "Requirement already satisfied: urllib3<3,>=1.21.1 in c:\\users\\kahhou_lau\\appdata\\local\\anaconda3\\envs\\ads\\lib\\site-packages (from requests->webdriver_manager) (1.26.18)\n",
      "Requirement already satisfied: certifi>=2017.4.17 in c:\\users\\kahhou_lau\\appdata\\local\\anaconda3\\envs\\ads\\lib\\site-packages (from requests->webdriver_manager) (2023.11.17)\n",
      "Downloading webdriver_manager-4.0.1-py2.py3-none-any.whl (27 kB)\n",
      "Installing collected packages: python-dotenv, webdriver_manager\n",
      "Successfully installed python-dotenv-1.0.0 webdriver_manager-4.0.1\n"
     ]
    }
   ],
   "source": [
    "!pip3 install selenium\n",
    "!pip install webdriver_manager"
   ]
  },
  {
   "cell_type": "markdown",
   "metadata": {
    "id": "1VwD4tPBJKJK"
   },
   "source": [
    "## Chromedriver\n",
    "\n",
    "Download from \n",
    "\n",
    "https://chromedriver.chromium.org/\n",
    "\n",
    "**ChromeDriver**\n",
    "\n",
    "WebDriver is an open source tool for automated testing of webapps across many browsers. \n",
    "\n",
    "It provides capabilities for navigating to web pages, user input, JavaScript execution, and more.  \n",
    "\n",
    "ChromeDriver is a standalone server that implements the W3C WebDriver standard. \n",
    "\n",
    "ChromeDriver is available for Chrome on Android and Chrome on Desktop (Mac, Linux, Windows and ChromeOS).  \n",
    "\n",
    "You can view the current implementation status of the WebDriver standard here.\n",
    "\n",
    "**All versions available in Downloads**\n",
    "\n",
    "Latest stable release: ChromeDriver 81.0.4044.69\n",
    "Previous stable release: ChromeDriver 80.0.3987.106\n",
    "Beta release of ChromeDriver 83 coming soon (we are skipping 82)"
   ]
  },
  {
   "cell_type": "markdown",
   "metadata": {
    "id": "IdNWqygAJKJK"
   },
   "source": [
    "### ChromeDriver Documentation\n",
    "\n",
    "https://chromedriver.chromium.org/getting-started"
   ]
  },
  {
   "cell_type": "markdown",
   "metadata": {
    "id": "S5MZWdmDJKJL"
   },
   "source": [
    "## Methods\n",
    "\n",
    "**Locaters in Selenium**\n",
    "\n",
    "* By.ID: find_element_by_id\n",
    "\n",
    "* By.NAME: find_element_by_name\n",
    "\n",
    "* By.LINK_TEXT: find_element_by_link_text\n",
    "\n",
    "* By.CSS_SELECTOR: find_element_by_css_selector\n",
    "\n",
    "* By.PARTIAL_LINK_TEXT: find_element_by_partial_link_text\n",
    "\n",
    "* By.XPATH: find_element_by_xpath\n",
    "\n",
    "\n",
    "**Commands**\n",
    "\n",
    "* sendKeys()\n",
    "\n",
    "* click()\n",
    "\n",
    "\n",
    "**More on**\n",
    "\n",
    "https://selenium-python.readthedocs.io/locating-elements.html\n"
   ]
  },
  {
   "cell_type": "markdown",
   "metadata": {
    "id": "l5yfryToJKJM"
   },
   "source": []
  },
  {
   "cell_type": "markdown",
   "metadata": {
    "id": "NnktmcvsJKJM"
   },
   "source": [
    "Take note of possible version incompability between the Chrome Browser and the Driver. Upgrade id necessary\n"
   ]
  },
  {
   "cell_type": "code",
   "execution_count": null,
   "metadata": {
    "id": "KIA7iT4ZJKJN",
    "tags": []
   },
   "outputs": [],
   "source": [
    "# Main\n",
    "\n",
    "from selenium import webdriver\n",
    "from selenium.webdriver.chrome.service import Service\n",
    "from selenium.webdriver.common.by import By\n",
    "\n",
    "driver = webdriver.Chrome(ChromeDriverManager().install())\n",
    "driver.get(\"https://www.ebay.com.my\")\n",
    "# htmlSource = driver.page_source\n",
    "\n",
    "# service = Service(executable_path='/usr/local/bin/chromedriver')\n",
    "# driver = webdriver.Chrome(service=service)"
   ]
  },
  {
   "cell_type": "markdown",
   "metadata": {
    "id": "0lubDeRyJKJO"
   },
   "source": [
    "## Locaters in Selenium\n",
    "\n",
    "### By.ID: find_element_by_id\n",
    "\n"
   ]
  },
  {
   "cell_type": "markdown",
   "metadata": {
    "id": "kK-JtB80JKJO"
   },
   "source": [
    "Need basic understanding of Web Page, HTML, CSS\n"
   ]
  },
  {
   "cell_type": "markdown",
   "metadata": {
    "id": "mvCy_filJKJP"
   },
   "source": [
    "Let's get moving.\n",
    "\n",
    "https://www.ebay.com.my\n"
   ]
  },
  {
   "cell_type": "code",
   "execution_count": null,
   "metadata": {
    "id": "wek38SdTJKJP"
   },
   "outputs": [],
   "source": [
    "from selenium.webdriver.common.keys import Keys\n",
    "driver.get('https://www.ebay.com.my')"
   ]
  },
  {
   "cell_type": "markdown",
   "metadata": {
    "id": "SzSbBSJvJKJP"
   },
   "source": [
    "<img src=\"./Images/Selenium1.png\">"
   ]
  },
  {
   "cell_type": "markdown",
   "metadata": {
    "id": "ML6-kmFDJKJQ"
   },
   "source": [
    "Let's look at Ebay website\n",
    "\n",
    "Automate the input \"Search for anything\"\n",
    "\n",
    "Search for the \"Item\"\n",
    "\n",
    "Right click inspect the Search Input Box\n",
    "\n",
    "Look for the ID of the Search Input Box\n",
    "\n",
    "id=\"gh=ac\"\n",
    "\n",
    "Make sure that this is the unique ID\n"
   ]
  },
  {
   "cell_type": "markdown",
   "metadata": {
    "id": "tyWOnpJ7JKJQ"
   },
   "source": [
    "<img src=\"./Images/Selenium2.png\">"
   ]
  },
  {
   "cell_type": "code",
   "execution_count": null,
   "metadata": {
    "id": "vAB_sJAdJKJQ"
   },
   "outputs": [],
   "source": [
    "element = driver.find_element(By.ID, \"gh-ac\")\n",
    "element.send_keys(\"da vinci code\")"
   ]
  },
  {
   "cell_type": "markdown",
   "metadata": {
    "id": "Skt0DLfeJKJQ"
   },
   "source": [
    "Observe the Chrome Browser\n",
    "\n",
    "The text is automatically \"typed\" into the search box"
   ]
  },
  {
   "cell_type": "markdown",
   "metadata": {
    "id": "4oRS4UvMJKJQ"
   },
   "source": [
    "### find.element_by_name\n",
    "------------------------------"
   ]
  },
  {
   "cell_type": "code",
   "execution_count": null,
   "metadata": {
    "id": "4xjgsCQaJKJR"
   },
   "outputs": [],
   "source": [
    "element = driver.find_element(By.NAME, \"_nkw\")\n",
    "element.send_keys(\"da vinci code\")"
   ]
  },
  {
   "cell_type": "markdown",
   "metadata": {
    "id": "poVZdeLOJKJR"
   },
   "source": [
    "Observe the Chrome Browser\n",
    "\n",
    "Same again\n",
    "\n",
    "The text is automatically \"typed\" into the search box\n",
    "\n",
    "However this time it is by find_element_by_name"
   ]
  },
  {
   "cell_type": "markdown",
   "metadata": {
    "id": "-XHtHnmNJKJR"
   },
   "source": [
    "<img src=\"./Images/Selenium3.png\">"
   ]
  },
  {
   "cell_type": "markdown",
   "metadata": {
    "id": "py9-OmC2JKJR"
   },
   "source": [
    "### find_element_by_link_text"
   ]
  },
  {
   "cell_type": "markdown",
   "metadata": {
    "id": "h3Ne8EbhJKJS"
   },
   "source": [
    "<img src=\"./Images/Selenium4.png\">"
   ]
  },
  {
   "cell_type": "code",
   "execution_count": null,
   "metadata": {
    "id": "0koMn5SBJKJS"
   },
   "outputs": [],
   "source": [
    "element = driver.find_element(By.LINK_TEXT, \"Fashion\")\n",
    "element.click()"
   ]
  },
  {
   "cell_type": "code",
   "execution_count": null,
   "metadata": {
    "tags": []
   },
   "outputs": [],
   "source": [
    "element = driver.find_element(By.LINK_TEXT, \"Computers & Tablets\")\n",
    "\n",
    "element.click()"
   ]
  },
  {
   "cell_type": "markdown",
   "metadata": {
    "id": "LyDci2OGJKJT"
   },
   "source": [
    "<img src=\"./Images/Selenium5.png\">"
   ]
  },
  {
   "cell_type": "markdown",
   "metadata": {
    "id": "XQ2XsNUkJKJT"
   },
   "source": [
    "### find_element_by_css_selector"
   ]
  },
  {
   "cell_type": "code",
   "execution_count": null,
   "metadata": {
    "id": "OpI0a2mtJKJT"
   },
   "outputs": [],
   "source": [
    "element = driver.find_element(By.CSS_SELECTOR, \"input.gh-tb\")\n",
    "element.send_keys(\"da vinci code\")"
   ]
  },
  {
   "cell_type": "markdown",
   "metadata": {
    "id": "Xebk1ETxJKJT"
   },
   "source": [
    "Dont have to key in the full class name, it will detect part of the string"
   ]
  },
  {
   "cell_type": "markdown",
   "metadata": {
    "id": "kWr34pU_JKJT"
   },
   "source": [
    "### find_element_by_partial_link_text"
   ]
  },
  {
   "cell_type": "code",
   "execution_count": null,
   "metadata": {
    "id": "_E5SJJLUJKJT"
   },
   "outputs": [],
   "source": [
    "element = driver.find_element(By.PARTIAL_LINK_TEXT, \"Computers\")\n",
    "element.click()"
   ]
  },
  {
   "cell_type": "markdown",
   "metadata": {
    "id": "YmNYMNbrJKJU"
   },
   "source": [
    "Observe the Driver \"clicking\" the Link and a new page appears"
   ]
  },
  {
   "cell_type": "markdown",
   "metadata": {
    "id": "YvmDxqH5JKJU"
   },
   "source": [
    "### find_element_by_xpath\n",
    "\n",
    "What is xPath?\n",
    "\n",
    "https://www.w3.org/TR/1999/REC-xpath-19991116/\n"
   ]
  },
  {
   "cell_type": "markdown",
   "metadata": {
    "id": "N6fZtWr5JKJU"
   },
   "source": [
    "Download and Install a Chrome extension **xPath Finder**\n",
    "\n",
    "Go To Chrome Menu \"Customise and Control Google Chrome\"\n",
    "\n",
    "Select More Tools\n",
    "\n",
    "Select Extensions\n",
    "\n",
    "Open chrome web store\n",
    "\n",
    "Enter xPath Finder in the Search the store input box\n",
    "\n",
    "Click Add to Chrome\n",
    "\n",
    "\n"
   ]
  },
  {
   "cell_type": "markdown",
   "metadata": {
    "id": "p6KMwAQMJKJU"
   },
   "source": [
    "Observer the top right of the windows and the extension is loaded."
   ]
  },
  {
   "cell_type": "markdown",
   "metadata": {
    "id": "BbGhycdXJKJU"
   },
   "source": [
    "Click on the newly installed Extensions\n",
    "\n",
    "Click on the intended item on the page, in this example \"Proton\"\n",
    "\n",
    "Observe the xPath shown at the bottom left\n"
   ]
  },
  {
   "cell_type": "code",
   "execution_count": null,
   "metadata": {
    "id": "9ctzvDlaJKJU"
   },
   "outputs": [],
   "source": [
    "element = driver.find_element(By.XPATH, \"/html/body/div[5]/div[4]/div[2]/div/div/div/ul/li[7]/a/div\")\n",
    "\n",
    "# Click on the element\n",
    "element.click()"
   ]
  },
  {
   "cell_type": "markdown",
   "metadata": {
    "id": "SYtMXkBbJKJV"
   },
   "source": []
  }
 ],
 "metadata": {
  "colab": {
   "name": "W5-03 - Selenium.ipynb",
   "provenance": []
  },
  "kernelspec": {
   "display_name": "Python 3 (ipykernel)",
   "language": "python",
   "name": "python3"
  },
  "language_info": {
   "codemirror_mode": {
    "name": "ipython",
    "version": 3
   },
   "file_extension": ".py",
   "mimetype": "text/x-python",
   "name": "python",
   "nbconvert_exporter": "python",
   "pygments_lexer": "ipython3",
   "version": "3.10.13"
  }
 },
 "nbformat": 4,
 "nbformat_minor": 4
}
