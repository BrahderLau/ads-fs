{
 "cells": [
  {
   "cell_type": "markdown",
   "metadata": {},
   "source": [
    "# W5-01 : Requests, Regex, BeautifulSoup, Selenium\n",
    "\n",
    "## Exercise(s): Learn how to perform Data Scraping\n",
    "\n",
    "\n",
    "Objective: Learn Regex, BeautifulSoup, Selenium\n",
    "\n",
    "Competencies:\n",
    "-\tParticipants will be able to use Numpy\n",
    "\n",
    "Tools: Python, Anaconda, Jupyter\n",
    "\n",
    "Analysis case study: -"
   ]
  },
  {
   "cell_type": "markdown",
   "metadata": {
    "colab": {},
    "colab_type": "code",
    "id": "O-QJwKjkYd1V"
   },
   "source": [
    "## Day 1: Basics of Web Scraping\n",
    "\n",
    "1. Requests\n",
    "2. Regex\n",
    "3. BeautifulSoup\n",
    "4. Selenium\n",
    "\n",
    "## Day 2: Social Media Scraping\n",
    "\n",
    "1. Facebook\n",
    "2. Twitter\n",
    "3. Instagram\n",
    "4. Reddit\n"
   ]
  },
  {
   "cell_type": "markdown",
   "metadata": {
    "colab_type": "text",
    "id": "YL-wDfUMYd4o"
   },
   "source": [
    "### Anatomy of a Web Page\n",
    "\n",
    "HTML(Hyper Text Markup Language)\n",
    "\n",
    "CSS(Cascading Style Sheets)\n",
    "\n",
    "Javascript\n",
    "\n",
    "\n",
    "Show some examples "
   ]
  },
  {
   "cell_type": "code",
   "execution_count": null,
   "metadata": {
    "colab": {},
    "colab_type": "code",
    "id": "2Gn-ZrhFYd5D"
   },
   "outputs": [],
   "source": [
    "webpage = '''\n",
    "<!DOCTYPE html>\n",
    "<html>\n",
    "  <head>\n",
    "    <title>This is a title</title>\n",
    "  </head>\n",
    "  <body>\n",
    "    <p>Hello world!</p>\n",
    "  </body>\n",
    "</html>\n",
    "'''"
   ]
  },
  {
   "cell_type": "markdown",
   "metadata": {
    "colab_type": "text",
    "id": "lMpWn5EuYd6a"
   },
   "source": [
    "## Web Scraping\n",
    "\n",
    "**Web Scraping** is a technique to extract the data from the web pages in an **automated way**.\n",
    "\n",
    "A web scraping **script** can load and extract the **data** from multiple pages.\n",
    "\n",
    "A web scraping script contains Python codes and required libraries to perform the task.\n",
    "\n",
    "The first library needed is **Requests**\n"
   ]
  },
  {
   "cell_type": "markdown",
   "metadata": {
    "colab_type": "text",
    "id": "07v0_9A1Yd6b"
   },
   "source": [
    "### Getting Started\n",
    "\n",
    "**Install the Request library**\n",
    "\n",
    "pip3 install request\n",
    "\n",
    "OR\n",
    "\n",
    "conda install -c conda-forge request"
   ]
  },
  {
   "cell_type": "markdown",
   "metadata": {
    "colab": {},
    "colab_type": "code",
    "id": "8lfK6Rx_Yd6e"
   },
   "source": [
    "### Chapter 1: Requests\n",
    "\n",
    "\n",
    "**Requests** (handles HTTP sessions and makes HTTP requests).\n",
    "\n",
    "import requests\n"
   ]
  },
  {
   "cell_type": "code",
   "execution_count": null,
   "metadata": {
    "colab": {},
    "colab_type": "code",
    "id": "wCwLggtQYd6n",
    "tags": []
   },
   "outputs": [],
   "source": [
    "import requests\n",
    "\n",
    "url='https://www.thestar.com.my/news/nation/2020/03/23/covid-19-current-situation-in-malaysia-updated-daily'\n",
    "\n",
    "page = requests.get(url)\n",
    "\n",
    "page.status_code\n"
   ]
  },
  {
   "cell_type": "markdown",
   "metadata": {
    "colab": {},
    "colab_type": "code",
    "id": "TpkqaD0JYd74"
   },
   "source": [
    "### Status code\n",
    "\n",
    "200 OK\n",
    "\n",
    "https://developer.mozilla.org/en-US/docs/Web/HTTP/Status\n"
   ]
  },
  {
   "cell_type": "code",
   "execution_count": null,
   "metadata": {
    "colab": {},
    "colab_type": "code",
    "id": "rXUCsiQlYd8B",
    "scrolled": true,
    "tags": []
   },
   "outputs": [],
   "source": [
    "# print the returned page as string\n",
    "page.text"
   ]
  },
  {
   "cell_type": "code",
   "execution_count": null,
   "metadata": {
    "colab": {},
    "colab_type": "code",
    "id": "4HT5aJDJYd8L",
    "scrolled": true,
    "tags": []
   },
   "outputs": [],
   "source": [
    "# print the returned page as bytes\n",
    "# converting to bytes allows you to convert to any other types\n",
    "page.content"
   ]
  },
  {
   "cell_type": "code",
   "execution_count": null,
   "metadata": {
    "colab": {},
    "colab_type": "code",
    "id": "hUaWHcKSYd8V",
    "tags": []
   },
   "outputs": [],
   "source": [
    "page.encoding"
   ]
  },
  {
   "cell_type": "markdown",
   "metadata": {
    "colab_type": "text",
    "id": "-KwIDuH1Yd8b"
   },
   "source": [
    "### Compare\n",
    "\n",
    "Open your Web Browser and compare the Source Code shown there and here\n"
   ]
  },
  {
   "cell_type": "markdown",
   "metadata": {
    "colab": {},
    "colab_type": "code",
    "id": "-bIQEO5EYd8e"
   },
   "source": [
    "### Understanding the Web Page\n",
    "\n",
    "Where is the ?\n",
    "\n",
    "HTML\n",
    "\n",
    "CSS\n",
    "\n",
    "Javascript\n",
    "\n",
    "Show the Web Browser Developmers Tools"
   ]
  },
  {
   "cell_type": "markdown",
   "metadata": {
    "colab": {},
    "colab_type": "code",
    "id": "RiE3XzwLYd9F"
   },
   "source": [
    "### Reduce impact\n",
    "\n",
    "Do not query the webpage all the time\n",
    "\n",
    "Anti-bots / scrapers\n"
   ]
  },
  {
   "cell_type": "code",
   "execution_count": null,
   "metadata": {
    "colab": {},
    "colab_type": "code",
    "id": "_Q72KpvTYd9O",
    "tags": []
   },
   "outputs": [],
   "source": [
    "# How to save HTML locally\n",
    "import requests\n",
    "\n",
    "def save_html(html, path):\n",
    "    with open(path, 'wb') as f:\n",
    "        f.write(html)\n",
    "        \n",
    "url = 'https://www.google.com'\n",
    "\n",
    "r = requests.get(url)\n",
    "\n",
    "save_html(r.content, 'google_com')\n",
    "\n",
    "# print(r.content[:300])"
   ]
  },
  {
   "cell_type": "code",
   "execution_count": null,
   "metadata": {
    "colab": {},
    "colab_type": "code",
    "id": "Fa1IhputYd9X",
    "tags": []
   },
   "outputs": [],
   "source": [
    "# How to open.read HTML from a local file\n",
    "\n",
    "def open_html(path):\n",
    "    with open(path, 'rb') as f:\n",
    "        return f.read()\n",
    "    \n",
    "    \n",
    "html = open_html('google_com')\n"
   ]
  },
  {
   "cell_type": "code",
   "execution_count": null,
   "metadata": {
    "colab": {},
    "colab_type": "code",
    "id": "cTxhiDFeYd-x",
    "scrolled": true,
    "tags": []
   },
   "outputs": [],
   "source": [
    "html"
   ]
  },
  {
   "cell_type": "markdown",
   "metadata": {
    "colab_type": "text",
    "id": "86KadDXjYeAS"
   },
   "source": [
    "### How to be a good scrapers/bots\n",
    "\n",
    "Look for robots.txt at the root of the domain.\n",
    "\n",
    "Website owner explicitly states what bots are allowed to do on their site\n",
    "\n"
   ]
  },
  {
   "cell_type": "code",
   "execution_count": null,
   "metadata": {
    "colab": {},
    "colab_type": "code",
    "id": "YLcH07tsYeAX",
    "scrolled": true,
    "tags": []
   },
   "outputs": [],
   "source": [
    "import requests\n",
    "\n",
    "url = 'https://www.google.com/robots.txt'\n",
    " \n",
    "user_agent = 'user-agent: Mozilla/5.0 (Windows NT 10.0; Win64; x64) AppleWebKit/537.36 (KHTML, like Gecko) Chrome/81.0.4044.92 Safari/537.36'\n",
    "\n",
    "headers={'User-Agent':user_agent}\n",
    "\n",
    "r = requests.get(url, headers=headers)\n",
    "\n",
    "print(r.content)\n",
    "\n",
    "\n",
    "# User Agent String: This user agent string is then passed in the headers of the HTTP request.\n",
    "\n",
    "# Headers: The headers dictionary contains the user agent information under the 'User-Agent' key. This is included in the HTTP request to \n",
    "# identify the client to the server.\n",
    "\n",
    "# HTTP GET Request: requests.get(url, headers=headers) sends an HTTP GET request to the specified URL with the provided headers."
   ]
  },
  {
   "cell_type": "code",
   "execution_count": null,
   "metadata": {
    "colab": {},
    "colab_type": "code",
    "id": "W7WWPX6NYeAi",
    "scrolled": true,
    "tags": []
   },
   "outputs": [],
   "source": [
    "# Change to Byte to String\n",
    "str(r.content,'utf-8')"
   ]
  },
  {
   "cell_type": "code",
   "execution_count": null,
   "metadata": {
    "colab": {},
    "colab_type": "code",
    "id": "wg547K7vYeAo",
    "tags": []
   },
   "outputs": [],
   "source": [
    "# Print the newline\n",
    "print(str(r.content,'utf-8'))"
   ]
  },
  {
   "cell_type": "code",
   "execution_count": null,
   "metadata": {
    "colab": {},
    "colab_type": "code",
    "id": "iwE8PpJ7YeBV",
    "scrolled": true,
    "tags": []
   },
   "outputs": [],
   "source": [
    "import requests\n",
    "\n",
    "url = 'https://www.google.com/robots.txt'\n",
    " \n",
    "user_agent = 'user-agent: Mozilla/5.0 (Windows NT 10.0; Win64; x64) AppleWebKit/537.36 (KHTML, like Gecko) Chrome/81.0.4044.92 Safari/537.36'\n",
    "\n",
    "headers={'User-Agent':user_agent}\n",
    "\n",
    "r = requests.get(url, headers=headers)\n",
    "\n",
    "print(r.text)"
   ]
  },
  {
   "cell_type": "markdown",
   "metadata": {
    "colab_type": "text",
    "id": "gj3nsJbsYeBl"
   },
   "source": [
    "**Using r.text**\n",
    "\n",
    "Requests makes educated guesses about the encoding of the response based on the HTTP headers.\n",
    "\n",
    "The text encoding guessed by Requests is used when you access r.text. \n",
    "\n",
    "You can find out what encoding Requests is using, and change it, using the r.encoding property\n",
    "\n",
    "# Chapter 2. REGular EXpressions(REGEX)\n",
    "\n",
    "**References:** \n",
    "\n",
    "\n",
    "https://docs.python.org/3/library/re.html\n",
    "\n",
    "RegEx\n",
    "https://pypi.org/project/regex/\n"
   ]
  },
  {
   "cell_type": "markdown",
   "metadata": {},
   "source": [
    "Before the start this lesson. Try to write a code to extract only the digits from this String.\n",
    "str = \"abc**00123**xyz**456**_**0**\"\n",
    "\n",
    "answer = ['00123', '456', '0']"
   ]
  },
  {
   "cell_type": "markdown",
   "metadata": {
    "colab": {},
    "colab_type": "code",
    "id": "4ykGnR_MYeBm"
   },
   "source": [
    "## 1. What is a Regular Expression?\n",
    "\n",
    "\n",
    "A regular expression in a programming language is a special text string used for describing a search pattern. \n",
    "\n",
    "It is extremely useful for extracting information from text such as code, files, log, spreadsheets or even documents."
   ]
  },
  {
   "cell_type": "markdown",
   "metadata": {
    "colab_type": "text",
    "id": "zLFcKADAYeBz"
   },
   "source": [
    "<pre>\n",
    "\\    Used to drop the special meaning of character following it\n",
    "\n",
    "^    Matches the beginning\n",
    "\n",
    "$    Matches the end\n",
    "\n",
    ".    Matches any character except newline\n",
    "\n",
    "?    Matches zero or one occurrence.\n",
    "\n",
    "|    Means OR (Matches with any of the characters separated by it.\n",
    "\n",
    "*    Any number of occurrences (including 0 occurrences)\n",
    "\n",
    "+    One ore more occurrences\n",
    "\n",
    "{}   Indicate number of occurrences of a preceding RE to match.\n",
    "\n",
    "()   Enclose a group of REs\n",
    "\n",
    "</pre>"
   ]
  },
  {
   "cell_type": "markdown",
   "metadata": {
    "colab": {},
    "colab_type": "code",
    "id": "ZBpd82tbYeB1"
   },
   "source": [
    "## Methods\n",
    "\n",
    "re.match(), re.search() and re.findall() are methods of the Python module re.\n",
    "\n",
    "### The re.match() method\n",
    "\n",
    "The re.match() method finds match if it occurs at start of the string. For example, calling match() on the string ‘FS Forward School FS’ and looking for a pattern ‘FS’ will match.  \n",
    "\n"
   ]
  },
  {
   "cell_type": "code",
   "execution_count": null,
   "metadata": {
    "colab": {},
    "colab_type": "code",
    "id": "86EPzZrJYeCo",
    "tags": []
   },
   "outputs": [],
   "source": [
    "import re\n",
    "\n",
    "data='FS Forward School FS'\n",
    "\n",
    "result = re.match(r'FS', data)\n",
    "\n",
    "print(result.group(0))"
   ]
  },
  {
   "cell_type": "markdown",
   "metadata": {
    "colab": {},
    "colab_type": "code",
    "id": "yLCLFIVwYeCu"
   },
   "source": [
    "### The re.search() method\n",
    "\n",
    "The re.search() method is similar to re.match() but it doesn’t limit us to find matches at the beginning of the string only. "
   ]
  },
  {
   "cell_type": "code",
   "execution_count": null,
   "metadata": {
    "colab_type": "text",
    "id": "vf7DW6MSYeC5",
    "tags": []
   },
   "outputs": [],
   "source": [
    "import re\n",
    "\n",
    "result = re.search(r'School', 'FS Forward School FS')\n",
    "\n",
    "print(result)\n",
    "print(result.group(0))"
   ]
  },
  {
   "cell_type": "markdown",
   "metadata": {
    "colab": {},
    "colab_type": "code",
    "id": "mTig1OswYeC6"
   },
   "source": [
    "### The re.findall() method\n",
    "\n",
    "The re.findall() helps to get a list of all matching patterns. It searches from start or end of the given string. If we use method findall to search for a pattern in a given string it will return all occurrences of the pattern. While searching a pattern, it is recommended to use re.findall() always, it works like re.search() and re.match() both.\n"
   ]
  },
  {
   "cell_type": "code",
   "execution_count": null,
   "metadata": {
    "colab_type": "text",
    "id": "l8SfcWwRYeDP",
    "tags": []
   },
   "outputs": [],
   "source": [
    "import re\n",
    "\n",
    "result = re.findall(r'FS', 'FS Forward School FS')\n",
    "\n",
    "print(result)\n"
   ]
  },
  {
   "cell_type": "code",
   "execution_count": null,
   "metadata": {
    "colab": {},
    "colab_type": "code",
    "id": "39A8GZYrYeDR",
    "tags": []
   },
   "outputs": [],
   "source": [
    "import re   # Need module 're' for regular expression\n",
    "\n",
    "# Try find: re.findall(regexStr, inStr) -> matchedSubstringsList\n",
    "\n",
    "# r'...' denotes raw strings which ignore escape code, i.e., r'\\n' is '\\'+'n'\n",
    "\n",
    "re.findall(r'[0-9]+', 'abc123xyz')\n",
    "\n",
    "# Return a list of matched substrings"
   ]
  },
  {
   "cell_type": "code",
   "execution_count": null,
   "metadata": {
    "colab_type": "text",
    "id": "O89O5HgxYeDd",
    "tags": []
   },
   "outputs": [],
   "source": [
    "re.findall(r'[0-9]+', 'abcxyz')\n",
    "# where are the numbers?"
   ]
  },
  {
   "cell_type": "code",
   "execution_count": null,
   "metadata": {
    "colab": {},
    "colab_type": "code",
    "id": "i66Y2QXRYeDf",
    "tags": []
   },
   "outputs": [],
   "source": [
    "import re\n",
    "\n",
    "re.findall(r'[0-9]+', 'abc00123xyz456_0')\n"
   ]
  },
  {
   "cell_type": "code",
   "execution_count": null,
   "metadata": {
    "colab": {},
    "colab_type": "code",
    "id": "CfJup6XmYeE1",
    "tags": []
   },
   "outputs": [],
   "source": [
    "import re\n",
    "\n",
    "re.findall(r'\\d+', 'abc00123xyz456_0')\n",
    "\n",
    "##\\d represents any decimal digit, which is equivalent to the set [0-9]"
   ]
  },
  {
   "cell_type": "code",
   "execution_count": null,
   "metadata": {
    "colab": {},
    "colab_type": "code",
    "id": "iWYFZ6qDYeE-",
    "tags": []
   },
   "outputs": [],
   "source": [
    "# Try substitute: re.sub(regexStr, replacementStr, inStr) -> outStr\n",
    "import re\n",
    "\n",
    "re.sub(r'[0-9]+', r'0', 'abc00123xyz456_0')"
   ]
  },
  {
   "cell_type": "code",
   "execution_count": null,
   "metadata": {
    "colab": {},
    "colab_type": "code",
    "id": "1jwDuiLzYeFG",
    "tags": []
   },
   "outputs": [],
   "source": [
    "# Try substitute with count: re.subn(regexStr, replacementStr, inStr) -> (outStr, count)\n",
    "import re\n",
    "\n",
    "re.subn(r'[0-9]+', r'*', 'abc00123xyz456_0')\n",
    "\n",
    "# Return a tuple of output string and count"
   ]
  },
  {
   "cell_type": "markdown",
   "metadata": {
    "colab_type": "text",
    "id": "ZCV3eA7dYeFZ"
   },
   "source": [
    "### Texts"
   ]
  },
  {
   "cell_type": "code",
   "execution_count": null,
   "metadata": {
    "colab": {},
    "colab_type": "code",
    "id": "hV_Cd1PBYeFa",
    "tags": []
   },
   "outputs": [],
   "source": [
    "#  matching text that contain two keywords between characters.\n",
    "import re\n",
    "\n",
    "s1 = \"I love Ronaldo\"\n",
    "\n",
    "regex=r\"(I[a-zA-Z_0-9 ]*Ronaldo)\"\n",
    "\n",
    "match = re.findall(regex, s1)\n",
    "print(match)\n"
   ]
  },
  {
   "cell_type": "code",
   "execution_count": null,
   "metadata": {
    "colab": {},
    "colab_type": "code",
    "id": "OUfVTPmUYeGY",
    "tags": []
   },
   "outputs": [],
   "source": [
    "#  matching text that contain two keywords between characters.\n",
    "import re\n",
    "\n",
    "s2 = \"I hate Ronaldo\" \n",
    "\n",
    "regex=r\"(I[a-zA-Z_0-9 ]*Ronaldo)\"\n",
    "\n",
    "match = re.findall(regex, s2)\n",
    "print(match)\n"
   ]
  },
  {
   "cell_type": "code",
   "execution_count": null,
   "metadata": {
    "colab": {},
    "colab_type": "code",
    "id": "DSdukBuOYeGm",
    "tags": []
   },
   "outputs": [],
   "source": [
    "#  matching text that contain two keywords between characters.\n",
    "import re\n",
    "\n",
    "s3 = \"I love Ronaldo, Ronaldo, I Dunno him, I Hate Ronaldo\" \n",
    "\n",
    "regex=r\"(I[a-zA-Z_0-9 ]*Ronaldo)\"\n",
    "\n",
    "match = re.findall(regex, s3)\n",
    "print(match)\n"
   ]
  },
  {
   "cell_type": "code",
   "execution_count": null,
   "metadata": {
    "colab": {},
    "colab_type": "code",
    "id": "fY-w4QqiYeHX",
    "tags": []
   },
   "outputs": [],
   "source": [
    "#  matching text that contain two keywords between characters.\n",
    "import re\n",
    "\n",
    "s4 = \"I heard that somebody said Ronaldo that he heard that A was informed that B thought that C misunderstood Ronaldo\"\n",
    "\n",
    "regex=r\"(I[a-zA-Z_0-9 ]*Ronaldo)\"\n",
    "\n",
    "match = re.findall(regex, s4)\n",
    "print(match)\n"
   ]
  },
  {
   "cell_type": "code",
   "execution_count": null,
   "metadata": {
    "colab": {},
    "colab_type": "code",
    "id": "Hs5ks0olYeH6",
    "tags": []
   },
   "outputs": [],
   "source": [
    "#  matching text that contain two keywords between characters.\n",
    "import re\n",
    "\n",
    "s5 = \"I heard that somebody said Ronaldo, that he heard that A was informed that B thought that C misunderstood Ronaldo\"\n",
    "\n",
    "regex=r\"(I[a-zA-Z_0-9 ]*Ronaldo)\"\n",
    "\n",
    "match = re.findall(regex, s5)\n",
    "print(match)\n",
    "\n",
    "#observe the comma"
   ]
  },
  {
   "cell_type": "code",
   "execution_count": null,
   "metadata": {
    "colab": {},
    "colab_type": "code",
    "id": "2equX30HYeJT",
    "tags": []
   },
   "outputs": [],
   "source": [
    "import re\n",
    "\n",
    "s = \"Apple Orange Watermelon\"\n",
    "\n",
    "regex=r\"(Forward School)\"\n",
    "\n",
    "match = re.findall(regex, s)\n",
    "\n",
    "print(match)"
   ]
  },
  {
   "cell_type": "code",
   "execution_count": null,
   "metadata": {
    "colab": {},
    "colab_type": "code",
    "id": "M8IPB_7sYeJu",
    "tags": []
   },
   "outputs": [],
   "source": [
    "import re\n",
    "\n",
    "s = \"Apple Orange Watermelon Forward School\"\n",
    "\n",
    "regex=r\"(Forward School)\"\n",
    "\n",
    "match = re.findall(regex, s)\n",
    "\n",
    "print(match)"
   ]
  },
  {
   "cell_type": "code",
   "execution_count": null,
   "metadata": {
    "colab": {},
    "colab_type": "code",
    "id": "PiwNXzzHYeKB",
    "tags": []
   },
   "outputs": [],
   "source": [
    "import re\n",
    "\n",
    "s = \"Apple Orange Watermelon Forward School\"\n",
    "\n",
    "regex=r\"(Forward School)\"\n",
    "\n",
    "match = re.match(regex, s)\n",
    "\n",
    "print(match)"
   ]
  },
  {
   "cell_type": "code",
   "execution_count": null,
   "metadata": {
    "tags": []
   },
   "outputs": [],
   "source": [
    "import re\n",
    "\n",
    "s = \"Apple Orange Watermelon Forward School\"\n",
    "\n",
    "regex=r\"(Apple Orange Watermelon)\"\n",
    "\n",
    "match = re.match(regex, s)\n",
    "\n",
    "print(match)\n",
    "print(match.group(0))"
   ]
  },
  {
   "cell_type": "markdown",
   "metadata": {
    "colab_type": "text",
    "id": "8ZQg0qsiYeKL"
   },
   "source": [
    "## 1. Pattern for Matching 000..255: Write a regular expression to match numbers from 000 to 255. Use the pattern ([01][0-9][0-9]|2[0-4][0-9]|25[0-5]).\n",
    "\n",
    "## 2. Pattern for Matching 0 or 000..255: How would you construct a regular expression to match either a single '0' or any number from 000 to 255? The pattern is ([01]?[0-9]?[0-9]|2[0-4][0-9]|25[0-5])."
   ]
  },
  {
   "cell_type": "code",
   "execution_count": null,
   "metadata": {
    "tags": []
   },
   "outputs": [],
   "source": [
    "import re\n",
    "\n",
    "# The regular expression pattern\n",
    "pattern = r'([01][0-9][0-9]|2[0-4][0-9]|25[0-5])'\n",
    "\n",
    "# Example string to search\n",
    "text = \"Test numbers: 000, 123, 234, 255, 256, 299\"\n",
    "\n",
    "# Find all matches\n",
    "matches = re.findall(pattern, text)\n",
    "\n",
    "# Print the results\n",
    "print(\"Matches:\", matches)"
   ]
  },
  {
   "cell_type": "code",
   "execution_count": null,
   "metadata": {
    "colab": {},
    "colab_type": "code",
    "id": "prMGEzf8YeKQ",
    "tags": []
   },
   "outputs": [],
   "source": [
    "#example\n",
    "\n",
    "import re\n",
    "\n",
    "s = \"000..255..278\"\n",
    "\n",
    "regex=r\"([01][0-9][0-9]|2[0-4][0-9]|25[0-5])\"\n",
    "\n",
    "match = re.findall(regex, s)\n",
    "\n",
    "print(match)"
   ]
  },
  {
   "cell_type": "code",
   "execution_count": null,
   "metadata": {
    "colab": {},
    "colab_type": "code",
    "id": "e4RNBiodYepw",
    "tags": []
   },
   "outputs": [],
   "source": [
    "# A Python program to demonstrate working of re.match().  \n",
    "import re  \n",
    "    \n",
    "# Lets use a regular expression to match a date string  \n",
    "# in the form of Month name followed by day number  \n",
    "regex = r\"([a-zA-Z]+) (\\d+)\"\n",
    "    \n",
    "match = re.search(regex, \"I was born on June 24\")  \n",
    "    \n",
    "if match != None:  \n",
    "    \n",
    "    # We reach here when the expression \"([a-zA-Z]+) (\\d+)\"  \n",
    "    # matches the date string.  \n",
    "    \n",
    "    # This will print [14, 21), since it matches at index 14  \n",
    "    # and ends at 21.   \n",
    "    print(\"Match at index % s, % s\" % (match.start(), match.end())) \n",
    "    \n",
    "    # We us group() method to get all the matches and  \n",
    "    # captured groups. The groups contain the matched values.  \n",
    "    # In particular:  \n",
    "    # match.group(0) always returns the fully matched string  \n",
    "    # match.group(1) match.group(2), ... return the capture  \n",
    "    # groups in order from left to right in the input string  \n",
    "    # match.group() is equivalent to match.group(0)  \n",
    "    \n",
    "    # So this will print \"June 24\"  \n",
    "    print(\"Full match: % s\" % (match.group(0))) \n",
    "    \n",
    "    # So this will print \"June\"  \n",
    "    print(\"Month: % s\" % (match.group(1))) \n",
    "    \n",
    "    # So this will print \"24\"  \n",
    "    print(\"Day: % s\" % (match.group(2))) \n",
    "    \n",
    "else:  \n",
    "    print(\"The regex pattern does not match.\") \n"
   ]
  },
  {
   "cell_type": "markdown",
   "metadata": {},
   "source": [
    "### Extract Email using Regex\n",
    "\n",
    "<img src='./Images/Intro2.png'>"
   ]
  },
  {
   "cell_type": "code",
   "execution_count": null,
   "metadata": {
    "tags": []
   },
   "outputs": [],
   "source": [
    "import requests\n",
    "import re\n",
    "\n",
    "url='https://mmuexpert.mmu.edu.my/fci'\n",
    " \n",
    "# get the data    \n",
    "data = requests.get(url)\n",
    "\n",
    "\n",
    "emails = re.findall(r'([\\d\\w\\.\\-]+@[\\d\\w\\.\\-]+\\.\\w+)', data.text)\n",
    "\n",
    "print(emails)"
   ]
  },
  {
   "cell_type": "code",
   "execution_count": null,
   "metadata": {
    "tags": []
   },
   "outputs": [],
   "source": [
    "# print(data.text)"
   ]
  },
  {
   "cell_type": "markdown",
   "metadata": {},
   "source": [
    "### Extract Phone Number using Regex"
   ]
  },
  {
   "cell_type": "code",
   "execution_count": null,
   "metadata": {
    "tags": []
   },
   "outputs": [],
   "source": [
    "import requests\n",
    "import re\n",
    "\n",
    "# get the data\n",
    "data = requests.get(url)\n",
    "\n",
    "phones = re.findall(r'[0-9]{2}\\-[0-9]{8}', data.text)\n",
    "emails = re.findall(r'([\\d\\w\\.\\-]+\\[at\\]*[\\d\\w\\.\\-]+\\.\\w+)', data.text)\n",
    "\n",
    "print(phones)"
   ]
  },
  {
   "cell_type": "markdown",
   "metadata": {},
   "source": [
    "### Exercises\n",
    "\n",
    "**Exercise 1**\n",
    "\n",
    "Extract the Emails and Phone numbers from this page using RegEx\n",
    "\n",
    "https://mmuexpert.mmu.edu.my/fci"
   ]
  },
  {
   "cell_type": "code",
   "execution_count": null,
   "metadata": {
    "tags": []
   },
   "outputs": [],
   "source": [
    "import requests\n",
    "import re\n",
    "\n",
    "url='https://mmuexpert.mmu.edu.my/fci'\n",
    " \n",
    "# get the data    \n",
    "data = requests.get(url)\n",
    "\n",
    "\n",
    "emails = re.findall(r'([\\d\\w\\.\\-]+@[\\d\\w\\.\\-]+\\.\\w+)', data.text)\n",
    "phones = re.findall(r'[0-9]{2}\\-[0-9]{8}', data.text)\n",
    "\n",
    "\n",
    "print (emails)\n",
    "print (phones)"
   ]
  },
  {
   "cell_type": "code",
   "execution_count": null,
   "metadata": {},
   "outputs": [],
   "source": [
    "print(phones)"
   ]
  },
  {
   "cell_type": "markdown",
   "metadata": {},
   "source": [
    "### HOMEWORK: Question 1\n",
    "\n",
    "-Create a dummy data in a string where it consists of malaysian number (both landline and phone).  \n",
    "-Additionally add a wrong number to prove the pattern matching works  \n",
    "-Use pattern matching to find all of them and ensure to factor both line number and phone."
   ]
  },
  {
   "cell_type": "markdown",
   "metadata": {},
   "source": [
    "### ANSWER for Question 1"
   ]
  },
  {
   "cell_type": "code",
   "execution_count": 31,
   "metadata": {},
   "outputs": [
    {
     "name": "stdout",
     "output_type": "stream",
     "text": [
      "Malaysian Landline Numbers: ['05-6886075', '03-88000088']\n",
      "Malaysian Mobile Numbers: ['05-6886075', '012-5069787', '011-11234800', '03-88000088']\n"
     ]
    }
   ],
   "source": [
    "import re\n",
    " \n",
    "phone_data = \"05-6886075 012-5069787 011-11234800 010-345987 03-88000088 03-123321\"\n",
    " \n",
    "landline_number = re.findall(r'(?<!\\d)(?:[0-9]{2})-[0-9]{7,8}', phone_data)\n",
    "mobile_number = re.findall(r'(?<!\\d)(?:[0-9]{2}|[0-9]{3})-[0-9]{7,8}', phone_data)\n",
    "\n",
    "print(f'Malaysian Landline Numbers: {landline_number}')\n",
    "print(f'Malaysian Mobile Numbers: {mobile_number}')"
   ]
  },
  {
   "cell_type": "markdown",
   "metadata": {},
   "source": [
    "### Discussion\n",
    "\n",
    "Is regex good for scraping non regular texts from Web pages?\n",
    "\n",
    "Eg. Look for all text between <li> and </li> \n",
    "\n",
    "can work? yes but how usable?\n",
    "\n",
    "Eg. Look for all names starting with Mr. and then extract the name. How?\n",
    "\n",
    "We need a better way to extract the meta data and elements about the web page. "
   ]
  },
  {
   "cell_type": "markdown",
   "metadata": {},
   "source": [
    "### r'\n",
    "\n",
    "https://docs.python.org/3/library/re.html\n",
    "\n",
    "<pre>\n",
    "Regular expressions use the backslash character ('\\') to indicate special forms or to allow special characters to be used without invoking their special meaning. This collides with Python’s usage of the same character for the same purpose in string literals; for example, to match a literal backslash, one might have to write '\\\\\\\\' as the pattern string, because the regular expression must be \\\\, and each backslash must be expressed as \\\\ inside a regular Python string literal. Also, please note that any invalid escape sequences in Python’s usage of the backslash in string literals now generate a DeprecationWarning and in the future this will become a SyntaxError. This behaviour will happen even if it is a valid escape sequence for a regular expression.\n",
    "\n",
    "The solution is to use Python’s raw string notation for regular expression patterns; backslashes are not handled in any special way in a string literal prefixed with 'r'. So r\"\\n\" is a two-character string containing '\\' and 'n', while \"\\n\" is a one-character string containing a newline. Usually patterns will be expressed in Python code using this raw string notation.\n",
    "</pre>\n",
    "\n",
    "\n",
    "**Note:**\n",
    "\n",
    "Alternative 3rd party regex implementation\n",
    "\n",
    "https://pypi.org/project/regex/\n",
    "\n",
    "Try it out own your own\n"
   ]
  },
  {
   "cell_type": "code",
   "execution_count": null,
   "metadata": {
    "tags": []
   },
   "outputs": [],
   "source": [
    "# Example\n",
    "\n",
    "teststring = 'this is \\n a test'\n",
    "\n",
    "print(teststring)\n"
   ]
  },
  {
   "cell_type": "code",
   "execution_count": null,
   "metadata": {
    "tags": []
   },
   "outputs": [],
   "source": [
    "# Example escape character \\ is now a raw string not an escape char\n",
    "\n",
    "teststring = r'this is \\n a test'\n",
    "\n",
    "print(teststring)\n"
   ]
  },
  {
   "cell_type": "code",
   "execution_count": null,
   "metadata": {
    "tags": []
   },
   "outputs": [],
   "source": [
    "# \\b Word boundary, allow to perform \"whole words only\" search\n",
    "\n",
    "import re\n",
    "\n",
    "re.findall('\\btest\\b', 'test this is a test') # the backslash gets consumed by the python string interpreter\n"
   ]
  },
  {
   "cell_type": "code",
   "execution_count": null,
   "metadata": {
    "tags": []
   },
   "outputs": [],
   "source": [
    "re.findall('\\\\btest\\\\b', 'test this is a test') # backslash is explicitly escaped and is passed through to re module\n"
   ]
  },
  {
   "cell_type": "code",
   "execution_count": null,
   "metadata": {
    "tags": []
   },
   "outputs": [],
   "source": [
    "re.findall(r'\\btest\\b', 'test this is a test') # often this syntax is easier\n"
   ]
  },
  {
   "cell_type": "code",
   "execution_count": null,
   "metadata": {},
   "outputs": [],
   "source": []
  }
 ],
 "metadata": {
  "anaconda-cloud": {},
  "colab": {
   "name": "P06 - Numpy.ipynb",
   "provenance": []
  },
  "kernelspec": {
   "display_name": "Python 3 (ipykernel)",
   "language": "python",
   "name": "python3"
  },
  "language_info": {
   "codemirror_mode": {
    "name": "ipython",
    "version": 3
   },
   "file_extension": ".py",
   "mimetype": "text/x-python",
   "name": "python",
   "nbconvert_exporter": "python",
   "pygments_lexer": "ipython3",
   "version": "3.10.13"
  }
 },
 "nbformat": 4,
 "nbformat_minor": 4
}
