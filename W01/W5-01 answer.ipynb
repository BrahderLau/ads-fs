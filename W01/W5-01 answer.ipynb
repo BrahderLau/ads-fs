{
 "cells": [
  {
   "cell_type": "code",
   "execution_count": 13,
   "id": "7c138833",
   "metadata": {},
   "outputs": [
    {
     "name": "stdout",
     "output_type": "stream",
     "text": [
      "['00123', '456', '0']\n"
     ]
    }
   ],
   "source": [
    "#1.\n",
    "#Try to write a code to extract only the digits from this String. (Spend not more than 10 minutes on this)\n",
    "\n",
    "example_str = \"abc00123xyz456_0\"\n",
    "\n",
    "answer = []\n",
    "answer.append(example_str[3:8])\n",
    "answer.append(example_str[-5:-2])\n",
    "answer.append(example_str[-1])\n",
    "\n",
    "print(answer)\n",
    "#answer = ['00123', '456', '0']"
   ]
  },
  {
   "cell_type": "code",
   "execution_count": null,
   "id": "bb4839ac",
   "metadata": {},
   "outputs": [],
   "source": [
    "# Exercise 1.\n",
    "import requests\n",
    "import re\n",
    "\n",
    "url='https://www.ksn.gov.my/mengenai-pejabat/direktori-pejabat'\n",
    " \n",
    "# get the data    \n",
    "data = requests.get(url)\n",
    "\n",
    "emails = re.findall(r'([\\d\\w\\.\\-]+\\[at\\]*[\\d\\w\\.\\-]+\\.\\w+)', data.text)\n",
    "\n",
    "phones = re.findall(r'(\\+[0-9]{3}(\\ |\\-)?[0-9]{4}\\ [0-9]{4})', data.text)\n",
    "\n",
    "print(phones)\n",
    "print(emails)"
   ]
  }
 ],
 "metadata": {
  "kernelspec": {
   "display_name": "Python 3 (ipykernel)",
   "language": "python",
   "name": "python3"
  },
  "language_info": {
   "codemirror_mode": {
    "name": "ipython",
    "version": 3
   },
   "file_extension": ".py",
   "mimetype": "text/x-python",
   "name": "python",
   "nbconvert_exporter": "python",
   "pygments_lexer": "ipython3",
   "version": "3.8.11"
  }
 },
 "nbformat": 4,
 "nbformat_minor": 5
}
