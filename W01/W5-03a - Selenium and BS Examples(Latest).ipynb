{
 "cells": [
  {
   "cell_type": "markdown",
   "metadata": {
    "id": "RJYXSx3cHl7b"
   },
   "source": [
    "# 4. Selenium and BeautifulSoup Examples"
   ]
  },
  {
   "cell_type": "code",
   "execution_count": null,
   "metadata": {
    "id": "UdKKEgXjHl7g",
    "tags": []
   },
   "outputs": [],
   "source": [
    "import time\n",
    "\n",
    "# from selenium import webdriver\n",
    "# from bs4 import BeautifulSoup\n",
    "# from webdriver_manager.chrome import ChromeDriverManager\n",
    "\n",
    "# # driver = webdriver.Chrome(ChromeDriverManager().install())\n",
    "# driver.get(\"https://www.ebay.com.my\")\n",
    "# htmlSource = driver.page_source\n",
    "\n",
    "\n",
    "from selenium import webdriver\n",
    "from selenium.webdriver.chrome.service import Service\n",
    "from selenium.webdriver.common.by import By"
   ]
  },
  {
   "cell_type": "code",
   "execution_count": null,
   "metadata": {
    "tags": []
   },
   "outputs": [],
   "source": [
    "service = Service(executable_path='/usr/local/bin/chromedriver')\n",
    "driver = webdriver.Chrome(service=service)\n",
    "driver.get(\"https://www.ebay.com.my\")\n",
    "htmlSource = driver.page_source"
   ]
  },
  {
   "cell_type": "code",
   "execution_count": null,
   "metadata": {
    "id": "ZwZnfkNXHl7i",
    "tags": []
   },
   "outputs": [],
   "source": [
    "##Page 1\n",
    "search_input = driver.find_element(By.ID, \"gh-ac\")\n",
    "search_input.send_keys(\"Xiaomi\")\n",
    "\n",
    "# Wait for 1 second (you can use WebDriverWait for better waiting)\n",
    "time.sleep(1)\n",
    "\n",
    "# Find the search button by its ID and click it\n",
    "search_button = driver.find_element(By.ID, \"gh-btn\")\n",
    "search_button.click()"
   ]
  },
  {
   "cell_type": "code",
   "execution_count": null,
   "metadata": {
    "id": "XzOJwtveHl7j",
    "tags": []
   },
   "outputs": [],
   "source": [
    "# Page 2\n",
    "soup = BeautifulSoup(driver.page_source,'html.parser')\n",
    "\n",
    "time.sleep(1)\n",
    "\n",
    "# soup_list = soup.findAll(\"h3\", attrs={\"class\":\"s-item__title\"})\n",
    "\n",
    "# soup_list = soup.findAll(\"h3\", attrs={\"class\":\"s-item__title\"})[0]\n",
    "\n",
    "# print(soup_list)\n",
    "\n",
    "soup_list = soup.findAll(\"a\", attrs={\"class\":\"s-item__link\"})\n",
    "print(soup_list)"
   ]
  },
  {
   "cell_type": "code",
   "execution_count": null,
   "metadata": {
    "id": "bdspEDylHl7l",
    "tags": []
   },
   "outputs": [],
   "source": [
    "# Page 2\n",
    "soup = BeautifulSoup(driver.page_source,'html.parser')\n",
    "\n",
    "soup_list = soup.findAll(\"a\", attrs={\"class\":\"s-item__link\"})[1]['href']\n",
    "\n",
    "print(soup_list)"
   ]
  },
  {
   "cell_type": "code",
   "execution_count": null,
   "metadata": {
    "id": "KviVpBSuHl7m",
    "tags": []
   },
   "outputs": [],
   "source": [
    "# Page 2\n",
    "soup = BeautifulSoup(driver.page_source,'html.parser')\n",
    "\n",
    "soup_list = soup.findAll(\"a\", attrs={\"class\":\"s-item__link\"})[1]['href']\n",
    "\n",
    "driver.get(soup_list)\n",
    "\n",
    "time.sleep(1)\n",
    "\n",
    "print(soup_list)"
   ]
  },
  {
   "cell_type": "markdown",
   "metadata": {
    "id": "TmXQtIlqHl7o"
   },
   "source": [
    "### find_element_by_xpath"
   ]
  },
  {
   "cell_type": "code",
   "execution_count": null,
   "metadata": {
    "id": "p5OHr1F3Hl7o",
    "tags": []
   },
   "outputs": [],
   "source": [
    "# from selenium import webdriver\n",
    "\n",
    "# driver = webdriver.Firefox() # to try with firefox webdriver\n",
    "driver.get('https://en.wikipedia.org/wiki/International_Space_Station')\n",
    "\n",
    "time.sleep(1)\n"
   ]
  },
  {
   "cell_type": "code",
   "execution_count": null,
   "metadata": {
    "id": "WHjw8t7uHl7p",
    "tags": []
   },
   "outputs": [],
   "source": [
    "# xPath option 1\n",
    "iss_table = driver.find_element(By.XPATH, \"/html/body/div[2]/div/div[3]/main/div[3]/div[3]/div[1]/table[5]\")\n",
    "\n",
    "iss_table_html = iss_table.get_attribute('outerHTML')\n",
    "\n",
    "# Print partially\n",
    "print(iss_table_html[:200])\n",
    "print('\\n. . .\\n')\n",
    "print(iss_table_html[-200:])\n",
    "\n",
    "# print(iss_table_html)\n",
    "\n",
    "# driver.close()\n"
   ]
  },
  {
   "cell_type": "code",
   "execution_count": null,
   "metadata": {
    "id": "-eRZvNfKHl7q",
    "tags": []
   },
   "outputs": [],
   "source": [
    "# for ipython notebook display\n",
    "# import IPython\n",
    "\n",
    "from IPython.core.display import display, HTML\n",
    "\n",
    "display(HTML(iss_table_html))"
   ]
  }
 ],
 "metadata": {
  "colab": {
   "name": "W5-03a - Selenium and BS Examples.ipynb",
   "provenance": []
  },
  "kernelspec": {
   "display_name": "Python 3 (ipykernel)",
   "language": "python",
   "name": "python3"
  },
  "language_info": {
   "codemirror_mode": {
    "name": "ipython",
    "version": 3
   },
   "file_extension": ".py",
   "mimetype": "text/x-python",
   "name": "python",
   "nbconvert_exporter": "python",
   "pygments_lexer": "ipython3",
   "version": "3.11.5"
  }
 },
 "nbformat": 4,
 "nbformat_minor": 4
}
